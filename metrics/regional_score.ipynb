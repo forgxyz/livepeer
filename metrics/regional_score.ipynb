{
 "cells": [
  {
   "cell_type": "code",
   "execution_count": 1,
   "metadata": {},
   "outputs": [],
   "source": [
    "import requests"
   ]
  },
  {
   "cell_type": "code",
   "execution_count": 2,
   "metadata": {},
   "outputs": [],
   "source": [
    "req = requests.get('https://leaderboard-serverless.vercel.app/api/aggregated_stats?orchestrator=0x525419ff5707190389bfb5c87c375d710f5fcb0e')"
   ]
  },
  {
   "cell_type": "code",
   "execution_count": 4,
   "metadata": {},
   "outputs": [
    {
     "data": {
      "text/plain": [
       "200"
      ]
     },
     "execution_count": 4,
     "metadata": {},
     "output_type": "execute_result"
    }
   ],
   "source": [
    "req.status_code"
   ]
  },
  {
   "cell_type": "code",
   "execution_count": 6,
   "metadata": {},
   "outputs": [
    {
     "data": {
      "text/plain": [
       "{'0x525419ff5707190389bfb5c87c375d710f5fcb0e': {'FRA': {'success_rate': 1,\n",
       "   'round_trip_score': 0.9999486451921127,\n",
       "   'score': 0.9999486451921127},\n",
       "  'LAX': {'success_rate': 1,\n",
       "   'round_trip_score': 0.8517853185370966,\n",
       "   'score': 0.8517853185370966},\n",
       "  'LON': {'success_rate': 1,\n",
       "   'round_trip_score': 0.9955623301234364,\n",
       "   'score': 0.9955623301234364},\n",
       "  'MDW': {'success_rate': 1,\n",
       "   'round_trip_score': 0.9814754331587389,\n",
       "   'score': 0.9814754331587389},\n",
       "  'NYC': {'success_rate': 1,\n",
       "   'round_trip_score': 0.9997970415466485,\n",
       "   'score': 0.9997970415466485},\n",
       "  'PRG': {'success_rate': 1,\n",
       "   'round_trip_score': 0.9976392970113229,\n",
       "   'score': 0.9976392970113229},\n",
       "  'SIN': {'success_rate': 0, 'round_trip_score': 0, 'score': 0}}}"
      ]
     },
     "execution_count": 6,
     "metadata": {},
     "output_type": "execute_result"
    }
   ],
   "source": [
    "req.json()"
   ]
  },
  {
   "cell_type": "markdown",
   "metadata": {},
   "source": [
    "pass **since** and **until** to designate timeframe  \n",
    "if neither are provided, it will return results for the past 24hrs  \n",
    "simply call for each orchestrator, as pulled w subgrounds and add max to a df  \n",
    "2 columns: region & score (max regional score is all that's requested...)"
   ]
  },
  {
   "cell_type": "code",
   "execution_count": 7,
   "metadata": {},
   "outputs": [],
   "source": [
    "from subgrounds.subgrounds import Subgrounds\n",
    "from subgrounds.plotly_wrappers import Bar, Figure\n",
    "\n",
    "import pandas as pd\n",
    "import plotly.express as px\n",
    "\n",
    "\n",
    "# initialize Subgrounds object\n",
    "sg = Subgrounds()\n",
    "\n",
    "# load livepeer subgraph\n",
    "lpt = sg.load_subgraph('https://api.thegraph.com/subgraphs/name/livepeer/livepeer')\n",
    "\n",
    "# define FieldPaths\n",
    "transcoders = lpt.Query.transcoders\n",
    "delegators = lpt.Query.delegators"
   ]
  },
  {
   "cell_type": "code",
   "execution_count": 10,
   "metadata": {},
   "outputs": [
    {
     "data": {
      "text/plain": [
       "[{'xa66920f9bee0490a': [{'id': '0x00803b76dc924ceabf4380a6f9edc2ddd3c90f38'},\n",
       "   {'id': '0x02b6aac33a397aaadee5227c70c69bb97f2cc529'},\n",
       "   {'id': '0x08f10d03a0cf7a9eaddc7eacd4cf135a07a0feff'},\n",
       "   {'id': '0x0d5a6601942bf92e7b259bfc6b56009e6a1c0ad2'},\n",
       "   {'id': '0x0fc80afb7876f579f1fb1c4d1c37cf1339038658'},\n",
       "   {'id': '0x104a7ca059a35fd4def5ecb16600b2caa1fe1361'},\n",
       "   {'id': '0x10742714f33f3d804e3fa489618b5c3ca12a6df7'},\n",
       "   {'id': '0x10b21af759129f32c6064adfb85d3ea2a8c0209c'},\n",
       "   {'id': '0x10e0a91e652b05e9c7449ff457cf2e96c3037fb7'},\n",
       "   {'id': '0x11b04d9a305abe978aeaddc67d9d09aaa4996090'},\n",
       "   {'id': '0x1d5919ebdc911ea2f3b9f6cdc6f8df8010b36541'},\n",
       "   {'id': '0x21d1130dc36958db75fbb0e5a9e3e5f5680238ff'},\n",
       "   {'id': '0x22ae24c2d1f489906266609d14c4c0387909a38a'},\n",
       "   {'id': '0x25fa0e2b1cd178e9ba706721313cc7cab315f520'},\n",
       "   {'id': '0x2e3a21ae7cdeb48f57fcad1ce16b258d5502ac05'},\n",
       "   {'id': '0x2ea8ad4e9101adbd2233a85c4e06503e7d5e1d8a'},\n",
       "   {'id': '0x3018741c62246bf56f6ed6142f2527acab34524c'},\n",
       "   {'id': '0x3333c47fc87b65cc7409c6a169db573247807b27'},\n",
       "   {'id': '0x33b4b951c8e2a0134f6512f806acbcd90677fa5b'},\n",
       "   {'id': '0x3a025488a37fecdb6ca8a4cbd72ba87a919d8bf3'},\n",
       "   {'id': '0x3b28a7d785356dc67c7970666747e042305bfb79'},\n",
       "   {'id': '0x3bbe84023c11c4874f493d70b370d26390e3c580'},\n",
       "   {'id': '0x3e2b450c0c499d8301146367680e067cd009db93'},\n",
       "   {'id': '0x41239fb65360981316fcb4a8548320d305f9496d'},\n",
       "   {'id': '0x432e26fc08f236c78fd237882018a95b4c0a3d2a'},\n",
       "   {'id': '0x43793ab4a56e5d4c263e6320d59072e01819b6c9'},\n",
       "   {'id': '0x44c98af5da6a31c422ee5eed18d53986dd9bc01e'},\n",
       "   {'id': '0x4712e01e944802613de3a0a6d23274e7e0243015'},\n",
       "   {'id': '0x4a43b1d7e6227c8b0512e413f406555647ff7bdb'},\n",
       "   {'id': '0x4bcc9256418b29c482596443fa5c99ae114b3351'},\n",
       "   {'id': '0x4f4758f7167b18e1f5b3c1a7575e3eb584894dbc'},\n",
       "   {'id': '0x4ff088ac5422f994486663ff903b040692797168'},\n",
       "   {'id': '0x525419ff5707190389bfb5c87c375d710f5fcb0e'},\n",
       "   {'id': '0x597ad7f7a1c9f8d0121a9e949cca7530f2b25ef6'},\n",
       "   {'id': '0x599f9f49e2ef93f07dc98a89ffeeb254926a1986'},\n",
       "   {'id': '0x5b5079b69a3f8dc07ca05ee301e39a08a002def3'},\n",
       "   {'id': '0x5be44e23041e93cdf9bcd5a0968524e104e38ae1'},\n",
       "   {'id': '0x5ccdfa9d9adef6b2960a3fdb29c5f29ad9f6f5f3'},\n",
       "   {'id': '0x5d11abd838073df76e32c495f97fd3239eabb9fb'},\n",
       "   {'id': '0x5ee7da5c64150b68131692c227192fb28a240e52'},\n",
       "   {'id': '0x685b3cf5b8fedfddc73f3486983f9432960488ba'},\n",
       "   {'id': '0x6a7e4a10fc22b8b8300c990f1bb4fd45ebffc51d'},\n",
       "   {'id': '0x6c06d3246fbb77c4ad75480e03d2a0a8eaf68121'},\n",
       "   {'id': '0x6cb1ce2516fb7d211038420a8cf9a843c7bd3b08'},\n",
       "   {'id': '0x731808ad8b1c3d13e8972db838ada5fc6ae3c2c8'},\n",
       "   {'id': '0x74ba897f65f04008d8eff364efcc54b0a20e17eb'},\n",
       "   {'id': '0x750fc601b63554a0d5636f11dbbf8e66a3166889'},\n",
       "   {'id': '0x76a65814b6e0fa5a3598ef6503fa1d990ec0e61a'},\n",
       "   {'id': '0x77543034d85ca10942685289e374a67e21a0f531'},\n",
       "   {'id': '0x78a5a644801f7f62b91f26032bc1b7976a4f6790'},\n",
       "   {'id': '0x808be72cea7310f1817759be52381fe116b792b3'},\n",
       "   {'id': '0x847791cbf03be716a7fe9dc8c9affe17bd49ae5e'},\n",
       "   {'id': '0x84939cbda5c5a83e0f0a23204953e105a31de584'},\n",
       "   {'id': '0x88e103b26e1a4ce226739d37d356b22afbfeed85'},\n",
       "   {'id': '0x8ad00ef5a4323ae2a5501c3baba3788547c6dd1c'},\n",
       "   {'id': '0x8ce915f5ea98aa782e373a69e19173daff5d8e59'},\n",
       "   {'id': '0x8d3803ecfe86afbb25899a806b46714914b0a4b5'},\n",
       "   {'id': '0x90b8b6cf5c923116273fbbee4f146ff83469a1ab'},\n",
       "   {'id': '0x942f0c28fb85ea0b50bfb76a3ecfa99861fa9b4b'},\n",
       "   {'id': '0x980998e39d29dc5a92e7403fc9cd47e68b63ad5f'},\n",
       "   {'id': '0x9c10672cee058fd658103d90872fe431bb6c0afa'},\n",
       "   {'id': '0x9c5874aa481b9c652d5420d65ce8becaad9ff3a7'},\n",
       "   {'id': '0x9d2b4e5c4b1fd81d06b883b0aca661b771c39ea3'},\n",
       "   {'id': '0x9d5611bf0dadddb4441a709141d9229d7f6b3e47'},\n",
       "   {'id': '0x9d61ae5875e89036fbf6059f3116d01a22ace3c8'},\n",
       "   {'id': '0x9e14de5cc84e437518c2c303c88570fe13f0ad15'},\n",
       "   {'id': '0x9e48d670d2bd7300796caa6c05e3d2cc41b8cb9c'},\n",
       "   {'id': '0xa20416801ac2eacf2372e825b4a90ef52490c2bb'},\n",
       "   {'id': '0xa408138c3c75c927b8614a24a39de02ffd71405f'},\n",
       "   {'id': '0xa6a9eb29e786b5233bd99c0ba28be882fe954a0e'},\n",
       "   {'id': '0xa7c3be4eb0268dcbefbd30d8f7ac8f1a57468032'},\n",
       "   {'id': '0xaafb1483c63fee231266639421dfc5bfa7970384'},\n",
       "   {'id': '0xb1f024bd59815fb77506548d30d3553b8240ffd7'},\n",
       "   {'id': '0xb3ec176da90524ae3ea530caca4d8afc84f10c09'},\n",
       "   {'id': '0xb5164d6b780786338c52f4787abba0e4a371af4d'},\n",
       "   {'id': '0xbac7744ada4ab1957cbaafef698b3c068beb4fe0'},\n",
       "   {'id': '0xbdcbe92befbf36d63ec547bba5842997d77dc841'},\n",
       "   {'id': '0xbe8770603daf200b1fa136ad354ba854928e602b'},\n",
       "   {'id': '0xbea1956531ebffd79b6c7a41fe88480cbcff4f2b'},\n",
       "   {'id': '0xcb69ffc06d3c218472c50ee25f5a1d3ca9650c44'},\n",
       "   {'id': '0xcfa2a70fdf74ebda788eeb1498425ceb0630e1cb'},\n",
       "   {'id': '0xd00354656922168815fcd1e51cbddb9e359e3c7f'},\n",
       "   {'id': '0xd0aa1b9d0cd06cafa6af5c1af272be88c38aa831'},\n",
       "   {'id': '0xd1366b85ea804cbb4493f2cc9d3d805f86bd61b2'},\n",
       "   {'id': '0xd18a02647d99dc9f79afbe0f58f8353178e6141f'},\n",
       "   {'id': '0xd84781e1a9b74d71ea76cda8bb9f30893bfd00d1'},\n",
       "   {'id': '0xda43d85b8d419a9c51bbf0089c9bd5169c23f2f9'},\n",
       "   {'id': '0xdac817294c0c87ca4fa1895ef4b972eade99f2fd'},\n",
       "   {'id': '0xddab9ddfa2a5a928a19dc5c02ceb5d2d53000d4c'},\n",
       "   {'id': '0xe0a4a877cd0a07da7c08dffebc2546a4713147f2'},\n",
       "   {'id': '0xe3a5793d7c1d2a04a903fa1695b3e3555d6084ca'},\n",
       "   {'id': '0xe3dd93281188d27762dc4d91fc90391c5210cd1d'},\n",
       "   {'id': '0xe8a62ca461264b3f8066668d9ecfdab401413621'},\n",
       "   {'id': '0xe9e284277648fcdb09b8efc1832c73c09b5ecf59'},\n",
       "   {'id': '0xf4e8ef0763bcb2b1af693f5970a00050a6ac7e1b'},\n",
       "   {'id': '0xf5a88945ce64b5648b895e05eb1edf693dde8905'},\n",
       "   {'id': '0xf63b84aaa39c4406ebf2d1e3d6acb1fb51f19dbd'},\n",
       "   {'id': '0xf7da517712844b47febe9973fb7712691fdf6e28'},\n",
       "   {'id': '0xf8ee1a8af53086b025dcc9b74a2444827d3ec64c'},\n",
       "   {'id': '0xf8fb0aef25b850dc8d8aeead92eb64a3010795a0'}]}]"
      ]
     },
     "execution_count": 10,
     "metadata": {},
     "output_type": "execute_result"
    }
   ],
   "source": [
    "active_transcoders = transcoders(\n",
    "    where=[\n",
    "        transcoders.active==True\n",
    "])\n",
    "\n",
    "addresses = sg.query_json([\n",
    "    active_transcoders.id\n",
    "])\n",
    "\n",
    "addresses"
   ]
  },
  {
   "cell_type": "code",
   "execution_count": 12,
   "metadata": {},
   "outputs": [
    {
     "data": {
      "text/plain": [
       "100"
      ]
     },
     "execution_count": 12,
     "metadata": {},
     "output_type": "execute_result"
    }
   ],
   "source": [
    "len(addresses[0]['xa66920f9bee0490a'])"
   ]
  },
  {
   "cell_type": "code",
   "execution_count": 13,
   "metadata": {},
   "outputs": [
    {
     "data": {
      "text/plain": [
       "[{'id': '0x00803b76dc924ceabf4380a6f9edc2ddd3c90f38'},\n",
       " {'id': '0x02b6aac33a397aaadee5227c70c69bb97f2cc529'},\n",
       " {'id': '0x08f10d03a0cf7a9eaddc7eacd4cf135a07a0feff'},\n",
       " {'id': '0x0d5a6601942bf92e7b259bfc6b56009e6a1c0ad2'},\n",
       " {'id': '0x0fc80afb7876f579f1fb1c4d1c37cf1339038658'},\n",
       " {'id': '0x104a7ca059a35fd4def5ecb16600b2caa1fe1361'},\n",
       " {'id': '0x10742714f33f3d804e3fa489618b5c3ca12a6df7'},\n",
       " {'id': '0x10b21af759129f32c6064adfb85d3ea2a8c0209c'},\n",
       " {'id': '0x10e0a91e652b05e9c7449ff457cf2e96c3037fb7'},\n",
       " {'id': '0x11b04d9a305abe978aeaddc67d9d09aaa4996090'},\n",
       " {'id': '0x1d5919ebdc911ea2f3b9f6cdc6f8df8010b36541'},\n",
       " {'id': '0x21d1130dc36958db75fbb0e5a9e3e5f5680238ff'},\n",
       " {'id': '0x22ae24c2d1f489906266609d14c4c0387909a38a'},\n",
       " {'id': '0x25fa0e2b1cd178e9ba706721313cc7cab315f520'},\n",
       " {'id': '0x2e3a21ae7cdeb48f57fcad1ce16b258d5502ac05'},\n",
       " {'id': '0x2ea8ad4e9101adbd2233a85c4e06503e7d5e1d8a'},\n",
       " {'id': '0x3018741c62246bf56f6ed6142f2527acab34524c'},\n",
       " {'id': '0x3333c47fc87b65cc7409c6a169db573247807b27'},\n",
       " {'id': '0x33b4b951c8e2a0134f6512f806acbcd90677fa5b'},\n",
       " {'id': '0x3a025488a37fecdb6ca8a4cbd72ba87a919d8bf3'},\n",
       " {'id': '0x3b28a7d785356dc67c7970666747e042305bfb79'},\n",
       " {'id': '0x3bbe84023c11c4874f493d70b370d26390e3c580'},\n",
       " {'id': '0x3e2b450c0c499d8301146367680e067cd009db93'},\n",
       " {'id': '0x41239fb65360981316fcb4a8548320d305f9496d'},\n",
       " {'id': '0x432e26fc08f236c78fd237882018a95b4c0a3d2a'},\n",
       " {'id': '0x43793ab4a56e5d4c263e6320d59072e01819b6c9'},\n",
       " {'id': '0x44c98af5da6a31c422ee5eed18d53986dd9bc01e'},\n",
       " {'id': '0x4712e01e944802613de3a0a6d23274e7e0243015'},\n",
       " {'id': '0x4a43b1d7e6227c8b0512e413f406555647ff7bdb'},\n",
       " {'id': '0x4bcc9256418b29c482596443fa5c99ae114b3351'},\n",
       " {'id': '0x4f4758f7167b18e1f5b3c1a7575e3eb584894dbc'},\n",
       " {'id': '0x4ff088ac5422f994486663ff903b040692797168'},\n",
       " {'id': '0x525419ff5707190389bfb5c87c375d710f5fcb0e'},\n",
       " {'id': '0x597ad7f7a1c9f8d0121a9e949cca7530f2b25ef6'},\n",
       " {'id': '0x599f9f49e2ef93f07dc98a89ffeeb254926a1986'},\n",
       " {'id': '0x5b5079b69a3f8dc07ca05ee301e39a08a002def3'},\n",
       " {'id': '0x5be44e23041e93cdf9bcd5a0968524e104e38ae1'},\n",
       " {'id': '0x5ccdfa9d9adef6b2960a3fdb29c5f29ad9f6f5f3'},\n",
       " {'id': '0x5d11abd838073df76e32c495f97fd3239eabb9fb'},\n",
       " {'id': '0x5ee7da5c64150b68131692c227192fb28a240e52'},\n",
       " {'id': '0x685b3cf5b8fedfddc73f3486983f9432960488ba'},\n",
       " {'id': '0x6a7e4a10fc22b8b8300c990f1bb4fd45ebffc51d'},\n",
       " {'id': '0x6c06d3246fbb77c4ad75480e03d2a0a8eaf68121'},\n",
       " {'id': '0x6cb1ce2516fb7d211038420a8cf9a843c7bd3b08'},\n",
       " {'id': '0x731808ad8b1c3d13e8972db838ada5fc6ae3c2c8'},\n",
       " {'id': '0x74ba897f65f04008d8eff364efcc54b0a20e17eb'},\n",
       " {'id': '0x750fc601b63554a0d5636f11dbbf8e66a3166889'},\n",
       " {'id': '0x76a65814b6e0fa5a3598ef6503fa1d990ec0e61a'},\n",
       " {'id': '0x77543034d85ca10942685289e374a67e21a0f531'},\n",
       " {'id': '0x78a5a644801f7f62b91f26032bc1b7976a4f6790'},\n",
       " {'id': '0x808be72cea7310f1817759be52381fe116b792b3'},\n",
       " {'id': '0x847791cbf03be716a7fe9dc8c9affe17bd49ae5e'},\n",
       " {'id': '0x84939cbda5c5a83e0f0a23204953e105a31de584'},\n",
       " {'id': '0x88e103b26e1a4ce226739d37d356b22afbfeed85'},\n",
       " {'id': '0x8ad00ef5a4323ae2a5501c3baba3788547c6dd1c'},\n",
       " {'id': '0x8ce915f5ea98aa782e373a69e19173daff5d8e59'},\n",
       " {'id': '0x8d3803ecfe86afbb25899a806b46714914b0a4b5'},\n",
       " {'id': '0x90b8b6cf5c923116273fbbee4f146ff83469a1ab'},\n",
       " {'id': '0x942f0c28fb85ea0b50bfb76a3ecfa99861fa9b4b'},\n",
       " {'id': '0x980998e39d29dc5a92e7403fc9cd47e68b63ad5f'},\n",
       " {'id': '0x9c10672cee058fd658103d90872fe431bb6c0afa'},\n",
       " {'id': '0x9c5874aa481b9c652d5420d65ce8becaad9ff3a7'},\n",
       " {'id': '0x9d2b4e5c4b1fd81d06b883b0aca661b771c39ea3'},\n",
       " {'id': '0x9d5611bf0dadddb4441a709141d9229d7f6b3e47'},\n",
       " {'id': '0x9d61ae5875e89036fbf6059f3116d01a22ace3c8'},\n",
       " {'id': '0x9e14de5cc84e437518c2c303c88570fe13f0ad15'},\n",
       " {'id': '0x9e48d670d2bd7300796caa6c05e3d2cc41b8cb9c'},\n",
       " {'id': '0xa20416801ac2eacf2372e825b4a90ef52490c2bb'},\n",
       " {'id': '0xa408138c3c75c927b8614a24a39de02ffd71405f'},\n",
       " {'id': '0xa6a9eb29e786b5233bd99c0ba28be882fe954a0e'},\n",
       " {'id': '0xa7c3be4eb0268dcbefbd30d8f7ac8f1a57468032'},\n",
       " {'id': '0xaafb1483c63fee231266639421dfc5bfa7970384'},\n",
       " {'id': '0xb1f024bd59815fb77506548d30d3553b8240ffd7'},\n",
       " {'id': '0xb3ec176da90524ae3ea530caca4d8afc84f10c09'},\n",
       " {'id': '0xb5164d6b780786338c52f4787abba0e4a371af4d'},\n",
       " {'id': '0xbac7744ada4ab1957cbaafef698b3c068beb4fe0'},\n",
       " {'id': '0xbdcbe92befbf36d63ec547bba5842997d77dc841'},\n",
       " {'id': '0xbe8770603daf200b1fa136ad354ba854928e602b'},\n",
       " {'id': '0xbea1956531ebffd79b6c7a41fe88480cbcff4f2b'},\n",
       " {'id': '0xcb69ffc06d3c218472c50ee25f5a1d3ca9650c44'},\n",
       " {'id': '0xcfa2a70fdf74ebda788eeb1498425ceb0630e1cb'},\n",
       " {'id': '0xd00354656922168815fcd1e51cbddb9e359e3c7f'},\n",
       " {'id': '0xd0aa1b9d0cd06cafa6af5c1af272be88c38aa831'},\n",
       " {'id': '0xd1366b85ea804cbb4493f2cc9d3d805f86bd61b2'},\n",
       " {'id': '0xd18a02647d99dc9f79afbe0f58f8353178e6141f'},\n",
       " {'id': '0xd84781e1a9b74d71ea76cda8bb9f30893bfd00d1'},\n",
       " {'id': '0xda43d85b8d419a9c51bbf0089c9bd5169c23f2f9'},\n",
       " {'id': '0xdac817294c0c87ca4fa1895ef4b972eade99f2fd'},\n",
       " {'id': '0xddab9ddfa2a5a928a19dc5c02ceb5d2d53000d4c'},\n",
       " {'id': '0xe0a4a877cd0a07da7c08dffebc2546a4713147f2'},\n",
       " {'id': '0xe3a5793d7c1d2a04a903fa1695b3e3555d6084ca'},\n",
       " {'id': '0xe3dd93281188d27762dc4d91fc90391c5210cd1d'},\n",
       " {'id': '0xe8a62ca461264b3f8066668d9ecfdab401413621'},\n",
       " {'id': '0xe9e284277648fcdb09b8efc1832c73c09b5ecf59'},\n",
       " {'id': '0xf4e8ef0763bcb2b1af693f5970a00050a6ac7e1b'},\n",
       " {'id': '0xf5a88945ce64b5648b895e05eb1edf693dde8905'},\n",
       " {'id': '0xf63b84aaa39c4406ebf2d1e3d6acb1fb51f19dbd'},\n",
       " {'id': '0xf7da517712844b47febe9973fb7712691fdf6e28'},\n",
       " {'id': '0xf8ee1a8af53086b025dcc9b74a2444827d3ec64c'},\n",
       " {'id': '0xf8fb0aef25b850dc8d8aeead92eb64a3010795a0'}]"
      ]
     },
     "execution_count": 13,
     "metadata": {},
     "output_type": "execute_result"
    }
   ],
   "source": [
    "addresses = addresses[0]['xa66920f9bee0490a']\n",
    "addresses"
   ]
  },
  {
   "cell_type": "code",
   "execution_count": 26,
   "metadata": {},
   "outputs": [
    {
     "name": "stdout",
     "output_type": "stream",
     "text": [
      "testing address 0x00803b76dc924ceabf4380a6f9edc2ddd3c90f38\n",
      "{}\n",
      "testing address 0x02b6aac33a397aaadee5227c70c69bb97f2cc529\n",
      "{'0x02b6aac33a397aaadee5227c70c69bb97f2cc529': {'FRA': {'success_rate': 0, 'round_trip_score': 0, 'score': 0}, 'LAX': {'success_rate': 0, 'round_trip_score': 0, 'score': 0}, 'LON': {'success_rate': 0, 'round_trip_score': 0, 'score': 0}, 'MDW': {'success_rate': 0, 'round_trip_score': 0, 'score': 0}, 'NYC': {'success_rate': 0, 'round_trip_score': 0, 'score': 0}, 'PRG': {'success_rate': 0, 'round_trip_score': 0, 'score': 0}, 'SIN': {'success_rate': 0, 'round_trip_score': 0, 'score': 0}}}\n",
      "testing address 0x08f10d03a0cf7a9eaddc7eacd4cf135a07a0feff\n",
      "{'0x08f10d03a0cf7a9eaddc7eacd4cf135a07a0feff': {'FRA': {'success_rate': 1, 'round_trip_score': 0.726167425154838, 'score': 0.726167425154838}, 'LAX': {'success_rate': 1, 'round_trip_score': 0.727551349524693, 'score': 0.727551349524693}, 'LON': {'success_rate': 1, 'round_trip_score': 0.7154682363766819, 'score': 0.7154682363766819}, 'MDW': {'success_rate': 0.6666666666666666, 'round_trip_score': 0.9877602547897396, 'score': 0.658506836526493}, 'NYC': {'success_rate': 1, 'round_trip_score': 0.9327682812612037, 'score': 0.9327682812612037}, 'PRG': {'success_rate': 1, 'round_trip_score': 0.6938710548485425, 'score': 0.6938710548485425}, 'SIN': {'success_rate': 0, 'round_trip_score': 0, 'score': 0}}}\n",
      "testing address 0x0d5a6601942bf92e7b259bfc6b56009e6a1c0ad2\n",
      "{}\n",
      "testing address 0x0fc80afb7876f579f1fb1c4d1c37cf1339038658\n",
      "{'0x0fc80afb7876f579f1fb1c4d1c37cf1339038658': {'FRA': {'success_rate': 1, 'round_trip_score': 0.8143737984142699, 'score': 0.8143737984142699}, 'LAX': {'success_rate': 0, 'round_trip_score': 0, 'score': 0}, 'LON': {'success_rate': 1, 'round_trip_score': 0.8547718074441808, 'score': 0.8547718074441808}, 'MDW': {'success_rate': 0.5, 'round_trip_score': 0.8983151254134404, 'score': 0.4491575627067202}, 'NYC': {'success_rate': 0.3333333333333333, 'round_trip_score': 0.5706782467701139, 'score': 0.19022608225670462}, 'PRG': {'success_rate': 0.5, 'round_trip_score': 0.9496089942413117, 'score': 0.47480449712065587}, 'SIN': {'success_rate': 0, 'round_trip_score': 0, 'score': 0}}}\n"
     ]
    }
   ],
   "source": [
    "sample = addresses[:5]\n",
    "# req = requests.get(f'https://leaderboard-serverless.vercel.app/api/aggregated_stats?orchestrator={address}')\n",
    "\n",
    "for pair in sample:\n",
    "    address = pair['id']\n",
    "    print(f'testing address {address}')\n",
    "    req = requests.get(f'https://leaderboard-serverless.vercel.app/api/aggregated_stats?orchestrator={address}')\n",
    "    print(req.json())\n",
    "    "
   ]
  },
  {
   "cell_type": "code",
   "execution_count": 27,
   "metadata": {},
   "outputs": [
    {
     "data": {
      "text/plain": [
       "{}"
      ]
     },
     "execution_count": 27,
     "metadata": {},
     "output_type": "execute_result"
    }
   ],
   "source": [
    "# manual test\n",
    "\n",
    "addr = '0x00803b76dc924ceabf4380a6f9edc2ddd3c90f38'\n",
    "\n",
    "req = requests.get(f'https://leaderboard-serverless.vercel.app/api/aggregated_stats?orchestrator={addr}')\n",
    "\n",
    "req.json()"
   ]
  },
  {
   "cell_type": "code",
   "execution_count": 33,
   "metadata": {},
   "outputs": [
    {
     "data": {
      "text/html": [
       "<div>\n",
       "<style scoped>\n",
       "    .dataframe tbody tr th:only-of-type {\n",
       "        vertical-align: middle;\n",
       "    }\n",
       "\n",
       "    .dataframe tbody tr th {\n",
       "        vertical-align: top;\n",
       "    }\n",
       "\n",
       "    .dataframe thead th {\n",
       "        text-align: right;\n",
       "    }\n",
       "</style>\n",
       "<table border=\"1\" class=\"dataframe\">\n",
       "  <thead>\n",
       "    <tr style=\"text-align: right;\">\n",
       "      <th></th>\n",
       "      <th>transcoders_id</th>\n",
       "      <th>transcoders_totalStake</th>\n",
       "      <th>transcoders_status</th>\n",
       "      <th>transcoders_lastRewardRound_id</th>\n",
       "      <th>transcoders_totalVolumeETH</th>\n",
       "    </tr>\n",
       "  </thead>\n",
       "  <tbody>\n",
       "    <tr>\n",
       "      <th>0</th>\n",
       "      <td>0x00803b76dc924ceabf4380a6f9edc2ddd3c90f38</td>\n",
       "      <td>100.115042</td>\n",
       "      <td>Registered</td>\n",
       "      <td>2208</td>\n",
       "      <td>0.18</td>\n",
       "    </tr>\n",
       "  </tbody>\n",
       "</table>\n",
       "</div>"
      ],
      "text/plain": [
       "                               transcoders_id  transcoders_totalStake  \\\n",
       "0  0x00803b76dc924ceabf4380a6f9edc2ddd3c90f38              100.115042   \n",
       "\n",
       "  transcoders_status transcoders_lastRewardRound_id  \\\n",
       "0         Registered                           2208   \n",
       "\n",
       "   transcoders_totalVolumeETH  \n",
       "0                        0.18  "
      ]
     },
     "execution_count": 33,
     "metadata": {},
     "output_type": "execute_result"
    }
   ],
   "source": [
    "# testing this address\n",
    "addr_data = active_transcoders(\n",
    "    where=[\n",
    "        transcoders.id == '0x00803b76dc924ceabf4380a6f9edc2ddd3c90f38'\n",
    "    ]\n",
    ")\n",
    "\n",
    "sg.query_df([\n",
    "    addr_data.id,\n",
    "    addr_data.totalStake,\n",
    "    addr_data.status,\n",
    "    addr_data.lastRewardRound.id,\n",
    "    addr_data.totalVolumeETH\n",
    "])"
   ]
  },
  {
   "cell_type": "markdown",
   "metadata": {},
   "source": [
    "last reward round was over 200 rounds ago. w/o parameters, api returns previous 24 hours so there will be some orchestrators with no data in that timeframe? maybe"
   ]
  },
  {
   "cell_type": "code",
   "execution_count": 35,
   "metadata": {},
   "outputs": [
    {
     "data": {
      "text/plain": [
       "{'0x08f10d03a0cf7a9eaddc7eacd4cf135a07a0feff': {'FRA': {'success_rate': 1,\n",
       "   'round_trip_score': 0.726167425154838,\n",
       "   'score': 0.726167425154838},\n",
       "  'LAX': {'success_rate': 1,\n",
       "   'round_trip_score': 0.727551349524693,\n",
       "   'score': 0.727551349524693},\n",
       "  'LON': {'success_rate': 1,\n",
       "   'round_trip_score': 0.7154682363766819,\n",
       "   'score': 0.7154682363766819},\n",
       "  'MDW': {'success_rate': 0.6666666666666666,\n",
       "   'round_trip_score': 0.9877602547897396,\n",
       "   'score': 0.658506836526493},\n",
       "  'NYC': {'success_rate': 1,\n",
       "   'round_trip_score': 0.9327682812612037,\n",
       "   'score': 0.9327682812612037},\n",
       "  'PRG': {'success_rate': 1,\n",
       "   'round_trip_score': 0.6938710548485425,\n",
       "   'score': 0.6938710548485425},\n",
       "  'SIN': {'success_rate': 0, 'round_trip_score': 0, 'score': 0}}}"
      ]
     },
     "execution_count": 35,
     "metadata": {},
     "output_type": "execute_result"
    }
   ],
   "source": [
    "test_req = requests.get(f'https://leaderboard-serverless.vercel.app/api/aggregated_stats?orchestrator=0x08f10d03a0cf7a9eaddc7eacd4cf135a07a0feff')\n",
    "\n",
    "sample_df_data = test_req.json()\n",
    "\n",
    "sample_df_data"
   ]
  },
  {
   "cell_type": "code",
   "execution_count": 45,
   "metadata": {},
   "outputs": [
    {
     "data": {
      "text/html": [
       "<div>\n",
       "<style scoped>\n",
       "    .dataframe tbody tr th:only-of-type {\n",
       "        vertical-align: middle;\n",
       "    }\n",
       "\n",
       "    .dataframe tbody tr th {\n",
       "        vertical-align: top;\n",
       "    }\n",
       "\n",
       "    .dataframe thead th {\n",
       "        text-align: right;\n",
       "    }\n",
       "</style>\n",
       "<table border=\"1\" class=\"dataframe\">\n",
       "  <thead>\n",
       "    <tr style=\"text-align: right;\">\n",
       "      <th></th>\n",
       "      <th>FRA</th>\n",
       "      <th>LAX</th>\n",
       "      <th>LON</th>\n",
       "      <th>MDW</th>\n",
       "      <th>NYC</th>\n",
       "      <th>PRG</th>\n",
       "      <th>SIN</th>\n",
       "    </tr>\n",
       "  </thead>\n",
       "  <tbody>\n",
       "    <tr>\n",
       "      <th>success_rate</th>\n",
       "      <td>1.000000</td>\n",
       "      <td>1.000000</td>\n",
       "      <td>1.000000</td>\n",
       "      <td>0.666667</td>\n",
       "      <td>1.000000</td>\n",
       "      <td>1.000000</td>\n",
       "      <td>0</td>\n",
       "    </tr>\n",
       "    <tr>\n",
       "      <th>round_trip_score</th>\n",
       "      <td>0.726167</td>\n",
       "      <td>0.727551</td>\n",
       "      <td>0.715468</td>\n",
       "      <td>0.987760</td>\n",
       "      <td>0.932768</td>\n",
       "      <td>0.693871</td>\n",
       "      <td>0</td>\n",
       "    </tr>\n",
       "    <tr>\n",
       "      <th>score</th>\n",
       "      <td>0.726167</td>\n",
       "      <td>0.727551</td>\n",
       "      <td>0.715468</td>\n",
       "      <td>0.658507</td>\n",
       "      <td>0.932768</td>\n",
       "      <td>0.693871</td>\n",
       "      <td>0</td>\n",
       "    </tr>\n",
       "  </tbody>\n",
       "</table>\n",
       "</div>"
      ],
      "text/plain": [
       "                       FRA       LAX       LON       MDW       NYC       PRG  \\\n",
       "success_rate      1.000000  1.000000  1.000000  0.666667  1.000000  1.000000   \n",
       "round_trip_score  0.726167  0.727551  0.715468  0.987760  0.932768  0.693871   \n",
       "score             0.726167  0.727551  0.715468  0.658507  0.932768  0.693871   \n",
       "\n",
       "                  SIN  \n",
       "success_rate        0  \n",
       "round_trip_score    0  \n",
       "score               0  "
      ]
     },
     "execution_count": 45,
     "metadata": {},
     "output_type": "execute_result"
    }
   ],
   "source": [
    "sample_df=pd.DataFrame.from_dict(sample_df_data['0x08f10d03a0cf7a9eaddc7eacd4cf135a07a0feff'])\n",
    "\n",
    "sample_df"
   ]
  },
  {
   "cell_type": "code",
   "execution_count": 48,
   "metadata": {},
   "outputs": [
    {
     "data": {
      "text/plain": [
       "0.9327682812612037"
      ]
     },
     "execution_count": 48,
     "metadata": {},
     "output_type": "execute_result"
    }
   ],
   "source": [
    "sample_df.T.max().score"
   ]
  },
  {
   "cell_type": "code",
   "execution_count": 60,
   "metadata": {},
   "outputs": [
    {
     "data": {
      "text/html": [
       "<div>\n",
       "<style scoped>\n",
       "    .dataframe tbody tr th:only-of-type {\n",
       "        vertical-align: middle;\n",
       "    }\n",
       "\n",
       "    .dataframe tbody tr th {\n",
       "        vertical-align: top;\n",
       "    }\n",
       "\n",
       "    .dataframe thead th {\n",
       "        text-align: right;\n",
       "    }\n",
       "</style>\n",
       "<table border=\"1\" class=\"dataframe\">\n",
       "  <thead>\n",
       "    <tr style=\"text-align: right;\">\n",
       "      <th></th>\n",
       "      <th>transcoders_id</th>\n",
       "      <th>score</th>\n",
       "    </tr>\n",
       "  </thead>\n",
       "  <tbody>\n",
       "  </tbody>\n",
       "</table>\n",
       "</div>"
      ],
      "text/plain": [
       "Empty DataFrame\n",
       "Columns: [transcoders_id, score]\n",
       "Index: []"
      ]
     },
     "execution_count": 60,
     "metadata": {},
     "output_type": "execute_result"
    }
   ],
   "source": [
    "score_df = pd.DataFrame(columns=['transcoders_id', 'score'])\n",
    "score_df"
   ]
  },
  {
   "cell_type": "code",
   "execution_count": 58,
   "metadata": {},
   "outputs": [],
   "source": [
    "temp_df = pd.DataFrame([{'transcoders_id': '0x08f10d03a0cf7a9eaddc7eacd4cf135a07a0feff', 'score': sample_df.T.max().score}])"
   ]
  },
  {
   "cell_type": "code",
   "execution_count": 59,
   "metadata": {},
   "outputs": [
    {
     "data": {
      "text/html": [
       "<div>\n",
       "<style scoped>\n",
       "    .dataframe tbody tr th:only-of-type {\n",
       "        vertical-align: middle;\n",
       "    }\n",
       "\n",
       "    .dataframe tbody tr th {\n",
       "        vertical-align: top;\n",
       "    }\n",
       "\n",
       "    .dataframe thead th {\n",
       "        text-align: right;\n",
       "    }\n",
       "</style>\n",
       "<table border=\"1\" class=\"dataframe\">\n",
       "  <thead>\n",
       "    <tr style=\"text-align: right;\">\n",
       "      <th></th>\n",
       "      <th>transcoders_id</th>\n",
       "      <th>score</th>\n",
       "    </tr>\n",
       "  </thead>\n",
       "  <tbody>\n",
       "    <tr>\n",
       "      <th>0</th>\n",
       "      <td>0x08f10d03a0cf7a9eaddc7eacd4cf135a07a0feff</td>\n",
       "      <td>0.932768</td>\n",
       "    </tr>\n",
       "  </tbody>\n",
       "</table>\n",
       "</div>"
      ],
      "text/plain": [
       "                               transcoders_id     score\n",
       "0  0x08f10d03a0cf7a9eaddc7eacd4cf135a07a0feff  0.932768"
      ]
     },
     "execution_count": 59,
     "metadata": {},
     "output_type": "execute_result"
    }
   ],
   "source": [
    "temp_df"
   ]
  },
  {
   "cell_type": "code",
   "execution_count": 61,
   "metadata": {},
   "outputs": [
    {
     "data": {
      "text/html": [
       "<div>\n",
       "<style scoped>\n",
       "    .dataframe tbody tr th:only-of-type {\n",
       "        vertical-align: middle;\n",
       "    }\n",
       "\n",
       "    .dataframe tbody tr th {\n",
       "        vertical-align: top;\n",
       "    }\n",
       "\n",
       "    .dataframe thead th {\n",
       "        text-align: right;\n",
       "    }\n",
       "</style>\n",
       "<table border=\"1\" class=\"dataframe\">\n",
       "  <thead>\n",
       "    <tr style=\"text-align: right;\">\n",
       "      <th></th>\n",
       "      <th>transcoders_id</th>\n",
       "      <th>score</th>\n",
       "    </tr>\n",
       "  </thead>\n",
       "  <tbody>\n",
       "    <tr>\n",
       "      <th>0</th>\n",
       "      <td>0x08f10d03a0cf7a9eaddc7eacd4cf135a07a0feff</td>\n",
       "      <td>0.932768</td>\n",
       "    </tr>\n",
       "  </tbody>\n",
       "</table>\n",
       "</div>"
      ],
      "text/plain": [
       "                               transcoders_id     score\n",
       "0  0x08f10d03a0cf7a9eaddc7eacd4cf135a07a0feff  0.932768"
      ]
     },
     "execution_count": 61,
     "metadata": {},
     "output_type": "execute_result"
    }
   ],
   "source": [
    "pd.concat([score_df,temp_df])"
   ]
  },
  {
   "cell_type": "code",
   "execution_count": 69,
   "metadata": {},
   "outputs": [
    {
     "name": "stdout",
     "output_type": "stream",
     "text": [
      "testing address 0x00803b76dc924ceabf4380a6f9edc2ddd3c90f38\n",
      "{}\n",
      "testing address 0x02b6aac33a397aaadee5227c70c69bb97f2cc529\n",
      "{'0x02b6aac33a397aaadee5227c70c69bb97f2cc529': {'FRA': {'success_rate': 0, 'round_trip_score': 0, 'score': 0}, 'LAX': {'success_rate': 0, 'round_trip_score': 0, 'score': 0}, 'LON': {'success_rate': 0, 'round_trip_score': 0, 'score': 0}, 'MDW': {'success_rate': 0, 'round_trip_score': 0, 'score': 0}, 'NYC': {'success_rate': 0, 'round_trip_score': 0, 'score': 0}, 'PRG': {'success_rate': 0, 'round_trip_score': 0, 'score': 0}, 'SIN': {'success_rate': 0, 'round_trip_score': 0, 'score': 0}}}\n",
      "testing address 0x08f10d03a0cf7a9eaddc7eacd4cf135a07a0feff\n",
      "{'0x08f10d03a0cf7a9eaddc7eacd4cf135a07a0feff': {'FRA': {'success_rate': 1, 'round_trip_score': 0.726167425154838, 'score': 0.726167425154838}, 'LAX': {'success_rate': 1, 'round_trip_score': 0.727551349524693, 'score': 0.727551349524693}, 'LON': {'success_rate': 1, 'round_trip_score': 0.7154682363766819, 'score': 0.7154682363766819}, 'MDW': {'success_rate': 0.6666666666666666, 'round_trip_score': 0.9877602547897396, 'score': 0.658506836526493}, 'NYC': {'success_rate': 1, 'round_trip_score': 0.9327682812612037, 'score': 0.9327682812612037}, 'PRG': {'success_rate': 1, 'round_trip_score': 0.6938710548485425, 'score': 0.6938710548485425}, 'SIN': {'success_rate': 0, 'round_trip_score': 0, 'score': 0}}}\n",
      "testing address 0x0d5a6601942bf92e7b259bfc6b56009e6a1c0ad2\n",
      "{}\n",
      "testing address 0x0fc80afb7876f579f1fb1c4d1c37cf1339038658\n",
      "{'0x0fc80afb7876f579f1fb1c4d1c37cf1339038658': {'FRA': {'success_rate': 1, 'round_trip_score': 0.8143737984142699, 'score': 0.8143737984142699}, 'LAX': {'success_rate': 0, 'round_trip_score': 0, 'score': 0}, 'LON': {'success_rate': 1, 'round_trip_score': 0.8547718074441808, 'score': 0.8547718074441808}, 'MDW': {'success_rate': 0.5, 'round_trip_score': 0.8983151254134404, 'score': 0.4491575627067202}, 'NYC': {'success_rate': 0.3333333333333333, 'round_trip_score': 0.5706782467701139, 'score': 0.19022608225670462}, 'PRG': {'success_rate': 0.5, 'round_trip_score': 0.9496089942413117, 'score': 0.47480449712065587}, 'SIN': {'success_rate': 0, 'round_trip_score': 0, 'score': 0}}}\n"
     ]
    },
    {
     "data": {
      "text/html": [
       "<div>\n",
       "<style scoped>\n",
       "    .dataframe tbody tr th:only-of-type {\n",
       "        vertical-align: middle;\n",
       "    }\n",
       "\n",
       "    .dataframe tbody tr th {\n",
       "        vertical-align: top;\n",
       "    }\n",
       "\n",
       "    .dataframe thead th {\n",
       "        text-align: right;\n",
       "    }\n",
       "</style>\n",
       "<table border=\"1\" class=\"dataframe\">\n",
       "  <thead>\n",
       "    <tr style=\"text-align: right;\">\n",
       "      <th></th>\n",
       "      <th>transcoders_id</th>\n",
       "      <th>score</th>\n",
       "    </tr>\n",
       "  </thead>\n",
       "  <tbody>\n",
       "    <tr>\n",
       "      <th>0</th>\n",
       "      <td>0x00803b76dc924ceabf4380a6f9edc2ddd3c90f38</td>\n",
       "      <td>None</td>\n",
       "    </tr>\n",
       "    <tr>\n",
       "      <th>0</th>\n",
       "      <td>0x02b6aac33a397aaadee5227c70c69bb97f2cc529</td>\n",
       "      <td>0</td>\n",
       "    </tr>\n",
       "    <tr>\n",
       "      <th>0</th>\n",
       "      <td>0x08f10d03a0cf7a9eaddc7eacd4cf135a07a0feff</td>\n",
       "      <td>0.932768</td>\n",
       "    </tr>\n",
       "    <tr>\n",
       "      <th>0</th>\n",
       "      <td>0x0d5a6601942bf92e7b259bfc6b56009e6a1c0ad2</td>\n",
       "      <td>None</td>\n",
       "    </tr>\n",
       "    <tr>\n",
       "      <th>0</th>\n",
       "      <td>0x0fc80afb7876f579f1fb1c4d1c37cf1339038658</td>\n",
       "      <td>0.854772</td>\n",
       "    </tr>\n",
       "  </tbody>\n",
       "</table>\n",
       "</div>"
      ],
      "text/plain": [
       "                               transcoders_id     score\n",
       "0  0x00803b76dc924ceabf4380a6f9edc2ddd3c90f38      None\n",
       "0  0x02b6aac33a397aaadee5227c70c69bb97f2cc529         0\n",
       "0  0x08f10d03a0cf7a9eaddc7eacd4cf135a07a0feff  0.932768\n",
       "0  0x0d5a6601942bf92e7b259bfc6b56009e6a1c0ad2      None\n",
       "0  0x0fc80afb7876f579f1fb1c4d1c37cf1339038658  0.854772"
      ]
     },
     "execution_count": 69,
     "metadata": {},
     "output_type": "execute_result"
    }
   ],
   "source": [
    "score_df = pd.DataFrame(columns=['transcoders_id', 'score'])\n",
    "\n",
    "\n",
    "for pair in sample:\n",
    "    address = pair['id']\n",
    "    print(f'testing address {address}')\n",
    "    req = requests.get(f'https://leaderboard-serverless.vercel.app/api/aggregated_stats?orchestrator={address}')\n",
    "    print(req.json())\n",
    "    if req.json() == {}:\n",
    "        temp_df = pd.DataFrame([{'transcoders_id': address, 'score': None}])\n",
    "        score_df = pd.concat([score_df,temp_df])\n",
    "        continue\n",
    "\n",
    "    max_score = pd.DataFrame.from_dict(req.json()[address]).T.max().score\n",
    "    temp_df = pd.DataFrame([{'transcoders_id': address, 'score': max_score}])\n",
    "    score_df = pd.concat([score_df,temp_df])\n",
    "\n",
    "\n",
    "score_df"
   ]
  },
  {
   "cell_type": "code",
   "execution_count": 70,
   "metadata": {},
   "outputs": [
    {
     "data": {
      "text/html": [
       "<div>\n",
       "<style scoped>\n",
       "    .dataframe tbody tr th:only-of-type {\n",
       "        vertical-align: middle;\n",
       "    }\n",
       "\n",
       "    .dataframe tbody tr th {\n",
       "        vertical-align: top;\n",
       "    }\n",
       "\n",
       "    .dataframe thead th {\n",
       "        text-align: right;\n",
       "    }\n",
       "</style>\n",
       "<table border=\"1\" class=\"dataframe\">\n",
       "  <thead>\n",
       "    <tr style=\"text-align: right;\">\n",
       "      <th></th>\n",
       "      <th>transcoders_id</th>\n",
       "      <th>score</th>\n",
       "    </tr>\n",
       "  </thead>\n",
       "  <tbody>\n",
       "    <tr>\n",
       "      <th>0</th>\n",
       "      <td>0x00803b76dc924ceabf4380a6f9edc2ddd3c90f38</td>\n",
       "      <td>None</td>\n",
       "    </tr>\n",
       "    <tr>\n",
       "      <th>0</th>\n",
       "      <td>0x02b6aac33a397aaadee5227c70c69bb97f2cc529</td>\n",
       "      <td>0</td>\n",
       "    </tr>\n",
       "    <tr>\n",
       "      <th>0</th>\n",
       "      <td>0x08f10d03a0cf7a9eaddc7eacd4cf135a07a0feff</td>\n",
       "      <td>0.932768</td>\n",
       "    </tr>\n",
       "    <tr>\n",
       "      <th>0</th>\n",
       "      <td>0x0d5a6601942bf92e7b259bfc6b56009e6a1c0ad2</td>\n",
       "      <td>None</td>\n",
       "    </tr>\n",
       "    <tr>\n",
       "      <th>0</th>\n",
       "      <td>0x0fc80afb7876f579f1fb1c4d1c37cf1339038658</td>\n",
       "      <td>0.854772</td>\n",
       "    </tr>\n",
       "    <tr>\n",
       "      <th>...</th>\n",
       "      <td>...</td>\n",
       "      <td>...</td>\n",
       "    </tr>\n",
       "    <tr>\n",
       "      <th>0</th>\n",
       "      <td>0xf5a88945ce64b5648b895e05eb1edf693dde8905</td>\n",
       "      <td>None</td>\n",
       "    </tr>\n",
       "    <tr>\n",
       "      <th>0</th>\n",
       "      <td>0xf63b84aaa39c4406ebf2d1e3d6acb1fb51f19dbd</td>\n",
       "      <td>None</td>\n",
       "    </tr>\n",
       "    <tr>\n",
       "      <th>0</th>\n",
       "      <td>0xf7da517712844b47febe9973fb7712691fdf6e28</td>\n",
       "      <td>0.333321</td>\n",
       "    </tr>\n",
       "    <tr>\n",
       "      <th>0</th>\n",
       "      <td>0xf8ee1a8af53086b025dcc9b74a2444827d3ec64c</td>\n",
       "      <td>None</td>\n",
       "    </tr>\n",
       "    <tr>\n",
       "      <th>0</th>\n",
       "      <td>0xf8fb0aef25b850dc8d8aeead92eb64a3010795a0</td>\n",
       "      <td>0</td>\n",
       "    </tr>\n",
       "  </tbody>\n",
       "</table>\n",
       "<p>100 rows × 2 columns</p>\n",
       "</div>"
      ],
      "text/plain": [
       "                                transcoders_id     score\n",
       "0   0x00803b76dc924ceabf4380a6f9edc2ddd3c90f38      None\n",
       "0   0x02b6aac33a397aaadee5227c70c69bb97f2cc529         0\n",
       "0   0x08f10d03a0cf7a9eaddc7eacd4cf135a07a0feff  0.932768\n",
       "0   0x0d5a6601942bf92e7b259bfc6b56009e6a1c0ad2      None\n",
       "0   0x0fc80afb7876f579f1fb1c4d1c37cf1339038658  0.854772\n",
       "..                                         ...       ...\n",
       "0   0xf5a88945ce64b5648b895e05eb1edf693dde8905      None\n",
       "0   0xf63b84aaa39c4406ebf2d1e3d6acb1fb51f19dbd      None\n",
       "0   0xf7da517712844b47febe9973fb7712691fdf6e28  0.333321\n",
       "0   0xf8ee1a8af53086b025dcc9b74a2444827d3ec64c      None\n",
       "0   0xf8fb0aef25b850dc8d8aeead92eb64a3010795a0         0\n",
       "\n",
       "[100 rows x 2 columns]"
      ]
     },
     "execution_count": 70,
     "metadata": {},
     "output_type": "execute_result"
    }
   ],
   "source": [
    "score_df = pd.DataFrame(columns=['transcoders_id', 'score'])\n",
    "\n",
    "\n",
    "for pair in addresses:\n",
    "    address = pair['id']\n",
    "    req = requests.get(f'https://leaderboard-serverless.vercel.app/api/aggregated_stats?orchestrator={address}')\n",
    "    if req.json() == {}:\n",
    "        temp_df = pd.DataFrame([{'transcoders_id': address, 'score': None}])\n",
    "        score_df = pd.concat([score_df,temp_df])\n",
    "        continue\n",
    "\n",
    "    max_score = pd.DataFrame.from_dict(req.json()[address]).T.max().score\n",
    "    temp_df = pd.DataFrame([{'transcoders_id': address, 'score': max_score}])\n",
    "    score_df = pd.concat([score_df,temp_df])\n",
    "\n",
    "\n",
    "score_df"
   ]
  },
  {
   "cell_type": "markdown",
   "metadata": {},
   "source": [
    "took 1m43s so clearly not the best way of doing that, but... it worked.\n",
    "run some spot checks"
   ]
  },
  {
   "cell_type": "code",
   "execution_count": 77,
   "metadata": {},
   "outputs": [
    {
     "data": {
      "text/plain": [
       "transcoders_id    100\n",
       "score              54\n",
       "dtype: int64"
      ]
     },
     "execution_count": 77,
     "metadata": {},
     "output_type": "execute_result"
    }
   ],
   "source": [
    "score_df.notnull().sum()"
   ]
  },
  {
   "cell_type": "markdown",
   "metadata": {},
   "source": [
    "so, 46 of the 100 orchestrators do not have a regional score in the past 24h..."
   ]
  },
  {
   "cell_type": "code",
   "execution_count": 80,
   "metadata": {},
   "outputs": [
    {
     "data": {
      "text/plain": [
       "{'0x08f10d03a0cf7a9eaddc7eacd4cf135a07a0feff': {'FRA': {'success_rate': 1,\n",
       "   'round_trip_score': 0.693883582531703,\n",
       "   'score': 0.693883582531703},\n",
       "  'LAX': {'success_rate': 1,\n",
       "   'round_trip_score': 0.690720946975681,\n",
       "   'score': 0.690720946975681},\n",
       "  'LON': {'success_rate': 1,\n",
       "   'round_trip_score': 0.703133113059462,\n",
       "   'score': 0.703133113059462},\n",
       "  'MDW': {'success_rate': 1,\n",
       "   'round_trip_score': 0.8923030924011266,\n",
       "   'score': 0.8923030924011266},\n",
       "  'NYC': {'success_rate': 1,\n",
       "   'round_trip_score': 0.9248791590877871,\n",
       "   'score': 0.9248791590877871},\n",
       "  'PRG': {'success_rate': 0.8888888888888888,\n",
       "   'round_trip_score': 0.49779626686284884,\n",
       "   'score': 0.4424855705447545},\n",
       "  'SIN': {'success_rate': 0.7333333333333334,\n",
       "   'round_trip_score': 0.46768646083049925,\n",
       "   'score': 0.34297007127569945}}}"
      ]
     },
     "execution_count": 80,
     "metadata": {},
     "output_type": "execute_result"
    }
   ],
   "source": [
    "since = '1644796800'\n",
    "until = '1644883200'\n",
    "address = '0x08f10d03a0cf7a9eaddc7eacd4cf135a07a0feff'\n",
    "\n",
    "req2 = requests.get(f'https://leaderboard-serverless.vercel.app/api/aggregated_stats?orchestrator={address}&since={since}&until={until}')\n",
    "\n",
    "req2.json()"
   ]
  },
  {
   "cell_type": "code",
   "execution_count": 85,
   "metadata": {},
   "outputs": [
    {
     "data": {
      "text/html": [
       "<div>\n",
       "<style scoped>\n",
       "    .dataframe tbody tr th:only-of-type {\n",
       "        vertical-align: middle;\n",
       "    }\n",
       "\n",
       "    .dataframe tbody tr th {\n",
       "        vertical-align: top;\n",
       "    }\n",
       "\n",
       "    .dataframe thead th {\n",
       "        text-align: right;\n",
       "    }\n",
       "</style>\n",
       "<table border=\"1\" class=\"dataframe\">\n",
       "  <thead>\n",
       "    <tr style=\"text-align: right;\">\n",
       "      <th></th>\n",
       "      <th>transcoders_id</th>\n",
       "      <th>score</th>\n",
       "    </tr>\n",
       "  </thead>\n",
       "  <tbody>\n",
       "    <tr>\n",
       "      <th>0</th>\n",
       "      <td>0x00803b76dc924ceabf4380a6f9edc2ddd3c90f38</td>\n",
       "      <td>0.853402</td>\n",
       "    </tr>\n",
       "    <tr>\n",
       "      <th>0</th>\n",
       "      <td>0x02b6aac33a397aaadee5227c70c69bb97f2cc529</td>\n",
       "      <td>0.943579</td>\n",
       "    </tr>\n",
       "    <tr>\n",
       "      <th>0</th>\n",
       "      <td>0x08f10d03a0cf7a9eaddc7eacd4cf135a07a0feff</td>\n",
       "      <td>0.924879</td>\n",
       "    </tr>\n",
       "    <tr>\n",
       "      <th>0</th>\n",
       "      <td>0x0d5a6601942bf92e7b259bfc6b56009e6a1c0ad2</td>\n",
       "      <td>0.997294</td>\n",
       "    </tr>\n",
       "    <tr>\n",
       "      <th>0</th>\n",
       "      <td>0x0fc80afb7876f579f1fb1c4d1c37cf1339038658</td>\n",
       "      <td>0.672729</td>\n",
       "    </tr>\n",
       "    <tr>\n",
       "      <th>...</th>\n",
       "      <td>...</td>\n",
       "      <td>...</td>\n",
       "    </tr>\n",
       "    <tr>\n",
       "      <th>0</th>\n",
       "      <td>0xf5a88945ce64b5648b895e05eb1edf693dde8905</td>\n",
       "      <td>0.63915</td>\n",
       "    </tr>\n",
       "    <tr>\n",
       "      <th>0</th>\n",
       "      <td>0xf63b84aaa39c4406ebf2d1e3d6acb1fb51f19dbd</td>\n",
       "      <td>0.537461</td>\n",
       "    </tr>\n",
       "    <tr>\n",
       "      <th>0</th>\n",
       "      <td>0xf7da517712844b47febe9973fb7712691fdf6e28</td>\n",
       "      <td>0.94607</td>\n",
       "    </tr>\n",
       "    <tr>\n",
       "      <th>0</th>\n",
       "      <td>0xf8ee1a8af53086b025dcc9b74a2444827d3ec64c</td>\n",
       "      <td>0</td>\n",
       "    </tr>\n",
       "    <tr>\n",
       "      <th>0</th>\n",
       "      <td>0xf8fb0aef25b850dc8d8aeead92eb64a3010795a0</td>\n",
       "      <td>0.914212</td>\n",
       "    </tr>\n",
       "  </tbody>\n",
       "</table>\n",
       "<p>100 rows × 2 columns</p>\n",
       "</div>"
      ],
      "text/plain": [
       "                                transcoders_id     score\n",
       "0   0x00803b76dc924ceabf4380a6f9edc2ddd3c90f38  0.853402\n",
       "0   0x02b6aac33a397aaadee5227c70c69bb97f2cc529  0.943579\n",
       "0   0x08f10d03a0cf7a9eaddc7eacd4cf135a07a0feff  0.924879\n",
       "0   0x0d5a6601942bf92e7b259bfc6b56009e6a1c0ad2  0.997294\n",
       "0   0x0fc80afb7876f579f1fb1c4d1c37cf1339038658  0.672729\n",
       "..                                         ...       ...\n",
       "0   0xf5a88945ce64b5648b895e05eb1edf693dde8905   0.63915\n",
       "0   0xf63b84aaa39c4406ebf2d1e3d6acb1fb51f19dbd  0.537461\n",
       "0   0xf7da517712844b47febe9973fb7712691fdf6e28   0.94607\n",
       "0   0xf8ee1a8af53086b025dcc9b74a2444827d3ec64c         0\n",
       "0   0xf8fb0aef25b850dc8d8aeead92eb64a3010795a0  0.914212\n",
       "\n",
       "[100 rows x 2 columns]"
      ]
     },
     "execution_count": 85,
     "metadata": {},
     "output_type": "execute_result"
    }
   ],
   "source": [
    "# run it back a few days as the arbitrum migration just happened\n",
    "\n",
    "\n",
    "score_df = pd.DataFrame(columns=['transcoders_id', 'score'])\n",
    "# 2/14-15\n",
    "since = '1644796800'\n",
    "until = '1644883200'\n",
    "\n",
    "\n",
    "for pair in addresses:\n",
    "    address = pair['id']\n",
    "    req = requests.get(f'https://leaderboard-serverless.vercel.app/api/aggregated_stats?orchestrator={address}&since={since}&until={until}')\n",
    "    if req.json() == {}:\n",
    "        temp_df = pd.DataFrame([{'transcoders_id': address, 'score': None}])\n",
    "        score_df = pd.concat([score_df,temp_df])\n",
    "        continue\n",
    "\n",
    "    max_score = pd.DataFrame.from_dict(req.json()[address]).T.max().score\n",
    "    temp_df = pd.DataFrame([{'transcoders_id': address, 'score': max_score}])\n",
    "    score_df = pd.concat([score_df,temp_df])\n",
    "\n",
    "\n",
    "score_df"
   ]
  },
  {
   "cell_type": "code",
   "execution_count": 86,
   "metadata": {},
   "outputs": [
    {
     "name": "stdout",
     "output_type": "stream",
     "text": [
      "<class 'pandas.core.frame.DataFrame'>\n",
      "Int64Index: 32 entries, 0 to 0\n",
      "Data columns (total 2 columns):\n",
      " #   Column          Non-Null Count  Dtype \n",
      "---  ------          --------------  ----- \n",
      " 0   transcoders_id  32 non-null     object\n",
      " 1   score           32 non-null     object\n",
      "dtypes: object(2)\n",
      "memory usage: 768.0+ bytes\n"
     ]
    }
   ],
   "source": [
    "score_df[score_df['score']==0].info()"
   ]
  },
  {
   "cell_type": "code",
   "execution_count": 88,
   "metadata": {},
   "outputs": [
    {
     "data": {
      "text/html": [
       "<div>\n",
       "<style scoped>\n",
       "    .dataframe tbody tr th:only-of-type {\n",
       "        vertical-align: middle;\n",
       "    }\n",
       "\n",
       "    .dataframe tbody tr th {\n",
       "        vertical-align: top;\n",
       "    }\n",
       "\n",
       "    .dataframe thead th {\n",
       "        text-align: right;\n",
       "    }\n",
       "</style>\n",
       "<table border=\"1\" class=\"dataframe\">\n",
       "  <thead>\n",
       "    <tr style=\"text-align: right;\">\n",
       "      <th></th>\n",
       "      <th>transcoders_id</th>\n",
       "      <th>score</th>\n",
       "    </tr>\n",
       "  </thead>\n",
       "  <tbody>\n",
       "    <tr>\n",
       "      <th>0</th>\n",
       "      <td>0x00803b76dc924ceabf4380a6f9edc2ddd3c90f38</td>\n",
       "      <td>0</td>\n",
       "    </tr>\n",
       "    <tr>\n",
       "      <th>0</th>\n",
       "      <td>0x02b6aac33a397aaadee5227c70c69bb97f2cc529</td>\n",
       "      <td>0.981715</td>\n",
       "    </tr>\n",
       "    <tr>\n",
       "      <th>0</th>\n",
       "      <td>0x08f10d03a0cf7a9eaddc7eacd4cf135a07a0feff</td>\n",
       "      <td>0.907446</td>\n",
       "    </tr>\n",
       "    <tr>\n",
       "      <th>0</th>\n",
       "      <td>0x0d5a6601942bf92e7b259bfc6b56009e6a1c0ad2</td>\n",
       "      <td>0.998105</td>\n",
       "    </tr>\n",
       "    <tr>\n",
       "      <th>0</th>\n",
       "      <td>0x0fc80afb7876f579f1fb1c4d1c37cf1339038658</td>\n",
       "      <td>0.65467</td>\n",
       "    </tr>\n",
       "    <tr>\n",
       "      <th>...</th>\n",
       "      <td>...</td>\n",
       "      <td>...</td>\n",
       "    </tr>\n",
       "    <tr>\n",
       "      <th>0</th>\n",
       "      <td>0xf5a88945ce64b5648b895e05eb1edf693dde8905</td>\n",
       "      <td>0.599504</td>\n",
       "    </tr>\n",
       "    <tr>\n",
       "      <th>0</th>\n",
       "      <td>0xf63b84aaa39c4406ebf2d1e3d6acb1fb51f19dbd</td>\n",
       "      <td>0.65365</td>\n",
       "    </tr>\n",
       "    <tr>\n",
       "      <th>0</th>\n",
       "      <td>0xf7da517712844b47febe9973fb7712691fdf6e28</td>\n",
       "      <td>0.614015</td>\n",
       "    </tr>\n",
       "    <tr>\n",
       "      <th>0</th>\n",
       "      <td>0xf8ee1a8af53086b025dcc9b74a2444827d3ec64c</td>\n",
       "      <td>0.747716</td>\n",
       "    </tr>\n",
       "    <tr>\n",
       "      <th>0</th>\n",
       "      <td>0xf8fb0aef25b850dc8d8aeead92eb64a3010795a0</td>\n",
       "      <td>0.939137</td>\n",
       "    </tr>\n",
       "  </tbody>\n",
       "</table>\n",
       "<p>100 rows × 2 columns</p>\n",
       "</div>"
      ],
      "text/plain": [
       "                                transcoders_id     score\n",
       "0   0x00803b76dc924ceabf4380a6f9edc2ddd3c90f38         0\n",
       "0   0x02b6aac33a397aaadee5227c70c69bb97f2cc529  0.981715\n",
       "0   0x08f10d03a0cf7a9eaddc7eacd4cf135a07a0feff  0.907446\n",
       "0   0x0d5a6601942bf92e7b259bfc6b56009e6a1c0ad2  0.998105\n",
       "0   0x0fc80afb7876f579f1fb1c4d1c37cf1339038658   0.65467\n",
       "..                                         ...       ...\n",
       "0   0xf5a88945ce64b5648b895e05eb1edf693dde8905  0.599504\n",
       "0   0xf63b84aaa39c4406ebf2d1e3d6acb1fb51f19dbd   0.65365\n",
       "0   0xf7da517712844b47febe9973fb7712691fdf6e28  0.614015\n",
       "0   0xf8ee1a8af53086b025dcc9b74a2444827d3ec64c  0.747716\n",
       "0   0xf8fb0aef25b850dc8d8aeead92eb64a3010795a0  0.939137\n",
       "\n",
       "[100 rows x 2 columns]"
      ]
     },
     "execution_count": 88,
     "metadata": {},
     "output_type": "execute_result"
    }
   ],
   "source": [
    "# 32 is a lot...\n",
    "\n",
    "score_df2 = pd.DataFrame(columns=['transcoders_id', 'score'])\n",
    "\n",
    "# 1/11-12\n",
    "since = '1641859200'\n",
    "until = '1641945600'\n",
    "\n",
    "\n",
    "for pair in addresses:\n",
    "    address = pair['id']\n",
    "    req = requests.get(f'https://leaderboard-serverless.vercel.app/api/aggregated_stats?orchestrator={address}&since={since}&until={until}')\n",
    "    if req.json() == {}:\n",
    "        temp_df = pd.DataFrame([{'transcoders_id': address, 'score': None}])\n",
    "        score_df2 = pd.concat([score_df2,temp_df])\n",
    "        continue\n",
    "\n",
    "    max_score = pd.DataFrame.from_dict(req.json()[address]).T.max().score\n",
    "    temp_df = pd.DataFrame([{'transcoders_id': address, 'score': max_score}])\n",
    "    score_df2 = pd.concat([score_df2,temp_df])\n",
    "\n",
    "\n",
    "score_df2"
   ]
  },
  {
   "cell_type": "code",
   "execution_count": 89,
   "metadata": {},
   "outputs": [
    {
     "name": "stdout",
     "output_type": "stream",
     "text": [
      "<class 'pandas.core.frame.DataFrame'>\n",
      "Int64Index: 28 entries, 0 to 0\n",
      "Data columns (total 2 columns):\n",
      " #   Column          Non-Null Count  Dtype \n",
      "---  ------          --------------  ----- \n",
      " 0   transcoders_id  28 non-null     object\n",
      " 1   score           28 non-null     object\n",
      "dtypes: object(2)\n",
      "memory usage: 672.0+ bytes\n"
     ]
    }
   ],
   "source": [
    "score_df2[score_df2['score']==0].info()"
   ]
  },
  {
   "cell_type": "markdown",
   "metadata": {},
   "source": [
    "28 a month prior ... could infer this as the freeloader rate  "
   ]
  },
  {
   "cell_type": "code",
   "execution_count": 91,
   "metadata": {},
   "outputs": [
    {
     "data": {
      "text/plain": [
       "{'0x9c10672cee058fd658103d90872fe431bb6c0afa': {'FRA': {'success_rate': 0,\n",
       "   'round_trip_score': 0,\n",
       "   'score': 0},\n",
       "  'LAX': {'success_rate': 0, 'round_trip_score': 0, 'score': 0},\n",
       "  'LON': {'success_rate': 0, 'round_trip_score': 0, 'score': 0},\n",
       "  'MDW': {'success_rate': 0, 'round_trip_score': 0, 'score': 0},\n",
       "  'NYC': {'success_rate': 0, 'round_trip_score': 0, 'score': 0},\n",
       "  'PRG': {'success_rate': 0, 'round_trip_score': 0, 'score': 0},\n",
       "  'SIN': {'success_rate': 0, 'round_trip_score': 0, 'score': 0}}}"
      ]
     },
     "execution_count": 91,
     "metadata": {},
     "output_type": "execute_result"
    }
   ],
   "source": [
    "# testing some of these\n",
    "\n",
    "since = '1641859200'\n",
    "until = '1641945600'\n",
    "\n",
    "address = '0x9c10672cee058fd658103d90872fe431bb6c0afa'\n",
    "\n",
    "req = requests.get(f'https://leaderboard-serverless.vercel.app/api/aggregated_stats?orchestrator={address}&since={since}&until={until}')\n",
    "\n",
    "req.json()"
   ]
  },
  {
   "cell_type": "markdown",
   "metadata": {},
   "source": [
    "... ? 8eth earned but regional score has been 0 ... not going to start pulling daily data here but that's odd.  \n",
    "probably farming lpt? not sure when the 8eth was earned anyway... could have started as a genuine orchestrator but found it more profitable to just earn staking rewards \n",
    "- if i were to follow-up, i'd calculate self-delegation % and compare to performance metrics\n",
    "- high self-delegation + low performance = freeloaders/locusts"
   ]
  }
 ],
 "metadata": {
  "interpreter": {
   "hash": "563be840b653d6630c07a864b812e97ed841739b8fd8cc2197c5e70bf46d08df"
  },
  "kernelspec": {
   "display_name": "Python 3.10.2 ('lptenv': venv)",
   "language": "python",
   "name": "python3"
  },
  "language_info": {
   "codemirror_mode": {
    "name": "ipython",
    "version": 3
   },
   "file_extension": ".py",
   "mimetype": "text/x-python",
   "name": "python",
   "nbconvert_exporter": "python",
   "pygments_lexer": "ipython3",
   "version": "3.10.2"
  },
  "orig_nbformat": 4
 },
 "nbformat": 4,
 "nbformat_minor": 2
}
