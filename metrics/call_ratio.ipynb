{
 "cells": [
  {
   "cell_type": "code",
   "execution_count": 1,
   "metadata": {},
   "outputs": [],
   "source": [
    "from subgrounds.subgrounds import Subgrounds\n",
    "from subgrounds.plotly_wrappers import Bar, Figure\n",
    "\n",
    "import pandas as pd"
   ]
  },
  {
   "cell_type": "code",
   "execution_count": 2,
   "metadata": {},
   "outputs": [],
   "source": [
    "# initialize Subgrounds object\n",
    "sg = Subgrounds()\n",
    "\n",
    "# load livepeer subgraph\n",
    "lpt = sg.load_subgraph('https://api.thegraph.com/subgraphs/name/livepeer/livepeer')\n",
    "\n",
    "# define FieldPaths\n",
    "transcoders = lpt.Query.transcoders\n",
    "delegators = lpt.Query.delegators\n"
   ]
  },
  {
   "cell_type": "code",
   "execution_count": 3,
   "metadata": {},
   "outputs": [],
   "source": [
    "# call ratio\n",
    "active_transcoders = transcoders(\n",
    "    orderBy=transcoders.totalStake,\n",
    "    orderDirection='desc',\n",
    "    first=100, # know that there are 348. expanding for testing\n",
    "    where=[\n",
    "        transcoders.active == True\n",
    "    ]\n",
    ")\n",
    "\n",
    "active_pools = active_transcoders.pools(\n",
    "    first=30,\n",
    "    # there was a bug in 0.0.5 that did not handle null values, reported to team\n",
    "    # thank fuck, that was a pita workaround to exclude nulls\n",
    "    # where=[\n",
    "    #     active_transcoders.pools.rewardTokens != None\n",
    "    # ]\n",
    ")\n",
    "\n",
    "pool_rewards = sg.query_df([\n",
    "    active_transcoders.id,\n",
    "    active_pools.round.id,\n",
    "    active_pools.rewardTokens\n",
    "])"
   ]
  },
  {
   "cell_type": "code",
   "execution_count": 4,
   "metadata": {},
   "outputs": [
    {
     "data": {
      "text/html": [
       "<div>\n",
       "<style scoped>\n",
       "    .dataframe tbody tr th:only-of-type {\n",
       "        vertical-align: middle;\n",
       "    }\n",
       "\n",
       "    .dataframe tbody tr th {\n",
       "        vertical-align: top;\n",
       "    }\n",
       "\n",
       "    .dataframe thead th {\n",
       "        text-align: right;\n",
       "    }\n",
       "</style>\n",
       "<table border=\"1\" class=\"dataframe\">\n",
       "  <thead>\n",
       "    <tr style=\"text-align: right;\">\n",
       "      <th></th>\n",
       "      <th>transcoders_id</th>\n",
       "      <th>transcoders_pools_round_id</th>\n",
       "      <th>transcoders_pools_rewardTokens</th>\n",
       "    </tr>\n",
       "  </thead>\n",
       "  <tbody>\n",
       "    <tr>\n",
       "      <th>0</th>\n",
       "      <td>0x9c10672cee058fd658103d90872fe431bb6c0afa</td>\n",
       "      <td>1317</td>\n",
       "      <td>70.798464</td>\n",
       "    </tr>\n",
       "    <tr>\n",
       "      <th>1</th>\n",
       "      <td>0x9c10672cee058fd658103d90872fe431bb6c0afa</td>\n",
       "      <td>1318</td>\n",
       "      <td>71.009434</td>\n",
       "    </tr>\n",
       "    <tr>\n",
       "      <th>2</th>\n",
       "      <td>0x9c10672cee058fd658103d90872fe431bb6c0afa</td>\n",
       "      <td>1319</td>\n",
       "      <td>71.315195</td>\n",
       "    </tr>\n",
       "    <tr>\n",
       "      <th>3</th>\n",
       "      <td>0x9c10672cee058fd658103d90872fe431bb6c0afa</td>\n",
       "      <td>1320</td>\n",
       "      <td>71.683247</td>\n",
       "    </tr>\n",
       "    <tr>\n",
       "      <th>4</th>\n",
       "      <td>0x9c10672cee058fd658103d90872fe431bb6c0afa</td>\n",
       "      <td>1321</td>\n",
       "      <td>71.929907</td>\n",
       "    </tr>\n",
       "    <tr>\n",
       "      <th>5</th>\n",
       "      <td>0x9c10672cee058fd658103d90872fe431bb6c0afa</td>\n",
       "      <td>1322</td>\n",
       "      <td>72.130936</td>\n",
       "    </tr>\n",
       "    <tr>\n",
       "      <th>6</th>\n",
       "      <td>0x9c10672cee058fd658103d90872fe431bb6c0afa</td>\n",
       "      <td>1323</td>\n",
       "      <td>72.177503</td>\n",
       "    </tr>\n",
       "    <tr>\n",
       "      <th>7</th>\n",
       "      <td>0x9c10672cee058fd658103d90872fe431bb6c0afa</td>\n",
       "      <td>1324</td>\n",
       "      <td>72.689197</td>\n",
       "    </tr>\n",
       "    <tr>\n",
       "      <th>8</th>\n",
       "      <td>0x9c10672cee058fd658103d90872fe431bb6c0afa</td>\n",
       "      <td>1325</td>\n",
       "      <td>72.922845</td>\n",
       "    </tr>\n",
       "    <tr>\n",
       "      <th>9</th>\n",
       "      <td>0x9c10672cee058fd658103d90872fe431bb6c0afa</td>\n",
       "      <td>1326</td>\n",
       "      <td>73.031857</td>\n",
       "    </tr>\n",
       "    <tr>\n",
       "      <th>10</th>\n",
       "      <td>0x9c10672cee058fd658103d90872fe431bb6c0afa</td>\n",
       "      <td>1327</td>\n",
       "      <td>79.594061</td>\n",
       "    </tr>\n",
       "    <tr>\n",
       "      <th>11</th>\n",
       "      <td>0x9c10672cee058fd658103d90872fe431bb6c0afa</td>\n",
       "      <td>1328</td>\n",
       "      <td>79.867596</td>\n",
       "    </tr>\n",
       "    <tr>\n",
       "      <th>12</th>\n",
       "      <td>0x9c10672cee058fd658103d90872fe431bb6c0afa</td>\n",
       "      <td>1329</td>\n",
       "      <td>80.110208</td>\n",
       "    </tr>\n",
       "    <tr>\n",
       "      <th>13</th>\n",
       "      <td>0x9c10672cee058fd658103d90872fe431bb6c0afa</td>\n",
       "      <td>1330</td>\n",
       "      <td>80.385053</td>\n",
       "    </tr>\n",
       "    <tr>\n",
       "      <th>14</th>\n",
       "      <td>0x9c10672cee058fd658103d90872fe431bb6c0afa</td>\n",
       "      <td>1331</td>\n",
       "      <td>235.099478</td>\n",
       "    </tr>\n",
       "    <tr>\n",
       "      <th>15</th>\n",
       "      <td>0x9c10672cee058fd658103d90872fe431bb6c0afa</td>\n",
       "      <td>1332</td>\n",
       "      <td>NaN</td>\n",
       "    </tr>\n",
       "    <tr>\n",
       "      <th>16</th>\n",
       "      <td>0x9c10672cee058fd658103d90872fe431bb6c0afa</td>\n",
       "      <td>1333</td>\n",
       "      <td>236.111295</td>\n",
       "    </tr>\n",
       "    <tr>\n",
       "      <th>17</th>\n",
       "      <td>0x9c10672cee058fd658103d90872fe431bb6c0afa</td>\n",
       "      <td>1334</td>\n",
       "      <td>NaN</td>\n",
       "    </tr>\n",
       "    <tr>\n",
       "      <th>18</th>\n",
       "      <td>0x9c10672cee058fd658103d90872fe431bb6c0afa</td>\n",
       "      <td>1335</td>\n",
       "      <td>NaN</td>\n",
       "    </tr>\n",
       "    <tr>\n",
       "      <th>19</th>\n",
       "      <td>0x9c10672cee058fd658103d90872fe431bb6c0afa</td>\n",
       "      <td>1336</td>\n",
       "      <td>NaN</td>\n",
       "    </tr>\n",
       "    <tr>\n",
       "      <th>20</th>\n",
       "      <td>0x9c10672cee058fd658103d90872fe431bb6c0afa</td>\n",
       "      <td>1337</td>\n",
       "      <td>NaN</td>\n",
       "    </tr>\n",
       "    <tr>\n",
       "      <th>21</th>\n",
       "      <td>0x9c10672cee058fd658103d90872fe431bb6c0afa</td>\n",
       "      <td>1338</td>\n",
       "      <td>235.624113</td>\n",
       "    </tr>\n",
       "    <tr>\n",
       "      <th>22</th>\n",
       "      <td>0x9c10672cee058fd658103d90872fe431bb6c0afa</td>\n",
       "      <td>1355</td>\n",
       "      <td>162.967684</td>\n",
       "    </tr>\n",
       "    <tr>\n",
       "      <th>23</th>\n",
       "      <td>0x9c10672cee058fd658103d90872fe431bb6c0afa</td>\n",
       "      <td>1356</td>\n",
       "      <td>163.431744</td>\n",
       "    </tr>\n",
       "    <tr>\n",
       "      <th>24</th>\n",
       "      <td>0x9c10672cee058fd658103d90872fe431bb6c0afa</td>\n",
       "      <td>1357</td>\n",
       "      <td>164.334113</td>\n",
       "    </tr>\n",
       "    <tr>\n",
       "      <th>25</th>\n",
       "      <td>0x9c10672cee058fd658103d90872fe431bb6c0afa</td>\n",
       "      <td>1358</td>\n",
       "      <td>164.116658</td>\n",
       "    </tr>\n",
       "    <tr>\n",
       "      <th>26</th>\n",
       "      <td>0x9c10672cee058fd658103d90872fe431bb6c0afa</td>\n",
       "      <td>1359</td>\n",
       "      <td>164.635347</td>\n",
       "    </tr>\n",
       "    <tr>\n",
       "      <th>27</th>\n",
       "      <td>0x9c10672cee058fd658103d90872fe431bb6c0afa</td>\n",
       "      <td>1360</td>\n",
       "      <td>165.155301</td>\n",
       "    </tr>\n",
       "    <tr>\n",
       "      <th>28</th>\n",
       "      <td>0x9c10672cee058fd658103d90872fe431bb6c0afa</td>\n",
       "      <td>1361</td>\n",
       "      <td>165.765275</td>\n",
       "    </tr>\n",
       "    <tr>\n",
       "      <th>29</th>\n",
       "      <td>0x9c10672cee058fd658103d90872fe431bb6c0afa</td>\n",
       "      <td>1362</td>\n",
       "      <td>166.288093</td>\n",
       "    </tr>\n",
       "    <tr>\n",
       "      <th>30</th>\n",
       "      <td>0xda43d85b8d419a9c51bbf0089c9bd5169c23f2f9</td>\n",
       "      <td>1081</td>\n",
       "      <td>45.776365</td>\n",
       "    </tr>\n",
       "    <tr>\n",
       "      <th>31</th>\n",
       "      <td>0xda43d85b8d419a9c51bbf0089c9bd5169c23f2f9</td>\n",
       "      <td>1082</td>\n",
       "      <td>66.914339</td>\n",
       "    </tr>\n",
       "    <tr>\n",
       "      <th>32</th>\n",
       "      <td>0xda43d85b8d419a9c51bbf0089c9bd5169c23f2f9</td>\n",
       "      <td>1083</td>\n",
       "      <td>66.941976</td>\n",
       "    </tr>\n",
       "    <tr>\n",
       "      <th>33</th>\n",
       "      <td>0xda43d85b8d419a9c51bbf0089c9bd5169c23f2f9</td>\n",
       "      <td>1084</td>\n",
       "      <td>NaN</td>\n",
       "    </tr>\n",
       "    <tr>\n",
       "      <th>34</th>\n",
       "      <td>0xda43d85b8d419a9c51bbf0089c9bd5169c23f2f9</td>\n",
       "      <td>1085</td>\n",
       "      <td>NaN</td>\n",
       "    </tr>\n",
       "    <tr>\n",
       "      <th>35</th>\n",
       "      <td>0xda43d85b8d419a9c51bbf0089c9bd5169c23f2f9</td>\n",
       "      <td>1086</td>\n",
       "      <td>NaN</td>\n",
       "    </tr>\n",
       "    <tr>\n",
       "      <th>36</th>\n",
       "      <td>0xda43d85b8d419a9c51bbf0089c9bd5169c23f2f9</td>\n",
       "      <td>1087</td>\n",
       "      <td>65.056255</td>\n",
       "    </tr>\n",
       "    <tr>\n",
       "      <th>37</th>\n",
       "      <td>0xda43d85b8d419a9c51bbf0089c9bd5169c23f2f9</td>\n",
       "      <td>1088</td>\n",
       "      <td>65.128255</td>\n",
       "    </tr>\n",
       "    <tr>\n",
       "      <th>38</th>\n",
       "      <td>0xda43d85b8d419a9c51bbf0089c9bd5169c23f2f9</td>\n",
       "      <td>1089</td>\n",
       "      <td>96.551169</td>\n",
       "    </tr>\n",
       "    <tr>\n",
       "      <th>39</th>\n",
       "      <td>0xda43d85b8d419a9c51bbf0089c9bd5169c23f2f9</td>\n",
       "      <td>1090</td>\n",
       "      <td>110.791879</td>\n",
       "    </tr>\n",
       "    <tr>\n",
       "      <th>40</th>\n",
       "      <td>0xda43d85b8d419a9c51bbf0089c9bd5169c23f2f9</td>\n",
       "      <td>1091</td>\n",
       "      <td>111.060695</td>\n",
       "    </tr>\n",
       "    <tr>\n",
       "      <th>41</th>\n",
       "      <td>0xda43d85b8d419a9c51bbf0089c9bd5169c23f2f9</td>\n",
       "      <td>1092</td>\n",
       "      <td>140.078489</td>\n",
       "    </tr>\n",
       "    <tr>\n",
       "      <th>42</th>\n",
       "      <td>0xda43d85b8d419a9c51bbf0089c9bd5169c23f2f9</td>\n",
       "      <td>1093</td>\n",
       "      <td>141.123911</td>\n",
       "    </tr>\n",
       "    <tr>\n",
       "      <th>43</th>\n",
       "      <td>0xda43d85b8d419a9c51bbf0089c9bd5169c23f2f9</td>\n",
       "      <td>1094</td>\n",
       "      <td>141.535285</td>\n",
       "    </tr>\n",
       "    <tr>\n",
       "      <th>44</th>\n",
       "      <td>0xda43d85b8d419a9c51bbf0089c9bd5169c23f2f9</td>\n",
       "      <td>1095</td>\n",
       "      <td>141.309320</td>\n",
       "    </tr>\n",
       "    <tr>\n",
       "      <th>45</th>\n",
       "      <td>0xda43d85b8d419a9c51bbf0089c9bd5169c23f2f9</td>\n",
       "      <td>1096</td>\n",
       "      <td>188.110223</td>\n",
       "    </tr>\n",
       "    <tr>\n",
       "      <th>46</th>\n",
       "      <td>0xda43d85b8d419a9c51bbf0089c9bd5169c23f2f9</td>\n",
       "      <td>1097</td>\n",
       "      <td>194.978628</td>\n",
       "    </tr>\n",
       "    <tr>\n",
       "      <th>47</th>\n",
       "      <td>0xda43d85b8d419a9c51bbf0089c9bd5169c23f2f9</td>\n",
       "      <td>1098</td>\n",
       "      <td>213.036764</td>\n",
       "    </tr>\n",
       "    <tr>\n",
       "      <th>48</th>\n",
       "      <td>0xda43d85b8d419a9c51bbf0089c9bd5169c23f2f9</td>\n",
       "      <td>1099</td>\n",
       "      <td>230.382092</td>\n",
       "    </tr>\n",
       "    <tr>\n",
       "      <th>49</th>\n",
       "      <td>0xda43d85b8d419a9c51bbf0089c9bd5169c23f2f9</td>\n",
       "      <td>1100</td>\n",
       "      <td>234.451764</td>\n",
       "    </tr>\n",
       "    <tr>\n",
       "      <th>50</th>\n",
       "      <td>0xda43d85b8d419a9c51bbf0089c9bd5169c23f2f9</td>\n",
       "      <td>1101</td>\n",
       "      <td>239.956383</td>\n",
       "    </tr>\n",
       "    <tr>\n",
       "      <th>51</th>\n",
       "      <td>0xda43d85b8d419a9c51bbf0089c9bd5169c23f2f9</td>\n",
       "      <td>1102</td>\n",
       "      <td>245.118498</td>\n",
       "    </tr>\n",
       "    <tr>\n",
       "      <th>52</th>\n",
       "      <td>0xda43d85b8d419a9c51bbf0089c9bd5169c23f2f9</td>\n",
       "      <td>1103</td>\n",
       "      <td>239.487256</td>\n",
       "    </tr>\n",
       "    <tr>\n",
       "      <th>53</th>\n",
       "      <td>0xda43d85b8d419a9c51bbf0089c9bd5169c23f2f9</td>\n",
       "      <td>1104</td>\n",
       "      <td>237.828174</td>\n",
       "    </tr>\n",
       "    <tr>\n",
       "      <th>54</th>\n",
       "      <td>0xda43d85b8d419a9c51bbf0089c9bd5169c23f2f9</td>\n",
       "      <td>1105</td>\n",
       "      <td>239.480793</td>\n",
       "    </tr>\n",
       "    <tr>\n",
       "      <th>55</th>\n",
       "      <td>0xda43d85b8d419a9c51bbf0089c9bd5169c23f2f9</td>\n",
       "      <td>1106</td>\n",
       "      <td>240.490078</td>\n",
       "    </tr>\n",
       "    <tr>\n",
       "      <th>56</th>\n",
       "      <td>0xda43d85b8d419a9c51bbf0089c9bd5169c23f2f9</td>\n",
       "      <td>1107</td>\n",
       "      <td>244.873502</td>\n",
       "    </tr>\n",
       "    <tr>\n",
       "      <th>57</th>\n",
       "      <td>0xda43d85b8d419a9c51bbf0089c9bd5169c23f2f9</td>\n",
       "      <td>1108</td>\n",
       "      <td>246.244037</td>\n",
       "    </tr>\n",
       "    <tr>\n",
       "      <th>58</th>\n",
       "      <td>0xda43d85b8d419a9c51bbf0089c9bd5169c23f2f9</td>\n",
       "      <td>1109</td>\n",
       "      <td>247.502381</td>\n",
       "    </tr>\n",
       "    <tr>\n",
       "      <th>59</th>\n",
       "      <td>0xda43d85b8d419a9c51bbf0089c9bd5169c23f2f9</td>\n",
       "      <td>1110</td>\n",
       "      <td>247.745077</td>\n",
       "    </tr>\n",
       "  </tbody>\n",
       "</table>\n",
       "</div>"
      ],
      "text/plain": [
       "                                transcoders_id transcoders_pools_round_id  \\\n",
       "0   0x9c10672cee058fd658103d90872fe431bb6c0afa                       1317   \n",
       "1   0x9c10672cee058fd658103d90872fe431bb6c0afa                       1318   \n",
       "2   0x9c10672cee058fd658103d90872fe431bb6c0afa                       1319   \n",
       "3   0x9c10672cee058fd658103d90872fe431bb6c0afa                       1320   \n",
       "4   0x9c10672cee058fd658103d90872fe431bb6c0afa                       1321   \n",
       "5   0x9c10672cee058fd658103d90872fe431bb6c0afa                       1322   \n",
       "6   0x9c10672cee058fd658103d90872fe431bb6c0afa                       1323   \n",
       "7   0x9c10672cee058fd658103d90872fe431bb6c0afa                       1324   \n",
       "8   0x9c10672cee058fd658103d90872fe431bb6c0afa                       1325   \n",
       "9   0x9c10672cee058fd658103d90872fe431bb6c0afa                       1326   \n",
       "10  0x9c10672cee058fd658103d90872fe431bb6c0afa                       1327   \n",
       "11  0x9c10672cee058fd658103d90872fe431bb6c0afa                       1328   \n",
       "12  0x9c10672cee058fd658103d90872fe431bb6c0afa                       1329   \n",
       "13  0x9c10672cee058fd658103d90872fe431bb6c0afa                       1330   \n",
       "14  0x9c10672cee058fd658103d90872fe431bb6c0afa                       1331   \n",
       "15  0x9c10672cee058fd658103d90872fe431bb6c0afa                       1332   \n",
       "16  0x9c10672cee058fd658103d90872fe431bb6c0afa                       1333   \n",
       "17  0x9c10672cee058fd658103d90872fe431bb6c0afa                       1334   \n",
       "18  0x9c10672cee058fd658103d90872fe431bb6c0afa                       1335   \n",
       "19  0x9c10672cee058fd658103d90872fe431bb6c0afa                       1336   \n",
       "20  0x9c10672cee058fd658103d90872fe431bb6c0afa                       1337   \n",
       "21  0x9c10672cee058fd658103d90872fe431bb6c0afa                       1338   \n",
       "22  0x9c10672cee058fd658103d90872fe431bb6c0afa                       1355   \n",
       "23  0x9c10672cee058fd658103d90872fe431bb6c0afa                       1356   \n",
       "24  0x9c10672cee058fd658103d90872fe431bb6c0afa                       1357   \n",
       "25  0x9c10672cee058fd658103d90872fe431bb6c0afa                       1358   \n",
       "26  0x9c10672cee058fd658103d90872fe431bb6c0afa                       1359   \n",
       "27  0x9c10672cee058fd658103d90872fe431bb6c0afa                       1360   \n",
       "28  0x9c10672cee058fd658103d90872fe431bb6c0afa                       1361   \n",
       "29  0x9c10672cee058fd658103d90872fe431bb6c0afa                       1362   \n",
       "30  0xda43d85b8d419a9c51bbf0089c9bd5169c23f2f9                       1081   \n",
       "31  0xda43d85b8d419a9c51bbf0089c9bd5169c23f2f9                       1082   \n",
       "32  0xda43d85b8d419a9c51bbf0089c9bd5169c23f2f9                       1083   \n",
       "33  0xda43d85b8d419a9c51bbf0089c9bd5169c23f2f9                       1084   \n",
       "34  0xda43d85b8d419a9c51bbf0089c9bd5169c23f2f9                       1085   \n",
       "35  0xda43d85b8d419a9c51bbf0089c9bd5169c23f2f9                       1086   \n",
       "36  0xda43d85b8d419a9c51bbf0089c9bd5169c23f2f9                       1087   \n",
       "37  0xda43d85b8d419a9c51bbf0089c9bd5169c23f2f9                       1088   \n",
       "38  0xda43d85b8d419a9c51bbf0089c9bd5169c23f2f9                       1089   \n",
       "39  0xda43d85b8d419a9c51bbf0089c9bd5169c23f2f9                       1090   \n",
       "40  0xda43d85b8d419a9c51bbf0089c9bd5169c23f2f9                       1091   \n",
       "41  0xda43d85b8d419a9c51bbf0089c9bd5169c23f2f9                       1092   \n",
       "42  0xda43d85b8d419a9c51bbf0089c9bd5169c23f2f9                       1093   \n",
       "43  0xda43d85b8d419a9c51bbf0089c9bd5169c23f2f9                       1094   \n",
       "44  0xda43d85b8d419a9c51bbf0089c9bd5169c23f2f9                       1095   \n",
       "45  0xda43d85b8d419a9c51bbf0089c9bd5169c23f2f9                       1096   \n",
       "46  0xda43d85b8d419a9c51bbf0089c9bd5169c23f2f9                       1097   \n",
       "47  0xda43d85b8d419a9c51bbf0089c9bd5169c23f2f9                       1098   \n",
       "48  0xda43d85b8d419a9c51bbf0089c9bd5169c23f2f9                       1099   \n",
       "49  0xda43d85b8d419a9c51bbf0089c9bd5169c23f2f9                       1100   \n",
       "50  0xda43d85b8d419a9c51bbf0089c9bd5169c23f2f9                       1101   \n",
       "51  0xda43d85b8d419a9c51bbf0089c9bd5169c23f2f9                       1102   \n",
       "52  0xda43d85b8d419a9c51bbf0089c9bd5169c23f2f9                       1103   \n",
       "53  0xda43d85b8d419a9c51bbf0089c9bd5169c23f2f9                       1104   \n",
       "54  0xda43d85b8d419a9c51bbf0089c9bd5169c23f2f9                       1105   \n",
       "55  0xda43d85b8d419a9c51bbf0089c9bd5169c23f2f9                       1106   \n",
       "56  0xda43d85b8d419a9c51bbf0089c9bd5169c23f2f9                       1107   \n",
       "57  0xda43d85b8d419a9c51bbf0089c9bd5169c23f2f9                       1108   \n",
       "58  0xda43d85b8d419a9c51bbf0089c9bd5169c23f2f9                       1109   \n",
       "59  0xda43d85b8d419a9c51bbf0089c9bd5169c23f2f9                       1110   \n",
       "\n",
       "    transcoders_pools_rewardTokens  \n",
       "0                        70.798464  \n",
       "1                        71.009434  \n",
       "2                        71.315195  \n",
       "3                        71.683247  \n",
       "4                        71.929907  \n",
       "5                        72.130936  \n",
       "6                        72.177503  \n",
       "7                        72.689197  \n",
       "8                        72.922845  \n",
       "9                        73.031857  \n",
       "10                       79.594061  \n",
       "11                       79.867596  \n",
       "12                       80.110208  \n",
       "13                       80.385053  \n",
       "14                      235.099478  \n",
       "15                             NaN  \n",
       "16                      236.111295  \n",
       "17                             NaN  \n",
       "18                             NaN  \n",
       "19                             NaN  \n",
       "20                             NaN  \n",
       "21                      235.624113  \n",
       "22                      162.967684  \n",
       "23                      163.431744  \n",
       "24                      164.334113  \n",
       "25                      164.116658  \n",
       "26                      164.635347  \n",
       "27                      165.155301  \n",
       "28                      165.765275  \n",
       "29                      166.288093  \n",
       "30                       45.776365  \n",
       "31                       66.914339  \n",
       "32                       66.941976  \n",
       "33                             NaN  \n",
       "34                             NaN  \n",
       "35                             NaN  \n",
       "36                       65.056255  \n",
       "37                       65.128255  \n",
       "38                       96.551169  \n",
       "39                      110.791879  \n",
       "40                      111.060695  \n",
       "41                      140.078489  \n",
       "42                      141.123911  \n",
       "43                      141.535285  \n",
       "44                      141.309320  \n",
       "45                      188.110223  \n",
       "46                      194.978628  \n",
       "47                      213.036764  \n",
       "48                      230.382092  \n",
       "49                      234.451764  \n",
       "50                      239.956383  \n",
       "51                      245.118498  \n",
       "52                      239.487256  \n",
       "53                      237.828174  \n",
       "54                      239.480793  \n",
       "55                      240.490078  \n",
       "56                      244.873502  \n",
       "57                      246.244037  \n",
       "58                      247.502381  \n",
       "59                      247.745077  "
      ]
     },
     "execution_count": 4,
     "metadata": {},
     "output_type": "execute_result"
    }
   ],
   "source": [
    "pool_rewards[:60]"
   ]
  },
  {
   "cell_type": "markdown",
   "metadata": {},
   "source": [
    "yay so i can call null values now"
   ]
  },
  {
   "cell_type": "code",
   "execution_count": 5,
   "metadata": {},
   "outputs": [
    {
     "data": {
      "text/html": [
       "<div>\n",
       "<style scoped>\n",
       "    .dataframe tbody tr th:only-of-type {\n",
       "        vertical-align: middle;\n",
       "    }\n",
       "\n",
       "    .dataframe tbody tr th {\n",
       "        vertical-align: top;\n",
       "    }\n",
       "\n",
       "    .dataframe thead th {\n",
       "        text-align: right;\n",
       "    }\n",
       "</style>\n",
       "<table border=\"1\" class=\"dataframe\">\n",
       "  <thead>\n",
       "    <tr style=\"text-align: right;\">\n",
       "      <th></th>\n",
       "      <th>transcoders_id</th>\n",
       "      <th>transcoders_pools_round_id</th>\n",
       "      <th>transcoders_pools_rewardTokens</th>\n",
       "    </tr>\n",
       "    <tr>\n",
       "      <th>transcoders_id</th>\n",
       "      <th></th>\n",
       "      <th></th>\n",
       "      <th></th>\n",
       "    </tr>\n",
       "  </thead>\n",
       "  <tbody>\n",
       "    <tr>\n",
       "      <th>0x00803b76dc924ceabf4380a6f9edc2ddd3c90f38</th>\n",
       "      <td>1.0</td>\n",
       "      <td>1.0</td>\n",
       "      <td>0.100000</td>\n",
       "    </tr>\n",
       "    <tr>\n",
       "      <th>0x02b6aac33a397aaadee5227c70c69bb97f2cc529</th>\n",
       "      <td>1.0</td>\n",
       "      <td>1.0</td>\n",
       "      <td>0.000000</td>\n",
       "    </tr>\n",
       "    <tr>\n",
       "      <th>0x08f10d03a0cf7a9eaddc7eacd4cf135a07a0feff</th>\n",
       "      <td>1.0</td>\n",
       "      <td>1.0</td>\n",
       "      <td>0.066667</td>\n",
       "    </tr>\n",
       "    <tr>\n",
       "      <th>0x0d5a6601942bf92e7b259bfc6b56009e6a1c0ad2</th>\n",
       "      <td>1.0</td>\n",
       "      <td>1.0</td>\n",
       "      <td>0.066667</td>\n",
       "    </tr>\n",
       "    <tr>\n",
       "      <th>0x0fc80afb7876f579f1fb1c4d1c37cf1339038658</th>\n",
       "      <td>1.0</td>\n",
       "      <td>1.0</td>\n",
       "      <td>0.033333</td>\n",
       "    </tr>\n",
       "    <tr>\n",
       "      <th>...</th>\n",
       "      <td>...</td>\n",
       "      <td>...</td>\n",
       "      <td>...</td>\n",
       "    </tr>\n",
       "    <tr>\n",
       "      <th>0xf5a88945ce64b5648b895e05eb1edf693dde8905</th>\n",
       "      <td>1.0</td>\n",
       "      <td>1.0</td>\n",
       "      <td>0.333333</td>\n",
       "    </tr>\n",
       "    <tr>\n",
       "      <th>0xf63b84aaa39c4406ebf2d1e3d6acb1fb51f19dbd</th>\n",
       "      <td>1.0</td>\n",
       "      <td>1.0</td>\n",
       "      <td>0.033333</td>\n",
       "    </tr>\n",
       "    <tr>\n",
       "      <th>0xf7da517712844b47febe9973fb7712691fdf6e28</th>\n",
       "      <td>1.0</td>\n",
       "      <td>1.0</td>\n",
       "      <td>0.066667</td>\n",
       "    </tr>\n",
       "    <tr>\n",
       "      <th>0xf8ee1a8af53086b025dcc9b74a2444827d3ec64c</th>\n",
       "      <td>1.0</td>\n",
       "      <td>1.0</td>\n",
       "      <td>0.100000</td>\n",
       "    </tr>\n",
       "    <tr>\n",
       "      <th>0xf8fb0aef25b850dc8d8aeead92eb64a3010795a0</th>\n",
       "      <td>1.0</td>\n",
       "      <td>1.0</td>\n",
       "      <td>0.033333</td>\n",
       "    </tr>\n",
       "  </tbody>\n",
       "</table>\n",
       "<p>100 rows × 3 columns</p>\n",
       "</div>"
      ],
      "text/plain": [
       "                                            transcoders_id  \\\n",
       "transcoders_id                                               \n",
       "0x00803b76dc924ceabf4380a6f9edc2ddd3c90f38             1.0   \n",
       "0x02b6aac33a397aaadee5227c70c69bb97f2cc529             1.0   \n",
       "0x08f10d03a0cf7a9eaddc7eacd4cf135a07a0feff             1.0   \n",
       "0x0d5a6601942bf92e7b259bfc6b56009e6a1c0ad2             1.0   \n",
       "0x0fc80afb7876f579f1fb1c4d1c37cf1339038658             1.0   \n",
       "...                                                    ...   \n",
       "0xf5a88945ce64b5648b895e05eb1edf693dde8905             1.0   \n",
       "0xf63b84aaa39c4406ebf2d1e3d6acb1fb51f19dbd             1.0   \n",
       "0xf7da517712844b47febe9973fb7712691fdf6e28             1.0   \n",
       "0xf8ee1a8af53086b025dcc9b74a2444827d3ec64c             1.0   \n",
       "0xf8fb0aef25b850dc8d8aeead92eb64a3010795a0             1.0   \n",
       "\n",
       "                                            transcoders_pools_round_id  \\\n",
       "transcoders_id                                                           \n",
       "0x00803b76dc924ceabf4380a6f9edc2ddd3c90f38                         1.0   \n",
       "0x02b6aac33a397aaadee5227c70c69bb97f2cc529                         1.0   \n",
       "0x08f10d03a0cf7a9eaddc7eacd4cf135a07a0feff                         1.0   \n",
       "0x0d5a6601942bf92e7b259bfc6b56009e6a1c0ad2                         1.0   \n",
       "0x0fc80afb7876f579f1fb1c4d1c37cf1339038658                         1.0   \n",
       "...                                                                ...   \n",
       "0xf5a88945ce64b5648b895e05eb1edf693dde8905                         1.0   \n",
       "0xf63b84aaa39c4406ebf2d1e3d6acb1fb51f19dbd                         1.0   \n",
       "0xf7da517712844b47febe9973fb7712691fdf6e28                         1.0   \n",
       "0xf8ee1a8af53086b025dcc9b74a2444827d3ec64c                         1.0   \n",
       "0xf8fb0aef25b850dc8d8aeead92eb64a3010795a0                         1.0   \n",
       "\n",
       "                                            transcoders_pools_rewardTokens  \n",
       "transcoders_id                                                              \n",
       "0x00803b76dc924ceabf4380a6f9edc2ddd3c90f38                        0.100000  \n",
       "0x02b6aac33a397aaadee5227c70c69bb97f2cc529                        0.000000  \n",
       "0x08f10d03a0cf7a9eaddc7eacd4cf135a07a0feff                        0.066667  \n",
       "0x0d5a6601942bf92e7b259bfc6b56009e6a1c0ad2                        0.066667  \n",
       "0x0fc80afb7876f579f1fb1c4d1c37cf1339038658                        0.033333  \n",
       "...                                                                    ...  \n",
       "0xf5a88945ce64b5648b895e05eb1edf693dde8905                        0.333333  \n",
       "0xf63b84aaa39c4406ebf2d1e3d6acb1fb51f19dbd                        0.033333  \n",
       "0xf7da517712844b47febe9973fb7712691fdf6e28                        0.066667  \n",
       "0xf8ee1a8af53086b025dcc9b74a2444827d3ec64c                        0.100000  \n",
       "0xf8fb0aef25b850dc8d8aeead92eb64a3010795a0                        0.033333  \n",
       "\n",
       "[100 rows x 3 columns]"
      ]
     },
     "execution_count": 5,
     "metadata": {},
     "output_type": "execute_result"
    }
   ],
   "source": [
    "pool_rewards.groupby('transcoders_id').apply(lambda x: x.notnull().mean())"
   ]
  },
  {
   "cell_type": "code",
   "execution_count": 6,
   "metadata": {},
   "outputs": [
    {
     "name": "stderr",
     "output_type": "stream",
     "text": [
      "/var/folders/f0/z8x1n0495lg1jwphkywytjt40000gn/T/ipykernel_5599/1949954035.py:1: FutureWarning: In a future version of pandas all arguments of DataFrame.drop except for the argument 'labels' will be keyword-only.\n",
      "  pool_rewards_2 = pool_rewards.drop('transcoders_pools_round_id',1)\n"
     ]
    },
    {
     "data": {
      "text/html": [
       "<div>\n",
       "<style scoped>\n",
       "    .dataframe tbody tr th:only-of-type {\n",
       "        vertical-align: middle;\n",
       "    }\n",
       "\n",
       "    .dataframe tbody tr th {\n",
       "        vertical-align: top;\n",
       "    }\n",
       "\n",
       "    .dataframe thead th {\n",
       "        text-align: right;\n",
       "    }\n",
       "</style>\n",
       "<table border=\"1\" class=\"dataframe\">\n",
       "  <thead>\n",
       "    <tr style=\"text-align: right;\">\n",
       "      <th></th>\n",
       "      <th>transcoders_id</th>\n",
       "      <th>transcoders_pools_rewardTokens</th>\n",
       "    </tr>\n",
       "  </thead>\n",
       "  <tbody>\n",
       "    <tr>\n",
       "      <th>0</th>\n",
       "      <td>0x9c10672cee058fd658103d90872fe431bb6c0afa</td>\n",
       "      <td>70.798464</td>\n",
       "    </tr>\n",
       "    <tr>\n",
       "      <th>1</th>\n",
       "      <td>0x9c10672cee058fd658103d90872fe431bb6c0afa</td>\n",
       "      <td>71.009434</td>\n",
       "    </tr>\n",
       "    <tr>\n",
       "      <th>2</th>\n",
       "      <td>0x9c10672cee058fd658103d90872fe431bb6c0afa</td>\n",
       "      <td>71.315195</td>\n",
       "    </tr>\n",
       "    <tr>\n",
       "      <th>3</th>\n",
       "      <td>0x9c10672cee058fd658103d90872fe431bb6c0afa</td>\n",
       "      <td>71.683247</td>\n",
       "    </tr>\n",
       "    <tr>\n",
       "      <th>4</th>\n",
       "      <td>0x9c10672cee058fd658103d90872fe431bb6c0afa</td>\n",
       "      <td>71.929907</td>\n",
       "    </tr>\n",
       "    <tr>\n",
       "      <th>...</th>\n",
       "      <td>...</td>\n",
       "      <td>...</td>\n",
       "    </tr>\n",
       "    <tr>\n",
       "      <th>2917</th>\n",
       "      <td>0x5b5079b69a3f8dc07ca05ee301e39a08a002def3</td>\n",
       "      <td>NaN</td>\n",
       "    </tr>\n",
       "    <tr>\n",
       "      <th>2918</th>\n",
       "      <td>0x5b5079b69a3f8dc07ca05ee301e39a08a002def3</td>\n",
       "      <td>NaN</td>\n",
       "    </tr>\n",
       "    <tr>\n",
       "      <th>2919</th>\n",
       "      <td>0x5b5079b69a3f8dc07ca05ee301e39a08a002def3</td>\n",
       "      <td>NaN</td>\n",
       "    </tr>\n",
       "    <tr>\n",
       "      <th>2920</th>\n",
       "      <td>0x5b5079b69a3f8dc07ca05ee301e39a08a002def3</td>\n",
       "      <td>NaN</td>\n",
       "    </tr>\n",
       "    <tr>\n",
       "      <th>2921</th>\n",
       "      <td>0x5b5079b69a3f8dc07ca05ee301e39a08a002def3</td>\n",
       "      <td>NaN</td>\n",
       "    </tr>\n",
       "  </tbody>\n",
       "</table>\n",
       "<p>2922 rows × 2 columns</p>\n",
       "</div>"
      ],
      "text/plain": [
       "                                  transcoders_id  \\\n",
       "0     0x9c10672cee058fd658103d90872fe431bb6c0afa   \n",
       "1     0x9c10672cee058fd658103d90872fe431bb6c0afa   \n",
       "2     0x9c10672cee058fd658103d90872fe431bb6c0afa   \n",
       "3     0x9c10672cee058fd658103d90872fe431bb6c0afa   \n",
       "4     0x9c10672cee058fd658103d90872fe431bb6c0afa   \n",
       "...                                          ...   \n",
       "2917  0x5b5079b69a3f8dc07ca05ee301e39a08a002def3   \n",
       "2918  0x5b5079b69a3f8dc07ca05ee301e39a08a002def3   \n",
       "2919  0x5b5079b69a3f8dc07ca05ee301e39a08a002def3   \n",
       "2920  0x5b5079b69a3f8dc07ca05ee301e39a08a002def3   \n",
       "2921  0x5b5079b69a3f8dc07ca05ee301e39a08a002def3   \n",
       "\n",
       "      transcoders_pools_rewardTokens  \n",
       "0                          70.798464  \n",
       "1                          71.009434  \n",
       "2                          71.315195  \n",
       "3                          71.683247  \n",
       "4                          71.929907  \n",
       "...                              ...  \n",
       "2917                             NaN  \n",
       "2918                             NaN  \n",
       "2919                             NaN  \n",
       "2920                             NaN  \n",
       "2921                             NaN  \n",
       "\n",
       "[2922 rows x 2 columns]"
      ]
     },
     "execution_count": 6,
     "metadata": {},
     "output_type": "execute_result"
    }
   ],
   "source": [
    "pool_rewards_2 = pool_rewards.drop('transcoders_pools_round_id',1)\n",
    "pool_rewards_2"
   ]
  },
  {
   "cell_type": "code",
   "execution_count": 7,
   "metadata": {},
   "outputs": [
    {
     "data": {
      "text/html": [
       "<div>\n",
       "<style scoped>\n",
       "    .dataframe tbody tr th:only-of-type {\n",
       "        vertical-align: middle;\n",
       "    }\n",
       "\n",
       "    .dataframe tbody tr th {\n",
       "        vertical-align: top;\n",
       "    }\n",
       "\n",
       "    .dataframe thead th {\n",
       "        text-align: right;\n",
       "    }\n",
       "</style>\n",
       "<table border=\"1\" class=\"dataframe\">\n",
       "  <thead>\n",
       "    <tr style=\"text-align: right;\">\n",
       "      <th></th>\n",
       "      <th>transcoders_id</th>\n",
       "      <th>transcoders_pools_rewardTokens</th>\n",
       "    </tr>\n",
       "    <tr>\n",
       "      <th>transcoders_id</th>\n",
       "      <th></th>\n",
       "      <th></th>\n",
       "    </tr>\n",
       "  </thead>\n",
       "  <tbody>\n",
       "    <tr>\n",
       "      <th>0x00803b76dc924ceabf4380a6f9edc2ddd3c90f38</th>\n",
       "      <td>1.0</td>\n",
       "      <td>0.100000</td>\n",
       "    </tr>\n",
       "    <tr>\n",
       "      <th>0x02b6aac33a397aaadee5227c70c69bb97f2cc529</th>\n",
       "      <td>1.0</td>\n",
       "      <td>0.000000</td>\n",
       "    </tr>\n",
       "    <tr>\n",
       "      <th>0x08f10d03a0cf7a9eaddc7eacd4cf135a07a0feff</th>\n",
       "      <td>1.0</td>\n",
       "      <td>0.066667</td>\n",
       "    </tr>\n",
       "    <tr>\n",
       "      <th>0x0d5a6601942bf92e7b259bfc6b56009e6a1c0ad2</th>\n",
       "      <td>1.0</td>\n",
       "      <td>0.066667</td>\n",
       "    </tr>\n",
       "    <tr>\n",
       "      <th>0x0fc80afb7876f579f1fb1c4d1c37cf1339038658</th>\n",
       "      <td>1.0</td>\n",
       "      <td>0.033333</td>\n",
       "    </tr>\n",
       "    <tr>\n",
       "      <th>...</th>\n",
       "      <td>...</td>\n",
       "      <td>...</td>\n",
       "    </tr>\n",
       "    <tr>\n",
       "      <th>0xf5a88945ce64b5648b895e05eb1edf693dde8905</th>\n",
       "      <td>1.0</td>\n",
       "      <td>0.333333</td>\n",
       "    </tr>\n",
       "    <tr>\n",
       "      <th>0xf63b84aaa39c4406ebf2d1e3d6acb1fb51f19dbd</th>\n",
       "      <td>1.0</td>\n",
       "      <td>0.033333</td>\n",
       "    </tr>\n",
       "    <tr>\n",
       "      <th>0xf7da517712844b47febe9973fb7712691fdf6e28</th>\n",
       "      <td>1.0</td>\n",
       "      <td>0.066667</td>\n",
       "    </tr>\n",
       "    <tr>\n",
       "      <th>0xf8ee1a8af53086b025dcc9b74a2444827d3ec64c</th>\n",
       "      <td>1.0</td>\n",
       "      <td>0.100000</td>\n",
       "    </tr>\n",
       "    <tr>\n",
       "      <th>0xf8fb0aef25b850dc8d8aeead92eb64a3010795a0</th>\n",
       "      <td>1.0</td>\n",
       "      <td>0.033333</td>\n",
       "    </tr>\n",
       "  </tbody>\n",
       "</table>\n",
       "<p>100 rows × 2 columns</p>\n",
       "</div>"
      ],
      "text/plain": [
       "                                            transcoders_id  \\\n",
       "transcoders_id                                               \n",
       "0x00803b76dc924ceabf4380a6f9edc2ddd3c90f38             1.0   \n",
       "0x02b6aac33a397aaadee5227c70c69bb97f2cc529             1.0   \n",
       "0x08f10d03a0cf7a9eaddc7eacd4cf135a07a0feff             1.0   \n",
       "0x0d5a6601942bf92e7b259bfc6b56009e6a1c0ad2             1.0   \n",
       "0x0fc80afb7876f579f1fb1c4d1c37cf1339038658             1.0   \n",
       "...                                                    ...   \n",
       "0xf5a88945ce64b5648b895e05eb1edf693dde8905             1.0   \n",
       "0xf63b84aaa39c4406ebf2d1e3d6acb1fb51f19dbd             1.0   \n",
       "0xf7da517712844b47febe9973fb7712691fdf6e28             1.0   \n",
       "0xf8ee1a8af53086b025dcc9b74a2444827d3ec64c             1.0   \n",
       "0xf8fb0aef25b850dc8d8aeead92eb64a3010795a0             1.0   \n",
       "\n",
       "                                            transcoders_pools_rewardTokens  \n",
       "transcoders_id                                                              \n",
       "0x00803b76dc924ceabf4380a6f9edc2ddd3c90f38                        0.100000  \n",
       "0x02b6aac33a397aaadee5227c70c69bb97f2cc529                        0.000000  \n",
       "0x08f10d03a0cf7a9eaddc7eacd4cf135a07a0feff                        0.066667  \n",
       "0x0d5a6601942bf92e7b259bfc6b56009e6a1c0ad2                        0.066667  \n",
       "0x0fc80afb7876f579f1fb1c4d1c37cf1339038658                        0.033333  \n",
       "...                                                                    ...  \n",
       "0xf5a88945ce64b5648b895e05eb1edf693dde8905                        0.333333  \n",
       "0xf63b84aaa39c4406ebf2d1e3d6acb1fb51f19dbd                        0.033333  \n",
       "0xf7da517712844b47febe9973fb7712691fdf6e28                        0.066667  \n",
       "0xf8ee1a8af53086b025dcc9b74a2444827d3ec64c                        0.100000  \n",
       "0xf8fb0aef25b850dc8d8aeead92eb64a3010795a0                        0.033333  \n",
       "\n",
       "[100 rows x 2 columns]"
      ]
     },
     "execution_count": 7,
     "metadata": {},
     "output_type": "execute_result"
    }
   ],
   "source": [
    "pool_rewards_2.groupby('transcoders_id').apply(lambda x: x.notnull().mean())"
   ]
  },
  {
   "cell_type": "code",
   "execution_count": 8,
   "metadata": {},
   "outputs": [
    {
     "data": {
      "text/html": [
       "<div>\n",
       "<style scoped>\n",
       "    .dataframe tbody tr th:only-of-type {\n",
       "        vertical-align: middle;\n",
       "    }\n",
       "\n",
       "    .dataframe tbody tr th {\n",
       "        vertical-align: top;\n",
       "    }\n",
       "\n",
       "    .dataframe thead th {\n",
       "        text-align: right;\n",
       "    }\n",
       "</style>\n",
       "<table border=\"1\" class=\"dataframe\">\n",
       "  <thead>\n",
       "    <tr style=\"text-align: right;\">\n",
       "      <th></th>\n",
       "      <th>transcoders_pools_rewardTokens</th>\n",
       "    </tr>\n",
       "    <tr>\n",
       "      <th>transcoders_id</th>\n",
       "      <th></th>\n",
       "    </tr>\n",
       "  </thead>\n",
       "  <tbody>\n",
       "    <tr>\n",
       "      <th>0x00803b76dc924ceabf4380a6f9edc2ddd3c90f38</th>\n",
       "      <td>0.100000</td>\n",
       "    </tr>\n",
       "    <tr>\n",
       "      <th>0x02b6aac33a397aaadee5227c70c69bb97f2cc529</th>\n",
       "      <td>0.000000</td>\n",
       "    </tr>\n",
       "    <tr>\n",
       "      <th>0x08f10d03a0cf7a9eaddc7eacd4cf135a07a0feff</th>\n",
       "      <td>0.066667</td>\n",
       "    </tr>\n",
       "    <tr>\n",
       "      <th>0x0d5a6601942bf92e7b259bfc6b56009e6a1c0ad2</th>\n",
       "      <td>0.066667</td>\n",
       "    </tr>\n",
       "    <tr>\n",
       "      <th>0x0fc80afb7876f579f1fb1c4d1c37cf1339038658</th>\n",
       "      <td>0.033333</td>\n",
       "    </tr>\n",
       "    <tr>\n",
       "      <th>...</th>\n",
       "      <td>...</td>\n",
       "    </tr>\n",
       "    <tr>\n",
       "      <th>0xf5a88945ce64b5648b895e05eb1edf693dde8905</th>\n",
       "      <td>0.333333</td>\n",
       "    </tr>\n",
       "    <tr>\n",
       "      <th>0xf63b84aaa39c4406ebf2d1e3d6acb1fb51f19dbd</th>\n",
       "      <td>0.033333</td>\n",
       "    </tr>\n",
       "    <tr>\n",
       "      <th>0xf7da517712844b47febe9973fb7712691fdf6e28</th>\n",
       "      <td>0.066667</td>\n",
       "    </tr>\n",
       "    <tr>\n",
       "      <th>0xf8ee1a8af53086b025dcc9b74a2444827d3ec64c</th>\n",
       "      <td>0.100000</td>\n",
       "    </tr>\n",
       "    <tr>\n",
       "      <th>0xf8fb0aef25b850dc8d8aeead92eb64a3010795a0</th>\n",
       "      <td>0.033333</td>\n",
       "    </tr>\n",
       "  </tbody>\n",
       "</table>\n",
       "<p>100 rows × 1 columns</p>\n",
       "</div>"
      ],
      "text/plain": [
       "                                            transcoders_pools_rewardTokens\n",
       "transcoders_id                                                            \n",
       "0x00803b76dc924ceabf4380a6f9edc2ddd3c90f38                        0.100000\n",
       "0x02b6aac33a397aaadee5227c70c69bb97f2cc529                        0.000000\n",
       "0x08f10d03a0cf7a9eaddc7eacd4cf135a07a0feff                        0.066667\n",
       "0x0d5a6601942bf92e7b259bfc6b56009e6a1c0ad2                        0.066667\n",
       "0x0fc80afb7876f579f1fb1c4d1c37cf1339038658                        0.033333\n",
       "...                                                                    ...\n",
       "0xf5a88945ce64b5648b895e05eb1edf693dde8905                        0.333333\n",
       "0xf63b84aaa39c4406ebf2d1e3d6acb1fb51f19dbd                        0.033333\n",
       "0xf7da517712844b47febe9973fb7712691fdf6e28                        0.066667\n",
       "0xf8ee1a8af53086b025dcc9b74a2444827d3ec64c                        0.100000\n",
       "0xf8fb0aef25b850dc8d8aeead92eb64a3010795a0                        0.033333\n",
       "\n",
       "[100 rows x 1 columns]"
      ]
     },
     "execution_count": 8,
     "metadata": {},
     "output_type": "execute_result"
    }
   ],
   "source": [
    "pool_rewards_2.set_index('transcoders_id').notnull().groupby(level=0).mean()"
   ]
  },
  {
   "cell_type": "markdown",
   "metadata": {},
   "source": [
    "So, a couple ways to get to the desired result, which is mean/avg null values in the rewardTokens. call_ratio is then 1-column.\n",
    "Cleaner to set index\n",
    "I'll keep active_pools as it seems like they want it over the previous 30 available rounds.\n",
    "I am curious about the round # tho, as these are all active transcoders I would expect the round_id to be (if not the same) within the same range. I guess they can only collect rewards if transcoding is performed, so maybe last round claimed is the last time they did work for the network...  \n",
    "  \n",
    "could check last reward round (...out of scope jack)"
   ]
  },
  {
   "cell_type": "code",
   "execution_count": 9,
   "metadata": {},
   "outputs": [
    {
     "data": {
      "text/html": [
       "<div>\n",
       "<style scoped>\n",
       "    .dataframe tbody tr th:only-of-type {\n",
       "        vertical-align: middle;\n",
       "    }\n",
       "\n",
       "    .dataframe tbody tr th {\n",
       "        vertical-align: top;\n",
       "    }\n",
       "\n",
       "    .dataframe thead th {\n",
       "        text-align: right;\n",
       "    }\n",
       "</style>\n",
       "<table border=\"1\" class=\"dataframe\">\n",
       "  <thead>\n",
       "    <tr style=\"text-align: right;\">\n",
       "      <th></th>\n",
       "      <th>transcoders_id</th>\n",
       "      <th>transcoders_pools_rewardTokens</th>\n",
       "      <th>ratio</th>\n",
       "    </tr>\n",
       "  </thead>\n",
       "  <tbody>\n",
       "    <tr>\n",
       "      <th>0</th>\n",
       "      <td>0x00803b76dc924ceabf4380a6f9edc2ddd3c90f38</td>\n",
       "      <td>0.100000</td>\n",
       "      <td>0.900000</td>\n",
       "    </tr>\n",
       "    <tr>\n",
       "      <th>1</th>\n",
       "      <td>0x02b6aac33a397aaadee5227c70c69bb97f2cc529</td>\n",
       "      <td>0.000000</td>\n",
       "      <td>1.000000</td>\n",
       "    </tr>\n",
       "    <tr>\n",
       "      <th>2</th>\n",
       "      <td>0x08f10d03a0cf7a9eaddc7eacd4cf135a07a0feff</td>\n",
       "      <td>0.066667</td>\n",
       "      <td>0.933333</td>\n",
       "    </tr>\n",
       "    <tr>\n",
       "      <th>3</th>\n",
       "      <td>0x0d5a6601942bf92e7b259bfc6b56009e6a1c0ad2</td>\n",
       "      <td>0.066667</td>\n",
       "      <td>0.933333</td>\n",
       "    </tr>\n",
       "    <tr>\n",
       "      <th>4</th>\n",
       "      <td>0x0fc80afb7876f579f1fb1c4d1c37cf1339038658</td>\n",
       "      <td>0.033333</td>\n",
       "      <td>0.966667</td>\n",
       "    </tr>\n",
       "    <tr>\n",
       "      <th>...</th>\n",
       "      <td>...</td>\n",
       "      <td>...</td>\n",
       "      <td>...</td>\n",
       "    </tr>\n",
       "    <tr>\n",
       "      <th>95</th>\n",
       "      <td>0xf5a88945ce64b5648b895e05eb1edf693dde8905</td>\n",
       "      <td>0.333333</td>\n",
       "      <td>0.666667</td>\n",
       "    </tr>\n",
       "    <tr>\n",
       "      <th>96</th>\n",
       "      <td>0xf63b84aaa39c4406ebf2d1e3d6acb1fb51f19dbd</td>\n",
       "      <td>0.033333</td>\n",
       "      <td>0.966667</td>\n",
       "    </tr>\n",
       "    <tr>\n",
       "      <th>97</th>\n",
       "      <td>0xf7da517712844b47febe9973fb7712691fdf6e28</td>\n",
       "      <td>0.066667</td>\n",
       "      <td>0.933333</td>\n",
       "    </tr>\n",
       "    <tr>\n",
       "      <th>98</th>\n",
       "      <td>0xf8ee1a8af53086b025dcc9b74a2444827d3ec64c</td>\n",
       "      <td>0.100000</td>\n",
       "      <td>0.900000</td>\n",
       "    </tr>\n",
       "    <tr>\n",
       "      <th>99</th>\n",
       "      <td>0xf8fb0aef25b850dc8d8aeead92eb64a3010795a0</td>\n",
       "      <td>0.033333</td>\n",
       "      <td>0.966667</td>\n",
       "    </tr>\n",
       "  </tbody>\n",
       "</table>\n",
       "<p>100 rows × 3 columns</p>\n",
       "</div>"
      ],
      "text/plain": [
       "                                transcoders_id  \\\n",
       "0   0x00803b76dc924ceabf4380a6f9edc2ddd3c90f38   \n",
       "1   0x02b6aac33a397aaadee5227c70c69bb97f2cc529   \n",
       "2   0x08f10d03a0cf7a9eaddc7eacd4cf135a07a0feff   \n",
       "3   0x0d5a6601942bf92e7b259bfc6b56009e6a1c0ad2   \n",
       "4   0x0fc80afb7876f579f1fb1c4d1c37cf1339038658   \n",
       "..                                         ...   \n",
       "95  0xf5a88945ce64b5648b895e05eb1edf693dde8905   \n",
       "96  0xf63b84aaa39c4406ebf2d1e3d6acb1fb51f19dbd   \n",
       "97  0xf7da517712844b47febe9973fb7712691fdf6e28   \n",
       "98  0xf8ee1a8af53086b025dcc9b74a2444827d3ec64c   \n",
       "99  0xf8fb0aef25b850dc8d8aeead92eb64a3010795a0   \n",
       "\n",
       "    transcoders_pools_rewardTokens     ratio  \n",
       "0                         0.100000  0.900000  \n",
       "1                         0.000000  1.000000  \n",
       "2                         0.066667  0.933333  \n",
       "3                         0.066667  0.933333  \n",
       "4                         0.033333  0.966667  \n",
       "..                             ...       ...  \n",
       "95                        0.333333  0.666667  \n",
       "96                        0.033333  0.966667  \n",
       "97                        0.066667  0.933333  \n",
       "98                        0.100000  0.900000  \n",
       "99                        0.033333  0.966667  \n",
       "\n",
       "[100 rows x 3 columns]"
      ]
     },
     "execution_count": 9,
     "metadata": {},
     "output_type": "execute_result"
    }
   ],
   "source": [
    "call_ratio = pool_rewards_2.set_index('transcoders_id').notnull().groupby(level=0).mean().reset_index()\n",
    "call_ratio['ratio'] = 1 - call_ratio['transcoders_pools_rewardTokens']\n",
    "call_ratio"
   ]
  },
  {
   "cell_type": "code",
   "execution_count": 10,
   "metadata": {},
   "outputs": [
    {
     "name": "stderr",
     "output_type": "stream",
     "text": [
      "/Users/jackforgash/gh/livepeer/lptenv/lib/python3.10/site-packages/pandas/plotting/_core.py:1796: DeprecationWarning: SelectableGroups dict interface is deprecated. Use select.\n",
      "  if \"pandas_plotting_backends\" in eps:\n",
      "/Users/jackforgash/gh/livepeer/lptenv/lib/python3.10/site-packages/pandas/plotting/_core.py:1797: DeprecationWarning: SelectableGroups dict interface is deprecated. Use select.\n",
      "  for entry_point in eps[\"pandas_plotting_backends\"]:\n"
     ]
    }
   ],
   "source": [
    "pd.options.plotting.backend = \"plotly\""
   ]
  },
  {
   "cell_type": "code",
   "execution_count": 11,
   "metadata": {},
   "outputs": [
    {
     "data": {
      "text/plain": [
       "transcoders_id                     object\n",
       "transcoders_pools_rewardTokens    float64\n",
       "ratio                             float64\n",
       "dtype: object"
      ]
     },
     "execution_count": 11,
     "metadata": {},
     "output_type": "execute_result"
    }
   ],
   "source": [
    "call_ratio.dtypes"
   ]
  },
  {
   "cell_type": "markdown",
   "metadata": {},
   "source": [
    "good, correct dtype"
   ]
  },
  {
   "cell_type": "code",
   "execution_count": 12,
   "metadata": {},
   "outputs": [
    {
     "name": "stderr",
     "output_type": "stream",
     "text": [
      "/var/folders/f0/z8x1n0495lg1jwphkywytjt40000gn/T/ipykernel_5599/1086940447.py:1: FutureWarning: In a future version of pandas all arguments of DataFrame.drop except for the argument 'labels' will be keyword-only.\n",
      "  call_ratio.drop('transcoders_pools_rewardTokens',1, inplace=True)\n"
     ]
    }
   ],
   "source": [
    "call_ratio.drop('transcoders_pools_rewardTokens',1, inplace=True)"
   ]
  },
  {
   "cell_type": "code",
   "execution_count": 21,
   "metadata": {},
   "outputs": [
    {
     "data": {
      "application/vnd.plotly.v1+json": {
       "config": {
        "plotlyServerURL": "https://plot.ly"
       },
       "data": [
        {
         "alignmentgroup": "True",
         "hovertemplate": "transcoders_id=%{x}<br>ratio=%{y}<extra></extra>",
         "legendgroup": "",
         "marker": {
          "color": "#636efa",
          "pattern": {
           "shape": ""
          }
         },
         "name": "",
         "offsetgroup": "",
         "orientation": "v",
         "showlegend": false,
         "textposition": "auto",
         "type": "bar",
         "x": [
          "0x25fa0e2b1cd178e9ba706721313cc7cab315f520",
          "0x22ae24c2d1f489906266609d14c4c0387909a38a",
          "0x432e26fc08f236c78fd237882018a95b4c0a3d2a",
          "0x77543034d85ca10942685289e374a67e21a0f531",
          "0xb1f024bd59815fb77506548d30d3553b8240ffd7",
          "0xbac7744ada4ab1957cbaafef698b3c068beb4fe0",
          "0x980998e39d29dc5a92e7403fc9cd47e68b63ad5f",
          "0x597ad7f7a1c9f8d0121a9e949cca7530f2b25ef6",
          "0x84939cbda5c5a83e0f0a23204953e105a31de584",
          "0xe3dd93281188d27762dc4d91fc90391c5210cd1d",
          "0x2ea8ad4e9101adbd2233a85c4e06503e7d5e1d8a",
          "0x5b5079b69a3f8dc07ca05ee301e39a08a002def3",
          "0x44c98af5da6a31c422ee5eed18d53986dd9bc01e",
          "0x5be44e23041e93cdf9bcd5a0968524e104e38ae1",
          "0x5ccdfa9d9adef6b2960a3fdb29c5f29ad9f6f5f3",
          "0x847791cbf03be716a7fe9dc8c9affe17bd49ae5e",
          "0x10e0a91e652b05e9c7449ff457cf2e96c3037fb7",
          "0x5ee7da5c64150b68131692c227192fb28a240e52",
          "0x685b3cf5b8fedfddc73f3486983f9432960488ba",
          "0x6a7e4a10fc22b8b8300c990f1bb4fd45ebffc51d",
          "0x6c06d3246fbb77c4ad75480e03d2a0a8eaf68121",
          "0x02b6aac33a397aaadee5227c70c69bb97f2cc529",
          "0x9e48d670d2bd7300796caa6c05e3d2cc41b8cb9c",
          "0x9d61ae5875e89036fbf6059f3116d01a22ace3c8",
          "0x78a5a644801f7f62b91f26032bc1b7976a4f6790",
          "0x4bcc9256418b29c482596443fa5c99ae114b3351",
          "0xf8fb0aef25b850dc8d8aeead92eb64a3010795a0",
          "0x750fc601b63554a0d5636f11dbbf8e66a3166889",
          "0xf63b84aaa39c4406ebf2d1e3d6acb1fb51f19dbd",
          "0x0fc80afb7876f579f1fb1c4d1c37cf1339038658",
          "0xbea1956531ebffd79b6c7a41fe88480cbcff4f2b",
          "0xcb69ffc06d3c218472c50ee25f5a1d3ca9650c44",
          "0x33b4b951c8e2a0134f6512f806acbcd90677fa5b",
          "0x3333c47fc87b65cc7409c6a169db573247807b27",
          "0x2e3a21ae7cdeb48f57fcad1ce16b258d5502ac05",
          "0xe8a62ca461264b3f8066668d9ecfdab401413621",
          "0xaafb1483c63fee231266639421dfc5bfa7970384",
          "0x10742714f33f3d804e3fa489618b5c3ca12a6df7",
          "0x74ba897f65f04008d8eff364efcc54b0a20e17eb",
          "0x08f10d03a0cf7a9eaddc7eacd4cf135a07a0feff",
          "0x0d5a6601942bf92e7b259bfc6b56009e6a1c0ad2",
          "0x4a43b1d7e6227c8b0512e413f406555647ff7bdb",
          "0x104a7ca059a35fd4def5ecb16600b2caa1fe1361",
          "0xf7da517712844b47febe9973fb7712691fdf6e28",
          "0x8ce915f5ea98aa782e373a69e19173daff5d8e59",
          "0x41239fb65360981316fcb4a8548320d305f9496d",
          "0xf8ee1a8af53086b025dcc9b74a2444827d3ec64c",
          "0x00803b76dc924ceabf4380a6f9edc2ddd3c90f38",
          "0x3a025488a37fecdb6ca8a4cbd72ba87a919d8bf3",
          "0x6cb1ce2516fb7d211038420a8cf9a843c7bd3b08",
          "0x731808ad8b1c3d13e8972db838ada5fc6ae3c2c8",
          "0x1d5919ebdc911ea2f3b9f6cdc6f8df8010b36541",
          "0x5d11abd838073df76e32c495f97fd3239eabb9fb",
          "0x90b8b6cf5c923116273fbbee4f146ff83469a1ab",
          "0xa7c3be4eb0268dcbefbd30d8f7ac8f1a57468032",
          "0x3b28a7d785356dc67c7970666747e042305bfb79",
          "0xddab9ddfa2a5a928a19dc5c02ceb5d2d53000d4c",
          "0x9c5874aa481b9c652d5420d65ce8becaad9ff3a7",
          "0x3018741c62246bf56f6ed6142f2527acab34524c",
          "0x11b04d9a305abe978aeaddc67d9d09aaa4996090",
          "0x8ad00ef5a4323ae2a5501c3baba3788547c6dd1c",
          "0xbdcbe92befbf36d63ec547bba5842997d77dc841",
          "0x808be72cea7310f1817759be52381fe116b792b3",
          "0x599f9f49e2ef93f07dc98a89ffeeb254926a1986",
          "0x3bbe84023c11c4874f493d70b370d26390e3c580",
          "0xe3a5793d7c1d2a04a903fa1695b3e3555d6084ca",
          "0xb3ec176da90524ae3ea530caca4d8afc84f10c09",
          "0xf5a88945ce64b5648b895e05eb1edf693dde8905",
          "0xa408138c3c75c927b8614a24a39de02ffd71405f",
          "0x76a65814b6e0fa5a3598ef6503fa1d990ec0e61a",
          "0xb5164d6b780786338c52f4787abba0e4a371af4d",
          "0x43793ab4a56e5d4c263e6320d59072e01819b6c9",
          "0x9d2b4e5c4b1fd81d06b883b0aca661b771c39ea3",
          "0x9c10672cee058fd658103d90872fe431bb6c0afa",
          "0xda43d85b8d419a9c51bbf0089c9bd5169c23f2f9",
          "0x88e103b26e1a4ce226739d37d356b22afbfeed85",
          "0xe9e284277648fcdb09b8efc1832c73c09b5ecf59",
          "0x4ff088ac5422f994486663ff903b040692797168",
          "0x10b21af759129f32c6064adfb85d3ea2a8c0209c",
          "0x525419ff5707190389bfb5c87c375d710f5fcb0e",
          "0x8d3803ecfe86afbb25899a806b46714914b0a4b5",
          "0xf4e8ef0763bcb2b1af693f5970a00050a6ac7e1b",
          "0x21d1130dc36958db75fbb0e5a9e3e5f5680238ff",
          "0x942f0c28fb85ea0b50bfb76a3ecfa99861fa9b4b",
          "0xe0a4a877cd0a07da7c08dffebc2546a4713147f2",
          "0xdac817294c0c87ca4fa1895ef4b972eade99f2fd",
          "0xa6a9eb29e786b5233bd99c0ba28be882fe954a0e",
          "0xd18a02647d99dc9f79afbe0f58f8353178e6141f",
          "0xd1366b85ea804cbb4493f2cc9d3d805f86bd61b2",
          "0xd0aa1b9d0cd06cafa6af5c1af272be88c38aa831",
          "0xd00354656922168815fcd1e51cbddb9e359e3c7f",
          "0xcfa2a70fdf74ebda788eeb1498425ceb0630e1cb",
          "0x9d5611bf0dadddb4441a709141d9229d7f6b3e47",
          "0xbe8770603daf200b1fa136ad354ba854928e602b",
          "0x4f4758f7167b18e1f5b3c1a7575e3eb584894dbc",
          "0x9e14de5cc84e437518c2c303c88570fe13f0ad15",
          "0x4712e01e944802613de3a0a6d23274e7e0243015",
          "0xa20416801ac2eacf2372e825b4a90ef52490c2bb",
          "0x3e2b450c0c499d8301146367680e067cd009db93",
          "0xd84781e1a9b74d71ea76cda8bb9f30893bfd00d1"
         ],
         "xaxis": "x",
         "y": [
          1,
          1,
          1,
          1,
          1,
          1,
          1,
          1,
          1,
          1,
          1,
          1,
          1,
          1,
          1,
          1,
          1,
          1,
          1,
          1,
          1,
          1,
          0.9666666666666667,
          0.9666666666666667,
          0.9666666666666667,
          0.9666666666666667,
          0.9666666666666667,
          0.9666666666666667,
          0.9666666666666667,
          0.9666666666666667,
          0.9666666666666667,
          0.9666666666666667,
          0.9666666666666667,
          0.9666666666666667,
          0.9666666666666667,
          0.9666666666666667,
          0.9666666666666667,
          0.9666666666666667,
          0.9333333333333333,
          0.9333333333333333,
          0.9333333333333333,
          0.9333333333333333,
          0.9333333333333333,
          0.9333333333333333,
          0.9333333333333333,
          0.9333333333333333,
          0.9,
          0.9,
          0.9,
          0.9,
          0.9,
          0.9,
          0.8666666666666667,
          0.8666666666666667,
          0.8666666666666667,
          0.8666666666666667,
          0.8666666666666667,
          0.8666666666666667,
          0.8333333333333334,
          0.8333333333333334,
          0.8333333333333334,
          0.8,
          0.8,
          0.8,
          0.7666666666666666,
          0.7333333333333334,
          0.7,
          0.6666666666666667,
          0.6,
          0.5666666666666667,
          0.33333333333333337,
          0.30000000000000004,
          0.19999999999999996,
          0.16666666666666663,
          0.09999999999999998,
          0.09999999999999998,
          0.09999999999999998,
          0.09999999999999998,
          0.033333333333333326,
          0,
          0,
          0,
          0,
          0,
          0,
          0,
          0,
          0,
          0,
          0,
          0,
          0,
          0,
          0,
          0,
          0,
          0,
          0,
          0,
          0
         ],
         "yaxis": "y"
        }
       ],
       "layout": {
        "barmode": "relative",
        "legend": {
         "tracegroupgap": 0
        },
        "margin": {
         "t": 60
        },
        "template": {
         "data": {
          "bar": [
           {
            "error_x": {
             "color": "#2a3f5f"
            },
            "error_y": {
             "color": "#2a3f5f"
            },
            "marker": {
             "line": {
              "color": "#E5ECF6",
              "width": 0.5
             },
             "pattern": {
              "fillmode": "overlay",
              "size": 10,
              "solidity": 0.2
             }
            },
            "type": "bar"
           }
          ],
          "barpolar": [
           {
            "marker": {
             "line": {
              "color": "#E5ECF6",
              "width": 0.5
             },
             "pattern": {
              "fillmode": "overlay",
              "size": 10,
              "solidity": 0.2
             }
            },
            "type": "barpolar"
           }
          ],
          "carpet": [
           {
            "aaxis": {
             "endlinecolor": "#2a3f5f",
             "gridcolor": "white",
             "linecolor": "white",
             "minorgridcolor": "white",
             "startlinecolor": "#2a3f5f"
            },
            "baxis": {
             "endlinecolor": "#2a3f5f",
             "gridcolor": "white",
             "linecolor": "white",
             "minorgridcolor": "white",
             "startlinecolor": "#2a3f5f"
            },
            "type": "carpet"
           }
          ],
          "choropleth": [
           {
            "colorbar": {
             "outlinewidth": 0,
             "ticks": ""
            },
            "type": "choropleth"
           }
          ],
          "contour": [
           {
            "colorbar": {
             "outlinewidth": 0,
             "ticks": ""
            },
            "colorscale": [
             [
              0,
              "#0d0887"
             ],
             [
              0.1111111111111111,
              "#46039f"
             ],
             [
              0.2222222222222222,
              "#7201a8"
             ],
             [
              0.3333333333333333,
              "#9c179e"
             ],
             [
              0.4444444444444444,
              "#bd3786"
             ],
             [
              0.5555555555555556,
              "#d8576b"
             ],
             [
              0.6666666666666666,
              "#ed7953"
             ],
             [
              0.7777777777777778,
              "#fb9f3a"
             ],
             [
              0.8888888888888888,
              "#fdca26"
             ],
             [
              1,
              "#f0f921"
             ]
            ],
            "type": "contour"
           }
          ],
          "contourcarpet": [
           {
            "colorbar": {
             "outlinewidth": 0,
             "ticks": ""
            },
            "type": "contourcarpet"
           }
          ],
          "heatmap": [
           {
            "colorbar": {
             "outlinewidth": 0,
             "ticks": ""
            },
            "colorscale": [
             [
              0,
              "#0d0887"
             ],
             [
              0.1111111111111111,
              "#46039f"
             ],
             [
              0.2222222222222222,
              "#7201a8"
             ],
             [
              0.3333333333333333,
              "#9c179e"
             ],
             [
              0.4444444444444444,
              "#bd3786"
             ],
             [
              0.5555555555555556,
              "#d8576b"
             ],
             [
              0.6666666666666666,
              "#ed7953"
             ],
             [
              0.7777777777777778,
              "#fb9f3a"
             ],
             [
              0.8888888888888888,
              "#fdca26"
             ],
             [
              1,
              "#f0f921"
             ]
            ],
            "type": "heatmap"
           }
          ],
          "heatmapgl": [
           {
            "colorbar": {
             "outlinewidth": 0,
             "ticks": ""
            },
            "colorscale": [
             [
              0,
              "#0d0887"
             ],
             [
              0.1111111111111111,
              "#46039f"
             ],
             [
              0.2222222222222222,
              "#7201a8"
             ],
             [
              0.3333333333333333,
              "#9c179e"
             ],
             [
              0.4444444444444444,
              "#bd3786"
             ],
             [
              0.5555555555555556,
              "#d8576b"
             ],
             [
              0.6666666666666666,
              "#ed7953"
             ],
             [
              0.7777777777777778,
              "#fb9f3a"
             ],
             [
              0.8888888888888888,
              "#fdca26"
             ],
             [
              1,
              "#f0f921"
             ]
            ],
            "type": "heatmapgl"
           }
          ],
          "histogram": [
           {
            "marker": {
             "pattern": {
              "fillmode": "overlay",
              "size": 10,
              "solidity": 0.2
             }
            },
            "type": "histogram"
           }
          ],
          "histogram2d": [
           {
            "colorbar": {
             "outlinewidth": 0,
             "ticks": ""
            },
            "colorscale": [
             [
              0,
              "#0d0887"
             ],
             [
              0.1111111111111111,
              "#46039f"
             ],
             [
              0.2222222222222222,
              "#7201a8"
             ],
             [
              0.3333333333333333,
              "#9c179e"
             ],
             [
              0.4444444444444444,
              "#bd3786"
             ],
             [
              0.5555555555555556,
              "#d8576b"
             ],
             [
              0.6666666666666666,
              "#ed7953"
             ],
             [
              0.7777777777777778,
              "#fb9f3a"
             ],
             [
              0.8888888888888888,
              "#fdca26"
             ],
             [
              1,
              "#f0f921"
             ]
            ],
            "type": "histogram2d"
           }
          ],
          "histogram2dcontour": [
           {
            "colorbar": {
             "outlinewidth": 0,
             "ticks": ""
            },
            "colorscale": [
             [
              0,
              "#0d0887"
             ],
             [
              0.1111111111111111,
              "#46039f"
             ],
             [
              0.2222222222222222,
              "#7201a8"
             ],
             [
              0.3333333333333333,
              "#9c179e"
             ],
             [
              0.4444444444444444,
              "#bd3786"
             ],
             [
              0.5555555555555556,
              "#d8576b"
             ],
             [
              0.6666666666666666,
              "#ed7953"
             ],
             [
              0.7777777777777778,
              "#fb9f3a"
             ],
             [
              0.8888888888888888,
              "#fdca26"
             ],
             [
              1,
              "#f0f921"
             ]
            ],
            "type": "histogram2dcontour"
           }
          ],
          "mesh3d": [
           {
            "colorbar": {
             "outlinewidth": 0,
             "ticks": ""
            },
            "type": "mesh3d"
           }
          ],
          "parcoords": [
           {
            "line": {
             "colorbar": {
              "outlinewidth": 0,
              "ticks": ""
             }
            },
            "type": "parcoords"
           }
          ],
          "pie": [
           {
            "automargin": true,
            "type": "pie"
           }
          ],
          "scatter": [
           {
            "marker": {
             "colorbar": {
              "outlinewidth": 0,
              "ticks": ""
             }
            },
            "type": "scatter"
           }
          ],
          "scatter3d": [
           {
            "line": {
             "colorbar": {
              "outlinewidth": 0,
              "ticks": ""
             }
            },
            "marker": {
             "colorbar": {
              "outlinewidth": 0,
              "ticks": ""
             }
            },
            "type": "scatter3d"
           }
          ],
          "scattercarpet": [
           {
            "marker": {
             "colorbar": {
              "outlinewidth": 0,
              "ticks": ""
             }
            },
            "type": "scattercarpet"
           }
          ],
          "scattergeo": [
           {
            "marker": {
             "colorbar": {
              "outlinewidth": 0,
              "ticks": ""
             }
            },
            "type": "scattergeo"
           }
          ],
          "scattergl": [
           {
            "marker": {
             "colorbar": {
              "outlinewidth": 0,
              "ticks": ""
             }
            },
            "type": "scattergl"
           }
          ],
          "scattermapbox": [
           {
            "marker": {
             "colorbar": {
              "outlinewidth": 0,
              "ticks": ""
             }
            },
            "type": "scattermapbox"
           }
          ],
          "scatterpolar": [
           {
            "marker": {
             "colorbar": {
              "outlinewidth": 0,
              "ticks": ""
             }
            },
            "type": "scatterpolar"
           }
          ],
          "scatterpolargl": [
           {
            "marker": {
             "colorbar": {
              "outlinewidth": 0,
              "ticks": ""
             }
            },
            "type": "scatterpolargl"
           }
          ],
          "scatterternary": [
           {
            "marker": {
             "colorbar": {
              "outlinewidth": 0,
              "ticks": ""
             }
            },
            "type": "scatterternary"
           }
          ],
          "surface": [
           {
            "colorbar": {
             "outlinewidth": 0,
             "ticks": ""
            },
            "colorscale": [
             [
              0,
              "#0d0887"
             ],
             [
              0.1111111111111111,
              "#46039f"
             ],
             [
              0.2222222222222222,
              "#7201a8"
             ],
             [
              0.3333333333333333,
              "#9c179e"
             ],
             [
              0.4444444444444444,
              "#bd3786"
             ],
             [
              0.5555555555555556,
              "#d8576b"
             ],
             [
              0.6666666666666666,
              "#ed7953"
             ],
             [
              0.7777777777777778,
              "#fb9f3a"
             ],
             [
              0.8888888888888888,
              "#fdca26"
             ],
             [
              1,
              "#f0f921"
             ]
            ],
            "type": "surface"
           }
          ],
          "table": [
           {
            "cells": {
             "fill": {
              "color": "#EBF0F8"
             },
             "line": {
              "color": "white"
             }
            },
            "header": {
             "fill": {
              "color": "#C8D4E3"
             },
             "line": {
              "color": "white"
             }
            },
            "type": "table"
           }
          ]
         },
         "layout": {
          "annotationdefaults": {
           "arrowcolor": "#2a3f5f",
           "arrowhead": 0,
           "arrowwidth": 1
          },
          "autotypenumbers": "strict",
          "coloraxis": {
           "colorbar": {
            "outlinewidth": 0,
            "ticks": ""
           }
          },
          "colorscale": {
           "diverging": [
            [
             0,
             "#8e0152"
            ],
            [
             0.1,
             "#c51b7d"
            ],
            [
             0.2,
             "#de77ae"
            ],
            [
             0.3,
             "#f1b6da"
            ],
            [
             0.4,
             "#fde0ef"
            ],
            [
             0.5,
             "#f7f7f7"
            ],
            [
             0.6,
             "#e6f5d0"
            ],
            [
             0.7,
             "#b8e186"
            ],
            [
             0.8,
             "#7fbc41"
            ],
            [
             0.9,
             "#4d9221"
            ],
            [
             1,
             "#276419"
            ]
           ],
           "sequential": [
            [
             0,
             "#0d0887"
            ],
            [
             0.1111111111111111,
             "#46039f"
            ],
            [
             0.2222222222222222,
             "#7201a8"
            ],
            [
             0.3333333333333333,
             "#9c179e"
            ],
            [
             0.4444444444444444,
             "#bd3786"
            ],
            [
             0.5555555555555556,
             "#d8576b"
            ],
            [
             0.6666666666666666,
             "#ed7953"
            ],
            [
             0.7777777777777778,
             "#fb9f3a"
            ],
            [
             0.8888888888888888,
             "#fdca26"
            ],
            [
             1,
             "#f0f921"
            ]
           ],
           "sequentialminus": [
            [
             0,
             "#0d0887"
            ],
            [
             0.1111111111111111,
             "#46039f"
            ],
            [
             0.2222222222222222,
             "#7201a8"
            ],
            [
             0.3333333333333333,
             "#9c179e"
            ],
            [
             0.4444444444444444,
             "#bd3786"
            ],
            [
             0.5555555555555556,
             "#d8576b"
            ],
            [
             0.6666666666666666,
             "#ed7953"
            ],
            [
             0.7777777777777778,
             "#fb9f3a"
            ],
            [
             0.8888888888888888,
             "#fdca26"
            ],
            [
             1,
             "#f0f921"
            ]
           ]
          },
          "colorway": [
           "#636efa",
           "#EF553B",
           "#00cc96",
           "#ab63fa",
           "#FFA15A",
           "#19d3f3",
           "#FF6692",
           "#B6E880",
           "#FF97FF",
           "#FECB52"
          ],
          "font": {
           "color": "#2a3f5f"
          },
          "geo": {
           "bgcolor": "white",
           "lakecolor": "white",
           "landcolor": "#E5ECF6",
           "showlakes": true,
           "showland": true,
           "subunitcolor": "white"
          },
          "hoverlabel": {
           "align": "left"
          },
          "hovermode": "closest",
          "mapbox": {
           "style": "light"
          },
          "paper_bgcolor": "white",
          "plot_bgcolor": "#E5ECF6",
          "polar": {
           "angularaxis": {
            "gridcolor": "white",
            "linecolor": "white",
            "ticks": ""
           },
           "bgcolor": "#E5ECF6",
           "radialaxis": {
            "gridcolor": "white",
            "linecolor": "white",
            "ticks": ""
           }
          },
          "scene": {
           "xaxis": {
            "backgroundcolor": "#E5ECF6",
            "gridcolor": "white",
            "gridwidth": 2,
            "linecolor": "white",
            "showbackground": true,
            "ticks": "",
            "zerolinecolor": "white"
           },
           "yaxis": {
            "backgroundcolor": "#E5ECF6",
            "gridcolor": "white",
            "gridwidth": 2,
            "linecolor": "white",
            "showbackground": true,
            "ticks": "",
            "zerolinecolor": "white"
           },
           "zaxis": {
            "backgroundcolor": "#E5ECF6",
            "gridcolor": "white",
            "gridwidth": 2,
            "linecolor": "white",
            "showbackground": true,
            "ticks": "",
            "zerolinecolor": "white"
           }
          },
          "shapedefaults": {
           "line": {
            "color": "#2a3f5f"
           }
          },
          "ternary": {
           "aaxis": {
            "gridcolor": "white",
            "linecolor": "white",
            "ticks": ""
           },
           "baxis": {
            "gridcolor": "white",
            "linecolor": "white",
            "ticks": ""
           },
           "bgcolor": "#E5ECF6",
           "caxis": {
            "gridcolor": "white",
            "linecolor": "white",
            "ticks": ""
           }
          },
          "title": {
           "x": 0.05
          },
          "xaxis": {
           "automargin": true,
           "gridcolor": "white",
           "linecolor": "white",
           "ticks": "",
           "title": {
            "standoff": 15
           },
           "zerolinecolor": "white",
           "zerolinewidth": 2
          },
          "yaxis": {
           "automargin": true,
           "gridcolor": "white",
           "linecolor": "white",
           "ticks": "",
           "title": {
            "standoff": 15
           },
           "zerolinecolor": "white",
           "zerolinewidth": 2
          }
         }
        },
        "xaxis": {
         "anchor": "y",
         "domain": [
          0,
          1
         ],
         "title": {
          "text": "transcoders_id"
         }
        },
        "yaxis": {
         "anchor": "x",
         "domain": [
          0,
          1
         ],
         "title": {
          "text": "ratio"
         }
        }
       }
      }
     },
     "metadata": {},
     "output_type": "display_data"
    }
   ],
   "source": [
    "import plotly.express as px\n",
    "fig = px.bar(call_ratio.sort_values('ratio',ascending=False), x='transcoders_id', y='ratio')\n",
    "fig.show()"
   ]
  },
  {
   "cell_type": "markdown",
   "metadata": {},
   "source": [
    "ok, so i could keep the totalStake data and order this by transcoders with the top stake, instead  \n",
    "or would the sum of actual rewardTokens be more useful here? 100% call_ratio on 1/1 is not that impressive...  \n",
    "**scatter** with the % vs sum would be more useful"
   ]
  }
 ],
 "metadata": {
  "interpreter": {
   "hash": "563be840b653d6630c07a864b812e97ed841739b8fd8cc2197c5e70bf46d08df"
  },
  "kernelspec": {
   "display_name": "Python 3.10.2 ('lptenv': venv)",
   "language": "python",
   "name": "python3"
  },
  "language_info": {
   "codemirror_mode": {
    "name": "ipython",
    "version": 3
   },
   "file_extension": ".py",
   "mimetype": "text/x-python",
   "name": "python",
   "nbconvert_exporter": "python",
   "pygments_lexer": "ipython3",
   "version": "3.10.2"
  },
  "orig_nbformat": 4
 },
 "nbformat": 4,
 "nbformat_minor": 2
}
