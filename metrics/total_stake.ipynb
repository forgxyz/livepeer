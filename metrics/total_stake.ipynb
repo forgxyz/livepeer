{
 "cells": [
  {
   "cell_type": "code",
   "execution_count": 1,
   "metadata": {},
   "outputs": [],
   "source": [
    "from subgrounds.subgrounds import Subgrounds\n",
    "from subgrounds.plotly_wrappers import Bar, Figure\n",
    "\n",
    "import pandas as pd\n",
    "\n",
    "# initialize Subgrounds object\n",
    "sg = Subgrounds()\n",
    "\n",
    "# load livepeer subgraph\n",
    "lpt = sg.load_subgraph('https://api.thegraph.com/subgraphs/name/livepeer/livepeer')\n",
    "\n",
    "# define FieldPaths\n",
    "transcoders = lpt.Query.transcoders\n",
    "delegators = lpt.Query.delegators\n"
   ]
  },
  {
   "cell_type": "code",
   "execution_count": 9,
   "metadata": {},
   "outputs": [
    {
     "data": {
      "text/html": [
       "<div>\n",
       "<style scoped>\n",
       "    .dataframe tbody tr th:only-of-type {\n",
       "        vertical-align: middle;\n",
       "    }\n",
       "\n",
       "    .dataframe tbody tr th {\n",
       "        vertical-align: top;\n",
       "    }\n",
       "\n",
       "    .dataframe thead th {\n",
       "        text-align: right;\n",
       "    }\n",
       "</style>\n",
       "<table border=\"1\" class=\"dataframe\">\n",
       "  <thead>\n",
       "    <tr style=\"text-align: right;\">\n",
       "      <th></th>\n",
       "      <th>transcoders_id</th>\n",
       "      <th>transcoders_totalStake</th>\n",
       "    </tr>\n",
       "  </thead>\n",
       "  <tbody>\n",
       "    <tr>\n",
       "      <th>0</th>\n",
       "      <td>0x9c10672cee058fd658103d90872fe431bb6c0afa</td>\n",
       "      <td>2.516184e+06</td>\n",
       "    </tr>\n",
       "    <tr>\n",
       "      <th>1</th>\n",
       "      <td>0xda43d85b8d419a9c51bbf0089c9bd5169c23f2f9</td>\n",
       "      <td>1.252157e+06</td>\n",
       "    </tr>\n",
       "    <tr>\n",
       "      <th>2</th>\n",
       "      <td>0x525419ff5707190389bfb5c87c375d710f5fcb0e</td>\n",
       "      <td>9.233017e+05</td>\n",
       "    </tr>\n",
       "    <tr>\n",
       "      <th>3</th>\n",
       "      <td>0x4ff088ac5422f994486663ff903b040692797168</td>\n",
       "      <td>7.841820e+05</td>\n",
       "    </tr>\n",
       "    <tr>\n",
       "      <th>4</th>\n",
       "      <td>0x942f0c28fb85ea0b50bfb76a3ecfa99861fa9b4b</td>\n",
       "      <td>7.284690e+05</td>\n",
       "    </tr>\n",
       "    <tr>\n",
       "      <th>...</th>\n",
       "      <td>...</td>\n",
       "      <td>...</td>\n",
       "    </tr>\n",
       "    <tr>\n",
       "      <th>343</th>\n",
       "      <td>0x04c670b89907d9740c2f8683e397096d040b0682</td>\n",
       "      <td>0.000000e+00</td>\n",
       "    </tr>\n",
       "    <tr>\n",
       "      <th>344</th>\n",
       "      <td>0x04008b69b7af1f94c1233423d2539d517fc30a74</td>\n",
       "      <td>0.000000e+00</td>\n",
       "    </tr>\n",
       "    <tr>\n",
       "      <th>345</th>\n",
       "      <td>0x00ac9c5193660b1f69092fb4b0f011521b67627f</td>\n",
       "      <td>0.000000e+00</td>\n",
       "    </tr>\n",
       "    <tr>\n",
       "      <th>346</th>\n",
       "      <td>0x004dcf13e2f37abea365a9ed94e568906a39a5c7</td>\n",
       "      <td>0.000000e+00</td>\n",
       "    </tr>\n",
       "    <tr>\n",
       "      <th>347</th>\n",
       "      <td>0x0000000000000000000000000000000000000000</td>\n",
       "      <td>0.000000e+00</td>\n",
       "    </tr>\n",
       "  </tbody>\n",
       "</table>\n",
       "<p>348 rows × 2 columns</p>\n",
       "</div>"
      ],
      "text/plain": [
       "                                 transcoders_id  transcoders_totalStake\n",
       "0    0x9c10672cee058fd658103d90872fe431bb6c0afa            2.516184e+06\n",
       "1    0xda43d85b8d419a9c51bbf0089c9bd5169c23f2f9            1.252157e+06\n",
       "2    0x525419ff5707190389bfb5c87c375d710f5fcb0e            9.233017e+05\n",
       "3    0x4ff088ac5422f994486663ff903b040692797168            7.841820e+05\n",
       "4    0x942f0c28fb85ea0b50bfb76a3ecfa99861fa9b4b            7.284690e+05\n",
       "..                                          ...                     ...\n",
       "343  0x04c670b89907d9740c2f8683e397096d040b0682            0.000000e+00\n",
       "344  0x04008b69b7af1f94c1233423d2539d517fc30a74            0.000000e+00\n",
       "345  0x00ac9c5193660b1f69092fb4b0f011521b67627f            0.000000e+00\n",
       "346  0x004dcf13e2f37abea365a9ed94e568906a39a5c7            0.000000e+00\n",
       "347  0x0000000000000000000000000000000000000000            0.000000e+00\n",
       "\n",
       "[348 rows x 2 columns]"
      ]
     },
     "execution_count": 9,
     "metadata": {},
     "output_type": "execute_result"
    }
   ],
   "source": [
    "top_stake = transcoders(\n",
    "    orderBy=transcoders.totalStake,\n",
    "    orderDirection='desc',\n",
    "    first=350\n",
    ")\n",
    "\n",
    "total_stake = sg.query_df([\n",
    "    top_stake.id,\n",
    "    top_stake.totalStake\n",
    "])\n",
    "\n",
    "total_stake"
   ]
  },
  {
   "cell_type": "code",
   "execution_count": 17,
   "metadata": {},
   "outputs": [],
   "source": [
    "import matplotlib"
   ]
  },
  {
   "cell_type": "code",
   "execution_count": 18,
   "metadata": {},
   "outputs": [
    {
     "name": "stderr",
     "output_type": "stream",
     "text": [
      "/Users/jackforgash/gh/livepeer/lptenv/lib/python3.10/site-packages/matplotlib_inline/config.py:66: DeprecationWarning: InlineBackend._figure_formats_changed is deprecated in traitlets 4.1: use @observe and @unobserve instead.\n",
      "  def _figure_formats_changed(self, name, old, new):\n"
     ]
    },
    {
     "data": {
      "text/plain": [
       "<AxesSubplot:>"
      ]
     },
     "execution_count": 18,
     "metadata": {},
     "output_type": "execute_result"
    },
    {
     "data": {
      "image/png": "[encoded data removed]",
      "text/plain": [
       "<Figure size 432x288 with 1 Axes>"
      ]
     },
     "metadata": {
      "needs_background": "light"
     },
     "output_type": "display_data"
    }
   ],
   "source": [
    "total_stake.plot.bar()"
   ]
  },
  {
   "cell_type": "code",
   "execution_count": 19,
   "metadata": {},
   "outputs": [
    {
     "data": {
      "text/plain": [
       "<AxesSubplot:>"
      ]
     },
     "execution_count": 19,
     "metadata": {},
     "output_type": "execute_result"
    },
    {
     "data": {
      "image/png": "[encoded data removed]",
      "text/plain": [
       "<Figure size 432x288 with 1 Axes>"
      ]
     },
     "metadata": {
      "needs_background": "light"
     },
     "output_type": "display_data"
    }
   ],
   "source": [
    "total_stake[:20].plot.bar()"
   ]
  },
  {
   "cell_type": "code",
   "execution_count": 20,
   "metadata": {},
   "outputs": [
    {
     "data": {
      "text/html": [
       "<div>\n",
       "<style scoped>\n",
       "    .dataframe tbody tr th:only-of-type {\n",
       "        vertical-align: middle;\n",
       "    }\n",
       "\n",
       "    .dataframe tbody tr th {\n",
       "        vertical-align: top;\n",
       "    }\n",
       "\n",
       "    .dataframe thead th {\n",
       "        text-align: right;\n",
       "    }\n",
       "</style>\n",
       "<table border=\"1\" class=\"dataframe\">\n",
       "  <thead>\n",
       "    <tr style=\"text-align: right;\">\n",
       "      <th></th>\n",
       "      <th>transcoders_id</th>\n",
       "      <th>transcoders_totalStake</th>\n",
       "    </tr>\n",
       "  </thead>\n",
       "  <tbody>\n",
       "    <tr>\n",
       "      <th>0</th>\n",
       "      <td>0x9c10672cee058fd658103d90872fe431bb6c0afa</td>\n",
       "      <td>2.516184e+06</td>\n",
       "    </tr>\n",
       "    <tr>\n",
       "      <th>1</th>\n",
       "      <td>0xda43d85b8d419a9c51bbf0089c9bd5169c23f2f9</td>\n",
       "      <td>1.252157e+06</td>\n",
       "    </tr>\n",
       "    <tr>\n",
       "      <th>2</th>\n",
       "      <td>0x525419ff5707190389bfb5c87c375d710f5fcb0e</td>\n",
       "      <td>9.233017e+05</td>\n",
       "    </tr>\n",
       "    <tr>\n",
       "      <th>3</th>\n",
       "      <td>0x4ff088ac5422f994486663ff903b040692797168</td>\n",
       "      <td>7.841820e+05</td>\n",
       "    </tr>\n",
       "    <tr>\n",
       "      <th>4</th>\n",
       "      <td>0x942f0c28fb85ea0b50bfb76a3ecfa99861fa9b4b</td>\n",
       "      <td>7.284690e+05</td>\n",
       "    </tr>\n",
       "    <tr>\n",
       "      <th>5</th>\n",
       "      <td>0xe0a4a877cd0a07da7c08dffebc2546a4713147f2</td>\n",
       "      <td>6.424943e+05</td>\n",
       "    </tr>\n",
       "    <tr>\n",
       "      <th>6</th>\n",
       "      <td>0x4f4758f7167b18e1f5b3c1a7575e3eb584894dbc</td>\n",
       "      <td>5.444993e+05</td>\n",
       "    </tr>\n",
       "    <tr>\n",
       "      <th>7</th>\n",
       "      <td>0x731808ad8b1c3d13e8972db838ada5fc6ae3c2c8</td>\n",
       "      <td>5.117972e+05</td>\n",
       "    </tr>\n",
       "    <tr>\n",
       "      <th>8</th>\n",
       "      <td>0xd84781e1a9b74d71ea76cda8bb9f30893bfd00d1</td>\n",
       "      <td>4.195702e+05</td>\n",
       "    </tr>\n",
       "    <tr>\n",
       "      <th>9</th>\n",
       "      <td>0xdac817294c0c87ca4fa1895ef4b972eade99f2fd</td>\n",
       "      <td>3.410711e+05</td>\n",
       "    </tr>\n",
       "  </tbody>\n",
       "</table>\n",
       "</div>"
      ],
      "text/plain": [
       "                               transcoders_id  transcoders_totalStake\n",
       "0  0x9c10672cee058fd658103d90872fe431bb6c0afa            2.516184e+06\n",
       "1  0xda43d85b8d419a9c51bbf0089c9bd5169c23f2f9            1.252157e+06\n",
       "2  0x525419ff5707190389bfb5c87c375d710f5fcb0e            9.233017e+05\n",
       "3  0x4ff088ac5422f994486663ff903b040692797168            7.841820e+05\n",
       "4  0x942f0c28fb85ea0b50bfb76a3ecfa99861fa9b4b            7.284690e+05\n",
       "5  0xe0a4a877cd0a07da7c08dffebc2546a4713147f2            6.424943e+05\n",
       "6  0x4f4758f7167b18e1f5b3c1a7575e3eb584894dbc            5.444993e+05\n",
       "7  0x731808ad8b1c3d13e8972db838ada5fc6ae3c2c8            5.117972e+05\n",
       "8  0xd84781e1a9b74d71ea76cda8bb9f30893bfd00d1            4.195702e+05\n",
       "9  0xdac817294c0c87ca4fa1895ef4b972eade99f2fd            3.410711e+05"
      ]
     },
     "execution_count": 20,
     "metadata": {},
     "output_type": "execute_result"
    }
   ],
   "source": [
    "total_stake[:10]"
   ]
  }
 ],
 "metadata": {
  "interpreter": {
   "hash": "563be840b653d6630c07a864b812e97ed841739b8fd8cc2197c5e70bf46d08df"
  },
  "kernelspec": {
   "display_name": "Python 3.10.2 ('lptenv': venv)",
   "language": "python",
   "name": "python3"
  },
  "language_info": {
   "codemirror_mode": {
    "name": "ipython",
    "version": 3
   },
   "file_extension": ".py",
   "mimetype": "text/x-python",
   "name": "python",
   "nbconvert_exporter": "python",
   "pygments_lexer": "ipython3",
   "version": "3.10.2"
  },
  "orig_nbformat": 4
 },
 "nbformat": 4,
 "nbformat_minor": 2
}
