{
 "cells": [
  {
   "cell_type": "code",
   "execution_count": 3,
   "metadata": {},
   "outputs": [],
   "source": [
    "import pandas as pd\n",
    "import plotly.express as px\n",
    "\n",
    "# data compiled in livepeer_orchestrators.ipynb\n",
    "# imported here for cleanlinesa\n",
    "%store -r leaderboard_copy\n",
    "leaderboard = leaderboard_copy\n",
    "\n",
    "# note - plotly does not show on github due to javascript blocking. \n",
    "# if you clone to your machine and open in vs code / conda the integrated charts should show"
   ]
  },
  {
   "cell_type": "code",
   "execution_count": 4,
   "metadata": {},
   "outputs": [
    {
     "data": {
      "text/html": [
       "<div>\n",
       "<style scoped>\n",
       "    .dataframe tbody tr th:only-of-type {\n",
       "        vertical-align: middle;\n",
       "    }\n",
       "\n",
       "    .dataframe tbody tr th {\n",
       "        vertical-align: top;\n",
       "    }\n",
       "\n",
       "    .dataframe thead th {\n",
       "        text-align: right;\n",
       "    }\n",
       "</style>\n",
       "<table border=\"1\" class=\"dataframe\">\n",
       "  <thead>\n",
       "    <tr style=\"text-align: right;\">\n",
       "      <th></th>\n",
       "      <th>transcoders_id</th>\n",
       "      <th>transcoders_totalStake</th>\n",
       "      <th>transcoders_totalVolumeETH</th>\n",
       "      <th>transcoders_totalVolumeUSD</th>\n",
       "      <th>call_ratio</th>\n",
       "      <th>delegator_count</th>\n",
       "      <th>score</th>\n",
       "    </tr>\n",
       "  </thead>\n",
       "  <tbody>\n",
       "    <tr>\n",
       "      <th>0</th>\n",
       "      <td>0x9c10672cee058fd658103d90872fe431bb6c0afa</td>\n",
       "      <td>2.516184e+06</td>\n",
       "      <td>8.001220</td>\n",
       "      <td>1516.763581</td>\n",
       "      <td>0.933333</td>\n",
       "      <td>193</td>\n",
       "      <td>0</td>\n",
       "    </tr>\n",
       "    <tr>\n",
       "      <th>1</th>\n",
       "      <td>0xda43d85b8d419a9c51bbf0089c9bd5169c23f2f9</td>\n",
       "      <td>1.252157e+06</td>\n",
       "      <td>0.722895</td>\n",
       "      <td>1990.434657</td>\n",
       "      <td>1.000000</td>\n",
       "      <td>263</td>\n",
       "      <td>0.028086</td>\n",
       "    </tr>\n",
       "    <tr>\n",
       "      <th>2</th>\n",
       "      <td>0x525419ff5707190389bfb5c87c375d710f5fcb0e</td>\n",
       "      <td>9.233017e+05</td>\n",
       "      <td>21.328402</td>\n",
       "      <td>53037.759233</td>\n",
       "      <td>1.000000</td>\n",
       "      <td>716</td>\n",
       "      <td>0.999986</td>\n",
       "    </tr>\n",
       "    <tr>\n",
       "      <th>3</th>\n",
       "      <td>0x4ff088ac5422f994486663ff903b040692797168</td>\n",
       "      <td>7.841820e+05</td>\n",
       "      <td>0.650195</td>\n",
       "      <td>2203.164261</td>\n",
       "      <td>0.900000</td>\n",
       "      <td>119</td>\n",
       "      <td>0</td>\n",
       "    </tr>\n",
       "    <tr>\n",
       "      <th>4</th>\n",
       "      <td>0x942f0c28fb85ea0b50bfb76a3ecfa99861fa9b4b</td>\n",
       "      <td>7.284690e+05</td>\n",
       "      <td>3.114552</td>\n",
       "      <td>6065.571979</td>\n",
       "      <td>1.000000</td>\n",
       "      <td>14</td>\n",
       "      <td>0.874585</td>\n",
       "    </tr>\n",
       "    <tr>\n",
       "      <th>5</th>\n",
       "      <td>0xe0a4a877cd0a07da7c08dffebc2546a4713147f2</td>\n",
       "      <td>6.424943e+05</td>\n",
       "      <td>0.000000</td>\n",
       "      <td>0.000000</td>\n",
       "      <td>0.900000</td>\n",
       "      <td>101</td>\n",
       "      <td>0</td>\n",
       "    </tr>\n",
       "    <tr>\n",
       "      <th>6</th>\n",
       "      <td>0x4f4758f7167b18e1f5b3c1a7575e3eb584894dbc</td>\n",
       "      <td>5.444993e+05</td>\n",
       "      <td>0.628243</td>\n",
       "      <td>1616.490404</td>\n",
       "      <td>1.000000</td>\n",
       "      <td>30</td>\n",
       "      <td>0</td>\n",
       "    </tr>\n",
       "    <tr>\n",
       "      <th>7</th>\n",
       "      <td>0x731808ad8b1c3d13e8972db838ada5fc6ae3c2c8</td>\n",
       "      <td>5.117972e+05</td>\n",
       "      <td>0.000000</td>\n",
       "      <td>0.000000</td>\n",
       "      <td>0.900000</td>\n",
       "      <td>2</td>\n",
       "      <td>0</td>\n",
       "    </tr>\n",
       "    <tr>\n",
       "      <th>8</th>\n",
       "      <td>0xd84781e1a9b74d71ea76cda8bb9f30893bfd00d1</td>\n",
       "      <td>4.195702e+05</td>\n",
       "      <td>1.093463</td>\n",
       "      <td>2936.040943</td>\n",
       "      <td>0.966667</td>\n",
       "      <td>155</td>\n",
       "      <td>0</td>\n",
       "    </tr>\n",
       "    <tr>\n",
       "      <th>9</th>\n",
       "      <td>0xdac817294c0c87ca4fa1895ef4b972eade99f2fd</td>\n",
       "      <td>3.410711e+05</td>\n",
       "      <td>10.829665</td>\n",
       "      <td>30211.987059</td>\n",
       "      <td>1.000000</td>\n",
       "      <td>55</td>\n",
       "      <td>0.987079</td>\n",
       "    </tr>\n",
       "  </tbody>\n",
       "</table>\n",
       "</div>"
      ],
      "text/plain": [
       "                               transcoders_id  transcoders_totalStake  \\\n",
       "0  0x9c10672cee058fd658103d90872fe431bb6c0afa            2.516184e+06   \n",
       "1  0xda43d85b8d419a9c51bbf0089c9bd5169c23f2f9            1.252157e+06   \n",
       "2  0x525419ff5707190389bfb5c87c375d710f5fcb0e            9.233017e+05   \n",
       "3  0x4ff088ac5422f994486663ff903b040692797168            7.841820e+05   \n",
       "4  0x942f0c28fb85ea0b50bfb76a3ecfa99861fa9b4b            7.284690e+05   \n",
       "5  0xe0a4a877cd0a07da7c08dffebc2546a4713147f2            6.424943e+05   \n",
       "6  0x4f4758f7167b18e1f5b3c1a7575e3eb584894dbc            5.444993e+05   \n",
       "7  0x731808ad8b1c3d13e8972db838ada5fc6ae3c2c8            5.117972e+05   \n",
       "8  0xd84781e1a9b74d71ea76cda8bb9f30893bfd00d1            4.195702e+05   \n",
       "9  0xdac817294c0c87ca4fa1895ef4b972eade99f2fd            3.410711e+05   \n",
       "\n",
       "   transcoders_totalVolumeETH  transcoders_totalVolumeUSD  call_ratio  \\\n",
       "0                    8.001220                 1516.763581    0.933333   \n",
       "1                    0.722895                 1990.434657    1.000000   \n",
       "2                   21.328402                53037.759233    1.000000   \n",
       "3                    0.650195                 2203.164261    0.900000   \n",
       "4                    3.114552                 6065.571979    1.000000   \n",
       "5                    0.000000                    0.000000    0.900000   \n",
       "6                    0.628243                 1616.490404    1.000000   \n",
       "7                    0.000000                    0.000000    0.900000   \n",
       "8                    1.093463                 2936.040943    0.966667   \n",
       "9                   10.829665                30211.987059    1.000000   \n",
       "\n",
       "   delegator_count     score  \n",
       "0              193         0  \n",
       "1              263  0.028086  \n",
       "2              716  0.999986  \n",
       "3              119         0  \n",
       "4               14  0.874585  \n",
       "5              101         0  \n",
       "6               30         0  \n",
       "7                2         0  \n",
       "8              155         0  \n",
       "9               55  0.987079  "
      ]
     },
     "execution_count": 4,
     "metadata": {},
     "output_type": "execute_result"
    }
   ],
   "source": [
    "# top 10 orchestrators, ordered by staked LPT and their corresponding metrics\n",
    "# call ratio calculated based on latest 30 rounds\n",
    "# score is max regional score, on 2/12/2022, to account for the migration on/around 2/14\n",
    "\n",
    "leaderboard[:10]"
   ]
  },
  {
   "cell_type": "markdown",
   "metadata": {},
   "source": [
    "Before I even get into the metrics, it's clear that totalStake is not how orchestrators should be ranked, looking at regional scoring. High call_ratios though."
   ]
  },
  {
   "cell_type": "code",
   "execution_count": 7,
   "metadata": {},
   "outputs": [
    {
     "data": {
      "text/html": [
       "<div>\n",
       "<style scoped>\n",
       "    .dataframe tbody tr th:only-of-type {\n",
       "        vertical-align: middle;\n",
       "    }\n",
       "\n",
       "    .dataframe tbody tr th {\n",
       "        vertical-align: top;\n",
       "    }\n",
       "\n",
       "    .dataframe thead th {\n",
       "        text-align: right;\n",
       "    }\n",
       "</style>\n",
       "<table border=\"1\" class=\"dataframe\">\n",
       "  <thead>\n",
       "    <tr style=\"text-align: right;\">\n",
       "      <th></th>\n",
       "      <th>transcoders_id</th>\n",
       "      <th>transcoders_totalStake</th>\n",
       "      <th>transcoders_totalVolumeETH</th>\n",
       "      <th>transcoders_totalVolumeUSD</th>\n",
       "      <th>call_ratio</th>\n",
       "      <th>delegator_count</th>\n",
       "      <th>score</th>\n",
       "    </tr>\n",
       "  </thead>\n",
       "  <tbody>\n",
       "    <tr>\n",
       "      <th>2</th>\n",
       "      <td>0x525419ff5707190389bfb5c87c375d710f5fcb0e</td>\n",
       "      <td>9.233017e+05</td>\n",
       "      <td>21.328402</td>\n",
       "      <td>53037.759233</td>\n",
       "      <td>1.000000</td>\n",
       "      <td>716</td>\n",
       "      <td>0.999986</td>\n",
       "    </tr>\n",
       "    <tr>\n",
       "      <th>20</th>\n",
       "      <td>0xe3a5793d7c1d2a04a903fa1695b3e3555d6084ca</td>\n",
       "      <td>2.113093e+05</td>\n",
       "      <td>13.753365</td>\n",
       "      <td>29565.181273</td>\n",
       "      <td>1.000000</td>\n",
       "      <td>16</td>\n",
       "      <td>0.993759</td>\n",
       "    </tr>\n",
       "    <tr>\n",
       "      <th>14</th>\n",
       "      <td>0xbdcbe92befbf36d63ec547bba5842997d77dc841</td>\n",
       "      <td>2.543294e+05</td>\n",
       "      <td>11.672088</td>\n",
       "      <td>22621.946146</td>\n",
       "      <td>1.000000</td>\n",
       "      <td>6</td>\n",
       "      <td>0.990279</td>\n",
       "    </tr>\n",
       "    <tr>\n",
       "      <th>18</th>\n",
       "      <td>0x9d5611bf0dadddb4441a709141d9229d7f6b3e47</td>\n",
       "      <td>2.145091e+05</td>\n",
       "      <td>10.954910</td>\n",
       "      <td>25257.496261</td>\n",
       "      <td>1.000000</td>\n",
       "      <td>30</td>\n",
       "      <td>0.999979</td>\n",
       "    </tr>\n",
       "    <tr>\n",
       "      <th>9</th>\n",
       "      <td>0xdac817294c0c87ca4fa1895ef4b972eade99f2fd</td>\n",
       "      <td>3.410711e+05</td>\n",
       "      <td>10.829665</td>\n",
       "      <td>30211.987059</td>\n",
       "      <td>1.000000</td>\n",
       "      <td>55</td>\n",
       "      <td>0.987079</td>\n",
       "    </tr>\n",
       "    <tr>\n",
       "      <th>22</th>\n",
       "      <td>0x10b21af759129f32c6064adfb85d3ea2a8c0209c</td>\n",
       "      <td>1.324450e+05</td>\n",
       "      <td>8.694451</td>\n",
       "      <td>22796.706591</td>\n",
       "      <td>1.000000</td>\n",
       "      <td>22</td>\n",
       "      <td>0.999833</td>\n",
       "    </tr>\n",
       "    <tr>\n",
       "      <th>0</th>\n",
       "      <td>0x9c10672cee058fd658103d90872fe431bb6c0afa</td>\n",
       "      <td>2.516184e+06</td>\n",
       "      <td>8.001220</td>\n",
       "      <td>1516.763581</td>\n",
       "      <td>0.933333</td>\n",
       "      <td>193</td>\n",
       "      <td>0</td>\n",
       "    </tr>\n",
       "    <tr>\n",
       "      <th>10</th>\n",
       "      <td>0xf4e8ef0763bcb2b1af693f5970a00050a6ac7e1b</td>\n",
       "      <td>3.257885e+05</td>\n",
       "      <td>7.886877</td>\n",
       "      <td>12569.912490</td>\n",
       "      <td>0.900000</td>\n",
       "      <td>18</td>\n",
       "      <td>0.883412</td>\n",
       "    </tr>\n",
       "    <tr>\n",
       "      <th>23</th>\n",
       "      <td>0xe9e284277648fcdb09b8efc1832c73c09b5ecf59</td>\n",
       "      <td>1.162304e+05</td>\n",
       "      <td>5.483522</td>\n",
       "      <td>8014.533262</td>\n",
       "      <td>1.000000</td>\n",
       "      <td>452</td>\n",
       "      <td>0.864064</td>\n",
       "    </tr>\n",
       "    <tr>\n",
       "      <th>17</th>\n",
       "      <td>0xd0aa1b9d0cd06cafa6af5c1af272be88c38aa831</td>\n",
       "      <td>2.262686e+05</td>\n",
       "      <td>4.696978</td>\n",
       "      <td>9496.728044</td>\n",
       "      <td>0.966667</td>\n",
       "      <td>35</td>\n",
       "      <td>0.963363</td>\n",
       "    </tr>\n",
       "  </tbody>\n",
       "</table>\n",
       "</div>"
      ],
      "text/plain": [
       "                                transcoders_id  transcoders_totalStake  \\\n",
       "2   0x525419ff5707190389bfb5c87c375d710f5fcb0e            9.233017e+05   \n",
       "20  0xe3a5793d7c1d2a04a903fa1695b3e3555d6084ca            2.113093e+05   \n",
       "14  0xbdcbe92befbf36d63ec547bba5842997d77dc841            2.543294e+05   \n",
       "18  0x9d5611bf0dadddb4441a709141d9229d7f6b3e47            2.145091e+05   \n",
       "9   0xdac817294c0c87ca4fa1895ef4b972eade99f2fd            3.410711e+05   \n",
       "22  0x10b21af759129f32c6064adfb85d3ea2a8c0209c            1.324450e+05   \n",
       "0   0x9c10672cee058fd658103d90872fe431bb6c0afa            2.516184e+06   \n",
       "10  0xf4e8ef0763bcb2b1af693f5970a00050a6ac7e1b            3.257885e+05   \n",
       "23  0xe9e284277648fcdb09b8efc1832c73c09b5ecf59            1.162304e+05   \n",
       "17  0xd0aa1b9d0cd06cafa6af5c1af272be88c38aa831            2.262686e+05   \n",
       "\n",
       "    transcoders_totalVolumeETH  transcoders_totalVolumeUSD  call_ratio  \\\n",
       "2                    21.328402                53037.759233    1.000000   \n",
       "20                   13.753365                29565.181273    1.000000   \n",
       "14                   11.672088                22621.946146    1.000000   \n",
       "18                   10.954910                25257.496261    1.000000   \n",
       "9                    10.829665                30211.987059    1.000000   \n",
       "22                    8.694451                22796.706591    1.000000   \n",
       "0                     8.001220                 1516.763581    0.933333   \n",
       "10                    7.886877                12569.912490    0.900000   \n",
       "23                    5.483522                 8014.533262    1.000000   \n",
       "17                    4.696978                 9496.728044    0.966667   \n",
       "\n",
       "    delegator_count     score  \n",
       "2               716  0.999986  \n",
       "20               16  0.993759  \n",
       "14                6  0.990279  \n",
       "18               30  0.999979  \n",
       "9                55  0.987079  \n",
       "22               22  0.999833  \n",
       "0               193         0  \n",
       "10               18  0.883412  \n",
       "23              452  0.864064  \n",
       "17               35  0.963363  "
      ]
     },
     "execution_count": 7,
     "metadata": {},
     "output_type": "execute_result"
    }
   ],
   "source": [
    "leaderboard.sort_values(by='transcoders_totalVolumeETH', ascending=False)[:10]"
   ]
  },
  {
   "cell_type": "markdown",
   "metadata": {},
   "source": [
    "Of the top earners, 7 hold a max regional score >95%. The top orchestrator by stake has earned 8 ETH but, as their score is a 0, I would be curious to see the timeline of when that ETH was earned (i.e. the last time it performed work for the Livepeer network). Using the USD volume as a proxy, that ETH was earned quite a while ago... Further, I'd explore self-delegation - what % of stake is by the orchestrator itself."
   ]
  },
  {
   "cell_type": "code",
   "execution_count": 26,
   "metadata": {},
   "outputs": [],
   "source": [
    "board = leaderboard.copy(deep=True)"
   ]
  },
  {
   "cell_type": "code",
   "execution_count": 27,
   "metadata": {},
   "outputs": [
    {
     "data": {
      "text/html": [
       "<div>\n",
       "<style scoped>\n",
       "    .dataframe tbody tr th:only-of-type {\n",
       "        vertical-align: middle;\n",
       "    }\n",
       "\n",
       "    .dataframe tbody tr th {\n",
       "        vertical-align: top;\n",
       "    }\n",
       "\n",
       "    .dataframe thead th {\n",
       "        text-align: right;\n",
       "    }\n",
       "</style>\n",
       "<table border=\"1\" class=\"dataframe\">\n",
       "  <thead>\n",
       "    <tr style=\"text-align: right;\">\n",
       "      <th></th>\n",
       "      <th>transcoders_id</th>\n",
       "      <th>transcoders_totalStake</th>\n",
       "      <th>transcoders_totalVolumeETH</th>\n",
       "      <th>transcoders_totalVolumeUSD</th>\n",
       "      <th>call_ratio</th>\n",
       "      <th>delegator_count</th>\n",
       "      <th>score</th>\n",
       "      <th>transcoders_totalStake_pct</th>\n",
       "      <th>transcoders_totalVolumeETH_pct</th>\n",
       "      <th>transcoders_totalVolumeUSD_pct</th>\n",
       "      <th>call_ratio_pct</th>\n",
       "      <th>delegator_count_pct</th>\n",
       "      <th>score_pct</th>\n",
       "    </tr>\n",
       "  </thead>\n",
       "  <tbody>\n",
       "    <tr>\n",
       "      <th>0</th>\n",
       "      <td>0x9c10672cee058fd658103d90872fe431bb6c0afa</td>\n",
       "      <td>2.516184e+06</td>\n",
       "      <td>8.001220</td>\n",
       "      <td>1516.763581</td>\n",
       "      <td>0.933333</td>\n",
       "      <td>193</td>\n",
       "      <td>0</td>\n",
       "      <td>1.00</td>\n",
       "      <td>0.94</td>\n",
       "      <td>0.57</td>\n",
       "      <td>0.770</td>\n",
       "      <td>0.970</td>\n",
       "      <td>0.16</td>\n",
       "    </tr>\n",
       "    <tr>\n",
       "      <th>1</th>\n",
       "      <td>0xda43d85b8d419a9c51bbf0089c9bd5169c23f2f9</td>\n",
       "      <td>1.252157e+06</td>\n",
       "      <td>0.722895</td>\n",
       "      <td>1990.434657</td>\n",
       "      <td>1.000000</td>\n",
       "      <td>263</td>\n",
       "      <td>0.028086</td>\n",
       "      <td>0.99</td>\n",
       "      <td>0.65</td>\n",
       "      <td>0.63</td>\n",
       "      <td>0.915</td>\n",
       "      <td>0.980</td>\n",
       "      <td>0.32</td>\n",
       "    </tr>\n",
       "    <tr>\n",
       "      <th>2</th>\n",
       "      <td>0x525419ff5707190389bfb5c87c375d710f5fcb0e</td>\n",
       "      <td>9.233017e+05</td>\n",
       "      <td>21.328402</td>\n",
       "      <td>53037.759233</td>\n",
       "      <td>1.000000</td>\n",
       "      <td>716</td>\n",
       "      <td>0.999986</td>\n",
       "      <td>0.98</td>\n",
       "      <td>1.00</td>\n",
       "      <td>1.00</td>\n",
       "      <td>0.915</td>\n",
       "      <td>1.000</td>\n",
       "      <td>0.99</td>\n",
       "    </tr>\n",
       "    <tr>\n",
       "      <th>3</th>\n",
       "      <td>0x4ff088ac5422f994486663ff903b040692797168</td>\n",
       "      <td>7.841820e+05</td>\n",
       "      <td>0.650195</td>\n",
       "      <td>2203.164261</td>\n",
       "      <td>0.900000</td>\n",
       "      <td>119</td>\n",
       "      <td>0</td>\n",
       "      <td>0.97</td>\n",
       "      <td>0.61</td>\n",
       "      <td>0.66</td>\n",
       "      <td>0.730</td>\n",
       "      <td>0.940</td>\n",
       "      <td>0.16</td>\n",
       "    </tr>\n",
       "    <tr>\n",
       "      <th>4</th>\n",
       "      <td>0x942f0c28fb85ea0b50bfb76a3ecfa99861fa9b4b</td>\n",
       "      <td>7.284690e+05</td>\n",
       "      <td>3.114552</td>\n",
       "      <td>6065.571979</td>\n",
       "      <td>1.000000</td>\n",
       "      <td>14</td>\n",
       "      <td>0.874585</td>\n",
       "      <td>0.96</td>\n",
       "      <td>0.87</td>\n",
       "      <td>0.81</td>\n",
       "      <td>0.915</td>\n",
       "      <td>0.760</td>\n",
       "      <td>0.55</td>\n",
       "    </tr>\n",
       "    <tr>\n",
       "      <th>5</th>\n",
       "      <td>0xe0a4a877cd0a07da7c08dffebc2546a4713147f2</td>\n",
       "      <td>6.424943e+05</td>\n",
       "      <td>0.000000</td>\n",
       "      <td>0.000000</td>\n",
       "      <td>0.900000</td>\n",
       "      <td>101</td>\n",
       "      <td>0</td>\n",
       "      <td>0.95</td>\n",
       "      <td>0.14</td>\n",
       "      <td>0.14</td>\n",
       "      <td>0.730</td>\n",
       "      <td>0.930</td>\n",
       "      <td>0.16</td>\n",
       "    </tr>\n",
       "    <tr>\n",
       "      <th>6</th>\n",
       "      <td>0x4f4758f7167b18e1f5b3c1a7575e3eb584894dbc</td>\n",
       "      <td>5.444993e+05</td>\n",
       "      <td>0.628243</td>\n",
       "      <td>1616.490404</td>\n",
       "      <td>1.000000</td>\n",
       "      <td>30</td>\n",
       "      <td>0</td>\n",
       "      <td>0.94</td>\n",
       "      <td>0.60</td>\n",
       "      <td>0.58</td>\n",
       "      <td>0.915</td>\n",
       "      <td>0.815</td>\n",
       "      <td>0.16</td>\n",
       "    </tr>\n",
       "    <tr>\n",
       "      <th>7</th>\n",
       "      <td>0x731808ad8b1c3d13e8972db838ada5fc6ae3c2c8</td>\n",
       "      <td>5.117972e+05</td>\n",
       "      <td>0.000000</td>\n",
       "      <td>0.000000</td>\n",
       "      <td>0.900000</td>\n",
       "      <td>2</td>\n",
       "      <td>0</td>\n",
       "      <td>0.93</td>\n",
       "      <td>0.14</td>\n",
       "      <td>0.14</td>\n",
       "      <td>0.730</td>\n",
       "      <td>0.515</td>\n",
       "      <td>0.16</td>\n",
       "    </tr>\n",
       "    <tr>\n",
       "      <th>8</th>\n",
       "      <td>0xd84781e1a9b74d71ea76cda8bb9f30893bfd00d1</td>\n",
       "      <td>4.195702e+05</td>\n",
       "      <td>1.093463</td>\n",
       "      <td>2936.040943</td>\n",
       "      <td>0.966667</td>\n",
       "      <td>155</td>\n",
       "      <td>0</td>\n",
       "      <td>0.92</td>\n",
       "      <td>0.74</td>\n",
       "      <td>0.70</td>\n",
       "      <td>0.805</td>\n",
       "      <td>0.950</td>\n",
       "      <td>0.16</td>\n",
       "    </tr>\n",
       "    <tr>\n",
       "      <th>9</th>\n",
       "      <td>0xdac817294c0c87ca4fa1895ef4b972eade99f2fd</td>\n",
       "      <td>3.410711e+05</td>\n",
       "      <td>10.829665</td>\n",
       "      <td>30211.987059</td>\n",
       "      <td>1.000000</td>\n",
       "      <td>55</td>\n",
       "      <td>0.987079</td>\n",
       "      <td>0.91</td>\n",
       "      <td>0.96</td>\n",
       "      <td>0.99</td>\n",
       "      <td>0.915</td>\n",
       "      <td>0.870</td>\n",
       "      <td>0.76</td>\n",
       "    </tr>\n",
       "  </tbody>\n",
       "</table>\n",
       "</div>"
      ],
      "text/plain": [
       "                               transcoders_id  transcoders_totalStake  \\\n",
       "0  0x9c10672cee058fd658103d90872fe431bb6c0afa            2.516184e+06   \n",
       "1  0xda43d85b8d419a9c51bbf0089c9bd5169c23f2f9            1.252157e+06   \n",
       "2  0x525419ff5707190389bfb5c87c375d710f5fcb0e            9.233017e+05   \n",
       "3  0x4ff088ac5422f994486663ff903b040692797168            7.841820e+05   \n",
       "4  0x942f0c28fb85ea0b50bfb76a3ecfa99861fa9b4b            7.284690e+05   \n",
       "5  0xe0a4a877cd0a07da7c08dffebc2546a4713147f2            6.424943e+05   \n",
       "6  0x4f4758f7167b18e1f5b3c1a7575e3eb584894dbc            5.444993e+05   \n",
       "7  0x731808ad8b1c3d13e8972db838ada5fc6ae3c2c8            5.117972e+05   \n",
       "8  0xd84781e1a9b74d71ea76cda8bb9f30893bfd00d1            4.195702e+05   \n",
       "9  0xdac817294c0c87ca4fa1895ef4b972eade99f2fd            3.410711e+05   \n",
       "\n",
       "   transcoders_totalVolumeETH  transcoders_totalVolumeUSD  call_ratio  \\\n",
       "0                    8.001220                 1516.763581    0.933333   \n",
       "1                    0.722895                 1990.434657    1.000000   \n",
       "2                   21.328402                53037.759233    1.000000   \n",
       "3                    0.650195                 2203.164261    0.900000   \n",
       "4                    3.114552                 6065.571979    1.000000   \n",
       "5                    0.000000                    0.000000    0.900000   \n",
       "6                    0.628243                 1616.490404    1.000000   \n",
       "7                    0.000000                    0.000000    0.900000   \n",
       "8                    1.093463                 2936.040943    0.966667   \n",
       "9                   10.829665                30211.987059    1.000000   \n",
       "\n",
       "   delegator_count     score  transcoders_totalStake_pct  \\\n",
       "0              193         0                        1.00   \n",
       "1              263  0.028086                        0.99   \n",
       "2              716  0.999986                        0.98   \n",
       "3              119         0                        0.97   \n",
       "4               14  0.874585                        0.96   \n",
       "5              101         0                        0.95   \n",
       "6               30         0                        0.94   \n",
       "7                2         0                        0.93   \n",
       "8              155         0                        0.92   \n",
       "9               55  0.987079                        0.91   \n",
       "\n",
       "   transcoders_totalVolumeETH_pct  transcoders_totalVolumeUSD_pct  \\\n",
       "0                            0.94                            0.57   \n",
       "1                            0.65                            0.63   \n",
       "2                            1.00                            1.00   \n",
       "3                            0.61                            0.66   \n",
       "4                            0.87                            0.81   \n",
       "5                            0.14                            0.14   \n",
       "6                            0.60                            0.58   \n",
       "7                            0.14                            0.14   \n",
       "8                            0.74                            0.70   \n",
       "9                            0.96                            0.99   \n",
       "\n",
       "   call_ratio_pct  delegator_count_pct  score_pct  \n",
       "0           0.770                0.970       0.16  \n",
       "1           0.915                0.980       0.32  \n",
       "2           0.915                1.000       0.99  \n",
       "3           0.730                0.940       0.16  \n",
       "4           0.915                0.760       0.55  \n",
       "5           0.730                0.930       0.16  \n",
       "6           0.915                0.815       0.16  \n",
       "7           0.730                0.515       0.16  \n",
       "8           0.805                0.950       0.16  \n",
       "9           0.915                0.870       0.76  "
      ]
     },
     "execution_count": 27,
     "metadata": {},
     "output_type": "execute_result"
    }
   ],
   "source": [
    "# calculate percentile rank of each value, for each transcoder\n",
    "\n",
    "for column in board:\n",
    "    if column == 'transcoders_id':\n",
    "        continue\n",
    "    \n",
    "    name = f'{column}_pct'\n",
    "    board[name] = board[column].rank(pct = True)"
   ]
  },
  {
   "cell_type": "markdown",
   "metadata": {},
   "source": [
    "So, looking at the same table, ordered by ETH earned, but with percentile ranks this time. The discrepancy with transcoder 0x9c106... is even clearer here. Though it ranks in the 94% percentile for ETH earned, the USD value of those earnings and score sit at 57% and 16%, respectively.  "
   ]
  },
  {
   "cell_type": "code",
   "execution_count": 29,
   "metadata": {},
   "outputs": [
    {
     "data": {
      "text/html": [
       "<div>\n",
       "<style scoped>\n",
       "    .dataframe tbody tr th:only-of-type {\n",
       "        vertical-align: middle;\n",
       "    }\n",
       "\n",
       "    .dataframe tbody tr th {\n",
       "        vertical-align: top;\n",
       "    }\n",
       "\n",
       "    .dataframe thead th {\n",
       "        text-align: right;\n",
       "    }\n",
       "</style>\n",
       "<table border=\"1\" class=\"dataframe\">\n",
       "  <thead>\n",
       "    <tr style=\"text-align: right;\">\n",
       "      <th></th>\n",
       "      <th>transcoders_id</th>\n",
       "      <th>transcoders_totalStake</th>\n",
       "      <th>transcoders_totalVolumeETH</th>\n",
       "      <th>transcoders_totalVolumeUSD</th>\n",
       "      <th>call_ratio</th>\n",
       "      <th>delegator_count</th>\n",
       "      <th>score</th>\n",
       "      <th>transcoders_totalStake_pct</th>\n",
       "      <th>transcoders_totalVolumeETH_pct</th>\n",
       "      <th>transcoders_totalVolumeUSD_pct</th>\n",
       "      <th>call_ratio_pct</th>\n",
       "      <th>delegator_count_pct</th>\n",
       "      <th>score_pct</th>\n",
       "    </tr>\n",
       "  </thead>\n",
       "  <tbody>\n",
       "    <tr>\n",
       "      <th>2</th>\n",
       "      <td>0x525419ff5707190389bfb5c87c375d710f5fcb0e</td>\n",
       "      <td>9.233017e+05</td>\n",
       "      <td>21.328402</td>\n",
       "      <td>53037.759233</td>\n",
       "      <td>1.000000</td>\n",
       "      <td>716</td>\n",
       "      <td>0.999986</td>\n",
       "      <td>0.98</td>\n",
       "      <td>1.00</td>\n",
       "      <td>1.00</td>\n",
       "      <td>0.915</td>\n",
       "      <td>1.000</td>\n",
       "      <td>0.99</td>\n",
       "    </tr>\n",
       "    <tr>\n",
       "      <th>20</th>\n",
       "      <td>0xe3a5793d7c1d2a04a903fa1695b3e3555d6084ca</td>\n",
       "      <td>2.113093e+05</td>\n",
       "      <td>13.753365</td>\n",
       "      <td>29565.181273</td>\n",
       "      <td>1.000000</td>\n",
       "      <td>16</td>\n",
       "      <td>0.993759</td>\n",
       "      <td>0.80</td>\n",
       "      <td>0.99</td>\n",
       "      <td>0.98</td>\n",
       "      <td>0.915</td>\n",
       "      <td>0.780</td>\n",
       "      <td>0.83</td>\n",
       "    </tr>\n",
       "    <tr>\n",
       "      <th>14</th>\n",
       "      <td>0xbdcbe92befbf36d63ec547bba5842997d77dc841</td>\n",
       "      <td>2.543294e+05</td>\n",
       "      <td>11.672088</td>\n",
       "      <td>22621.946146</td>\n",
       "      <td>1.000000</td>\n",
       "      <td>6</td>\n",
       "      <td>0.990279</td>\n",
       "      <td>0.86</td>\n",
       "      <td>0.98</td>\n",
       "      <td>0.95</td>\n",
       "      <td>0.915</td>\n",
       "      <td>0.735</td>\n",
       "      <td>0.80</td>\n",
       "    </tr>\n",
       "    <tr>\n",
       "      <th>18</th>\n",
       "      <td>0x9d5611bf0dadddb4441a709141d9229d7f6b3e47</td>\n",
       "      <td>2.145091e+05</td>\n",
       "      <td>10.954910</td>\n",
       "      <td>25257.496261</td>\n",
       "      <td>1.000000</td>\n",
       "      <td>30</td>\n",
       "      <td>0.999979</td>\n",
       "      <td>0.82</td>\n",
       "      <td>0.97</td>\n",
       "      <td>0.97</td>\n",
       "      <td>0.915</td>\n",
       "      <td>0.815</td>\n",
       "      <td>0.98</td>\n",
       "    </tr>\n",
       "    <tr>\n",
       "      <th>9</th>\n",
       "      <td>0xdac817294c0c87ca4fa1895ef4b972eade99f2fd</td>\n",
       "      <td>3.410711e+05</td>\n",
       "      <td>10.829665</td>\n",
       "      <td>30211.987059</td>\n",
       "      <td>1.000000</td>\n",
       "      <td>55</td>\n",
       "      <td>0.987079</td>\n",
       "      <td>0.91</td>\n",
       "      <td>0.96</td>\n",
       "      <td>0.99</td>\n",
       "      <td>0.915</td>\n",
       "      <td>0.870</td>\n",
       "      <td>0.76</td>\n",
       "    </tr>\n",
       "    <tr>\n",
       "      <th>22</th>\n",
       "      <td>0x10b21af759129f32c6064adfb85d3ea2a8c0209c</td>\n",
       "      <td>1.324450e+05</td>\n",
       "      <td>8.694451</td>\n",
       "      <td>22796.706591</td>\n",
       "      <td>1.000000</td>\n",
       "      <td>22</td>\n",
       "      <td>0.999833</td>\n",
       "      <td>0.78</td>\n",
       "      <td>0.95</td>\n",
       "      <td>0.96</td>\n",
       "      <td>0.915</td>\n",
       "      <td>0.800</td>\n",
       "      <td>0.93</td>\n",
       "    </tr>\n",
       "    <tr>\n",
       "      <th>0</th>\n",
       "      <td>0x9c10672cee058fd658103d90872fe431bb6c0afa</td>\n",
       "      <td>2.516184e+06</td>\n",
       "      <td>8.001220</td>\n",
       "      <td>1516.763581</td>\n",
       "      <td>0.933333</td>\n",
       "      <td>193</td>\n",
       "      <td>0</td>\n",
       "      <td>1.00</td>\n",
       "      <td>0.94</td>\n",
       "      <td>0.57</td>\n",
       "      <td>0.770</td>\n",
       "      <td>0.970</td>\n",
       "      <td>0.16</td>\n",
       "    </tr>\n",
       "    <tr>\n",
       "      <th>10</th>\n",
       "      <td>0xf4e8ef0763bcb2b1af693f5970a00050a6ac7e1b</td>\n",
       "      <td>3.257885e+05</td>\n",
       "      <td>7.886877</td>\n",
       "      <td>12569.912490</td>\n",
       "      <td>0.900000</td>\n",
       "      <td>18</td>\n",
       "      <td>0.883412</td>\n",
       "      <td>0.90</td>\n",
       "      <td>0.93</td>\n",
       "      <td>0.93</td>\n",
       "      <td>0.730</td>\n",
       "      <td>0.790</td>\n",
       "      <td>0.58</td>\n",
       "    </tr>\n",
       "    <tr>\n",
       "      <th>23</th>\n",
       "      <td>0xe9e284277648fcdb09b8efc1832c73c09b5ecf59</td>\n",
       "      <td>1.162304e+05</td>\n",
       "      <td>5.483522</td>\n",
       "      <td>8014.533262</td>\n",
       "      <td>1.000000</td>\n",
       "      <td>452</td>\n",
       "      <td>0.864064</td>\n",
       "      <td>0.77</td>\n",
       "      <td>0.92</td>\n",
       "      <td>0.88</td>\n",
       "      <td>0.915</td>\n",
       "      <td>0.990</td>\n",
       "      <td>0.53</td>\n",
       "    </tr>\n",
       "    <tr>\n",
       "      <th>17</th>\n",
       "      <td>0xd0aa1b9d0cd06cafa6af5c1af272be88c38aa831</td>\n",
       "      <td>2.262686e+05</td>\n",
       "      <td>4.696978</td>\n",
       "      <td>9496.728044</td>\n",
       "      <td>0.966667</td>\n",
       "      <td>35</td>\n",
       "      <td>0.963363</td>\n",
       "      <td>0.83</td>\n",
       "      <td>0.91</td>\n",
       "      <td>0.90</td>\n",
       "      <td>0.805</td>\n",
       "      <td>0.835</td>\n",
       "      <td>0.70</td>\n",
       "    </tr>\n",
       "  </tbody>\n",
       "</table>\n",
       "</div>"
      ],
      "text/plain": [
       "                                transcoders_id  transcoders_totalStake  \\\n",
       "2   0x525419ff5707190389bfb5c87c375d710f5fcb0e            9.233017e+05   \n",
       "20  0xe3a5793d7c1d2a04a903fa1695b3e3555d6084ca            2.113093e+05   \n",
       "14  0xbdcbe92befbf36d63ec547bba5842997d77dc841            2.543294e+05   \n",
       "18  0x9d5611bf0dadddb4441a709141d9229d7f6b3e47            2.145091e+05   \n",
       "9   0xdac817294c0c87ca4fa1895ef4b972eade99f2fd            3.410711e+05   \n",
       "22  0x10b21af759129f32c6064adfb85d3ea2a8c0209c            1.324450e+05   \n",
       "0   0x9c10672cee058fd658103d90872fe431bb6c0afa            2.516184e+06   \n",
       "10  0xf4e8ef0763bcb2b1af693f5970a00050a6ac7e1b            3.257885e+05   \n",
       "23  0xe9e284277648fcdb09b8efc1832c73c09b5ecf59            1.162304e+05   \n",
       "17  0xd0aa1b9d0cd06cafa6af5c1af272be88c38aa831            2.262686e+05   \n",
       "\n",
       "    transcoders_totalVolumeETH  transcoders_totalVolumeUSD  call_ratio  \\\n",
       "2                    21.328402                53037.759233    1.000000   \n",
       "20                   13.753365                29565.181273    1.000000   \n",
       "14                   11.672088                22621.946146    1.000000   \n",
       "18                   10.954910                25257.496261    1.000000   \n",
       "9                    10.829665                30211.987059    1.000000   \n",
       "22                    8.694451                22796.706591    1.000000   \n",
       "0                     8.001220                 1516.763581    0.933333   \n",
       "10                    7.886877                12569.912490    0.900000   \n",
       "23                    5.483522                 8014.533262    1.000000   \n",
       "17                    4.696978                 9496.728044    0.966667   \n",
       "\n",
       "    delegator_count     score  transcoders_totalStake_pct  \\\n",
       "2               716  0.999986                        0.98   \n",
       "20               16  0.993759                        0.80   \n",
       "14                6  0.990279                        0.86   \n",
       "18               30  0.999979                        0.82   \n",
       "9                55  0.987079                        0.91   \n",
       "22               22  0.999833                        0.78   \n",
       "0               193         0                        1.00   \n",
       "10               18  0.883412                        0.90   \n",
       "23              452  0.864064                        0.77   \n",
       "17               35  0.963363                        0.83   \n",
       "\n",
       "    transcoders_totalVolumeETH_pct  transcoders_totalVolumeUSD_pct  \\\n",
       "2                             1.00                            1.00   \n",
       "20                            0.99                            0.98   \n",
       "14                            0.98                            0.95   \n",
       "18                            0.97                            0.97   \n",
       "9                             0.96                            0.99   \n",
       "22                            0.95                            0.96   \n",
       "0                             0.94                            0.57   \n",
       "10                            0.93                            0.93   \n",
       "23                            0.92                            0.88   \n",
       "17                            0.91                            0.90   \n",
       "\n",
       "    call_ratio_pct  delegator_count_pct  score_pct  \n",
       "2            0.915                1.000       0.99  \n",
       "20           0.915                0.780       0.83  \n",
       "14           0.915                0.735       0.80  \n",
       "18           0.915                0.815       0.98  \n",
       "9            0.915                0.870       0.76  \n",
       "22           0.915                0.800       0.93  \n",
       "0            0.770                0.970       0.16  \n",
       "10           0.730                0.790       0.58  \n",
       "23           0.915                0.990       0.53  \n",
       "17           0.805                0.835       0.70  "
      ]
     },
     "execution_count": 29,
     "metadata": {},
     "output_type": "execute_result"
    }
   ],
   "source": [
    "board.sort_values(by='transcoders_totalVolumeETH', ascending=False)[:10]"
   ]
  },
  {
   "cell_type": "code",
   "execution_count": 46,
   "metadata": {},
   "outputs": [
    {
     "data": {
      "application/vnd.plotly.v1+json": {
       "config": {
        "plotlyServerURL": "https://plot.ly"
       },
       "data": [
        {
         "alignmentgroup": "True",
         "hovertemplate": "transcoders_id=%{x}<br>ETH=%{y}<extra></extra>",
         "legendgroup": "",
         "marker": {
          "color": "#636efa",
          "pattern": {
           "shape": ""
          }
         },
         "name": "",
         "offsetgroup": "",
         "orientation": "v",
         "showlegend": false,
         "textposition": "auto",
         "type": "bar",
         "x": [
          "0x9c10672cee058fd658103d90872fe431bb6c0afa",
          "0xda43d85b8d419a9c51bbf0089c9bd5169c23f2f9",
          "0x525419ff5707190389bfb5c87c375d710f5fcb0e",
          "0x4ff088ac5422f994486663ff903b040692797168",
          "0x942f0c28fb85ea0b50bfb76a3ecfa99861fa9b4b",
          "0xe0a4a877cd0a07da7c08dffebc2546a4713147f2",
          "0x4f4758f7167b18e1f5b3c1a7575e3eb584894dbc",
          "0x731808ad8b1c3d13e8972db838ada5fc6ae3c2c8",
          "0xd84781e1a9b74d71ea76cda8bb9f30893bfd00d1",
          "0xdac817294c0c87ca4fa1895ef4b972eade99f2fd",
          "0xf4e8ef0763bcb2b1af693f5970a00050a6ac7e1b",
          "0x9d2b4e5c4b1fd81d06b883b0aca661b771c39ea3",
          "0x21d1130dc36958db75fbb0e5a9e3e5f5680238ff",
          "0x43793ab4a56e5d4c263e6320d59072e01819b6c9",
          "0xbdcbe92befbf36d63ec547bba5842997d77dc841",
          "0xf5a88945ce64b5648b895e05eb1edf693dde8905",
          "0xa20416801ac2eacf2372e825b4a90ef52490c2bb",
          "0xd0aa1b9d0cd06cafa6af5c1af272be88c38aa831",
          "0x9d5611bf0dadddb4441a709141d9229d7f6b3e47",
          "0x4712e01e944802613de3a0a6d23274e7e0243015"
         ],
         "xaxis": "x",
         "y": [
          8.001220339565128,
          0.7228952204581742,
          21.328401540940824,
          0.6501952085181899,
          3.1145518766947338,
          0,
          0.6282428322439,
          0,
          1.0934626206988887,
          10.829664837070212,
          7.886876741380786,
          0.01,
          2.3231318361146904,
          0,
          11.67208765219246,
          0.18181818181818182,
          0.7107542819499342,
          4.69697825730072,
          10.954910405070933,
          2.2046152598460966
         ],
         "yaxis": "y"
        }
       ],
       "layout": {
        "barmode": "relative",
        "legend": {
         "tracegroupgap": 0
        },
        "template": {
         "data": {
          "bar": [
           {
            "error_x": {
             "color": "#2a3f5f"
            },
            "error_y": {
             "color": "#2a3f5f"
            },
            "marker": {
             "line": {
              "color": "#E5ECF6",
              "width": 0.5
             },
             "pattern": {
              "fillmode": "overlay",
              "size": 10,
              "solidity": 0.2
             }
            },
            "type": "bar"
           }
          ],
          "barpolar": [
           {
            "marker": {
             "line": {
              "color": "#E5ECF6",
              "width": 0.5
             },
             "pattern": {
              "fillmode": "overlay",
              "size": 10,
              "solidity": 0.2
             }
            },
            "type": "barpolar"
           }
          ],
          "carpet": [
           {
            "aaxis": {
             "endlinecolor": "#2a3f5f",
             "gridcolor": "white",
             "linecolor": "white",
             "minorgridcolor": "white",
             "startlinecolor": "#2a3f5f"
            },
            "baxis": {
             "endlinecolor": "#2a3f5f",
             "gridcolor": "white",
             "linecolor": "white",
             "minorgridcolor": "white",
             "startlinecolor": "#2a3f5f"
            },
            "type": "carpet"
           }
          ],
          "choropleth": [
           {
            "colorbar": {
             "outlinewidth": 0,
             "ticks": ""
            },
            "type": "choropleth"
           }
          ],
          "contour": [
           {
            "colorbar": {
             "outlinewidth": 0,
             "ticks": ""
            },
            "colorscale": [
             [
              0,
              "#0d0887"
             ],
             [
              0.1111111111111111,
              "#46039f"
             ],
             [
              0.2222222222222222,
              "#7201a8"
             ],
             [
              0.3333333333333333,
              "#9c179e"
             ],
             [
              0.4444444444444444,
              "#bd3786"
             ],
             [
              0.5555555555555556,
              "#d8576b"
             ],
             [
              0.6666666666666666,
              "#ed7953"
             ],
             [
              0.7777777777777778,
              "#fb9f3a"
             ],
             [
              0.8888888888888888,
              "#fdca26"
             ],
             [
              1,
              "#f0f921"
             ]
            ],
            "type": "contour"
           }
          ],
          "contourcarpet": [
           {
            "colorbar": {
             "outlinewidth": 0,
             "ticks": ""
            },
            "type": "contourcarpet"
           }
          ],
          "heatmap": [
           {
            "colorbar": {
             "outlinewidth": 0,
             "ticks": ""
            },
            "colorscale": [
             [
              0,
              "#0d0887"
             ],
             [
              0.1111111111111111,
              "#46039f"
             ],
             [
              0.2222222222222222,
              "#7201a8"
             ],
             [
              0.3333333333333333,
              "#9c179e"
             ],
             [
              0.4444444444444444,
              "#bd3786"
             ],
             [
              0.5555555555555556,
              "#d8576b"
             ],
             [
              0.6666666666666666,
              "#ed7953"
             ],
             [
              0.7777777777777778,
              "#fb9f3a"
             ],
             [
              0.8888888888888888,
              "#fdca26"
             ],
             [
              1,
              "#f0f921"
             ]
            ],
            "type": "heatmap"
           }
          ],
          "heatmapgl": [
           {
            "colorbar": {
             "outlinewidth": 0,
             "ticks": ""
            },
            "colorscale": [
             [
              0,
              "#0d0887"
             ],
             [
              0.1111111111111111,
              "#46039f"
             ],
             [
              0.2222222222222222,
              "#7201a8"
             ],
             [
              0.3333333333333333,
              "#9c179e"
             ],
             [
              0.4444444444444444,
              "#bd3786"
             ],
             [
              0.5555555555555556,
              "#d8576b"
             ],
             [
              0.6666666666666666,
              "#ed7953"
             ],
             [
              0.7777777777777778,
              "#fb9f3a"
             ],
             [
              0.8888888888888888,
              "#fdca26"
             ],
             [
              1,
              "#f0f921"
             ]
            ],
            "type": "heatmapgl"
           }
          ],
          "histogram": [
           {
            "marker": {
             "pattern": {
              "fillmode": "overlay",
              "size": 10,
              "solidity": 0.2
             }
            },
            "type": "histogram"
           }
          ],
          "histogram2d": [
           {
            "colorbar": {
             "outlinewidth": 0,
             "ticks": ""
            },
            "colorscale": [
             [
              0,
              "#0d0887"
             ],
             [
              0.1111111111111111,
              "#46039f"
             ],
             [
              0.2222222222222222,
              "#7201a8"
             ],
             [
              0.3333333333333333,
              "#9c179e"
             ],
             [
              0.4444444444444444,
              "#bd3786"
             ],
             [
              0.5555555555555556,
              "#d8576b"
             ],
             [
              0.6666666666666666,
              "#ed7953"
             ],
             [
              0.7777777777777778,
              "#fb9f3a"
             ],
             [
              0.8888888888888888,
              "#fdca26"
             ],
             [
              1,
              "#f0f921"
             ]
            ],
            "type": "histogram2d"
           }
          ],
          "histogram2dcontour": [
           {
            "colorbar": {
             "outlinewidth": 0,
             "ticks": ""
            },
            "colorscale": [
             [
              0,
              "#0d0887"
             ],
             [
              0.1111111111111111,
              "#46039f"
             ],
             [
              0.2222222222222222,
              "#7201a8"
             ],
             [
              0.3333333333333333,
              "#9c179e"
             ],
             [
              0.4444444444444444,
              "#bd3786"
             ],
             [
              0.5555555555555556,
              "#d8576b"
             ],
             [
              0.6666666666666666,
              "#ed7953"
             ],
             [
              0.7777777777777778,
              "#fb9f3a"
             ],
             [
              0.8888888888888888,
              "#fdca26"
             ],
             [
              1,
              "#f0f921"
             ]
            ],
            "type": "histogram2dcontour"
           }
          ],
          "mesh3d": [
           {
            "colorbar": {
             "outlinewidth": 0,
             "ticks": ""
            },
            "type": "mesh3d"
           }
          ],
          "parcoords": [
           {
            "line": {
             "colorbar": {
              "outlinewidth": 0,
              "ticks": ""
             }
            },
            "type": "parcoords"
           }
          ],
          "pie": [
           {
            "automargin": true,
            "type": "pie"
           }
          ],
          "scatter": [
           {
            "marker": {
             "colorbar": {
              "outlinewidth": 0,
              "ticks": ""
             }
            },
            "type": "scatter"
           }
          ],
          "scatter3d": [
           {
            "line": {
             "colorbar": {
              "outlinewidth": 0,
              "ticks": ""
             }
            },
            "marker": {
             "colorbar": {
              "outlinewidth": 0,
              "ticks": ""
             }
            },
            "type": "scatter3d"
           }
          ],
          "scattercarpet": [
           {
            "marker": {
             "colorbar": {
              "outlinewidth": 0,
              "ticks": ""
             }
            },
            "type": "scattercarpet"
           }
          ],
          "scattergeo": [
           {
            "marker": {
             "colorbar": {
              "outlinewidth": 0,
              "ticks": ""
             }
            },
            "type": "scattergeo"
           }
          ],
          "scattergl": [
           {
            "marker": {
             "colorbar": {
              "outlinewidth": 0,
              "ticks": ""
             }
            },
            "type": "scattergl"
           }
          ],
          "scattermapbox": [
           {
            "marker": {
             "colorbar": {
              "outlinewidth": 0,
              "ticks": ""
             }
            },
            "type": "scattermapbox"
           }
          ],
          "scatterpolar": [
           {
            "marker": {
             "colorbar": {
              "outlinewidth": 0,
              "ticks": ""
             }
            },
            "type": "scatterpolar"
           }
          ],
          "scatterpolargl": [
           {
            "marker": {
             "colorbar": {
              "outlinewidth": 0,
              "ticks": ""
             }
            },
            "type": "scatterpolargl"
           }
          ],
          "scatterternary": [
           {
            "marker": {
             "colorbar": {
              "outlinewidth": 0,
              "ticks": ""
             }
            },
            "type": "scatterternary"
           }
          ],
          "surface": [
           {
            "colorbar": {
             "outlinewidth": 0,
             "ticks": ""
            },
            "colorscale": [
             [
              0,
              "#0d0887"
             ],
             [
              0.1111111111111111,
              "#46039f"
             ],
             [
              0.2222222222222222,
              "#7201a8"
             ],
             [
              0.3333333333333333,
              "#9c179e"
             ],
             [
              0.4444444444444444,
              "#bd3786"
             ],
             [
              0.5555555555555556,
              "#d8576b"
             ],
             [
              0.6666666666666666,
              "#ed7953"
             ],
             [
              0.7777777777777778,
              "#fb9f3a"
             ],
             [
              0.8888888888888888,
              "#fdca26"
             ],
             [
              1,
              "#f0f921"
             ]
            ],
            "type": "surface"
           }
          ],
          "table": [
           {
            "cells": {
             "fill": {
              "color": "#EBF0F8"
             },
             "line": {
              "color": "white"
             }
            },
            "header": {
             "fill": {
              "color": "#C8D4E3"
             },
             "line": {
              "color": "white"
             }
            },
            "type": "table"
           }
          ]
         },
         "layout": {
          "annotationdefaults": {
           "arrowcolor": "#2a3f5f",
           "arrowhead": 0,
           "arrowwidth": 1
          },
          "autotypenumbers": "strict",
          "coloraxis": {
           "colorbar": {
            "outlinewidth": 0,
            "ticks": ""
           }
          },
          "colorscale": {
           "diverging": [
            [
             0,
             "#8e0152"
            ],
            [
             0.1,
             "#c51b7d"
            ],
            [
             0.2,
             "#de77ae"
            ],
            [
             0.3,
             "#f1b6da"
            ],
            [
             0.4,
             "#fde0ef"
            ],
            [
             0.5,
             "#f7f7f7"
            ],
            [
             0.6,
             "#e6f5d0"
            ],
            [
             0.7,
             "#b8e186"
            ],
            [
             0.8,
             "#7fbc41"
            ],
            [
             0.9,
             "#4d9221"
            ],
            [
             1,
             "#276419"
            ]
           ],
           "sequential": [
            [
             0,
             "#0d0887"
            ],
            [
             0.1111111111111111,
             "#46039f"
            ],
            [
             0.2222222222222222,
             "#7201a8"
            ],
            [
             0.3333333333333333,
             "#9c179e"
            ],
            [
             0.4444444444444444,
             "#bd3786"
            ],
            [
             0.5555555555555556,
             "#d8576b"
            ],
            [
             0.6666666666666666,
             "#ed7953"
            ],
            [
             0.7777777777777778,
             "#fb9f3a"
            ],
            [
             0.8888888888888888,
             "#fdca26"
            ],
            [
             1,
             "#f0f921"
            ]
           ],
           "sequentialminus": [
            [
             0,
             "#0d0887"
            ],
            [
             0.1111111111111111,
             "#46039f"
            ],
            [
             0.2222222222222222,
             "#7201a8"
            ],
            [
             0.3333333333333333,
             "#9c179e"
            ],
            [
             0.4444444444444444,
             "#bd3786"
            ],
            [
             0.5555555555555556,
             "#d8576b"
            ],
            [
             0.6666666666666666,
             "#ed7953"
            ],
            [
             0.7777777777777778,
             "#fb9f3a"
            ],
            [
             0.8888888888888888,
             "#fdca26"
            ],
            [
             1,
             "#f0f921"
            ]
           ]
          },
          "colorway": [
           "#636efa",
           "#EF553B",
           "#00cc96",
           "#ab63fa",
           "#FFA15A",
           "#19d3f3",
           "#FF6692",
           "#B6E880",
           "#FF97FF",
           "#FECB52"
          ],
          "font": {
           "color": "#2a3f5f"
          },
          "geo": {
           "bgcolor": "white",
           "lakecolor": "white",
           "landcolor": "#E5ECF6",
           "showlakes": true,
           "showland": true,
           "subunitcolor": "white"
          },
          "hoverlabel": {
           "align": "left"
          },
          "hovermode": "closest",
          "mapbox": {
           "style": "light"
          },
          "paper_bgcolor": "white",
          "plot_bgcolor": "#E5ECF6",
          "polar": {
           "angularaxis": {
            "gridcolor": "white",
            "linecolor": "white",
            "ticks": ""
           },
           "bgcolor": "#E5ECF6",
           "radialaxis": {
            "gridcolor": "white",
            "linecolor": "white",
            "ticks": ""
           }
          },
          "scene": {
           "xaxis": {
            "backgroundcolor": "#E5ECF6",
            "gridcolor": "white",
            "gridwidth": 2,
            "linecolor": "white",
            "showbackground": true,
            "ticks": "",
            "zerolinecolor": "white"
           },
           "yaxis": {
            "backgroundcolor": "#E5ECF6",
            "gridcolor": "white",
            "gridwidth": 2,
            "linecolor": "white",
            "showbackground": true,
            "ticks": "",
            "zerolinecolor": "white"
           },
           "zaxis": {
            "backgroundcolor": "#E5ECF6",
            "gridcolor": "white",
            "gridwidth": 2,
            "linecolor": "white",
            "showbackground": true,
            "ticks": "",
            "zerolinecolor": "white"
           }
          },
          "shapedefaults": {
           "line": {
            "color": "#2a3f5f"
           }
          },
          "ternary": {
           "aaxis": {
            "gridcolor": "white",
            "linecolor": "white",
            "ticks": ""
           },
           "baxis": {
            "gridcolor": "white",
            "linecolor": "white",
            "ticks": ""
           },
           "bgcolor": "#E5ECF6",
           "caxis": {
            "gridcolor": "white",
            "linecolor": "white",
            "ticks": ""
           }
          },
          "title": {
           "x": 0.05
          },
          "xaxis": {
           "automargin": true,
           "gridcolor": "white",
           "linecolor": "white",
           "ticks": "",
           "title": {
            "standoff": 15
           },
           "zerolinecolor": "white",
           "zerolinewidth": 2
          },
          "yaxis": {
           "automargin": true,
           "gridcolor": "white",
           "linecolor": "white",
           "ticks": "",
           "title": {
            "standoff": 15
           },
           "zerolinecolor": "white",
           "zerolinewidth": 2
          }
         }
        },
        "title": {
         "text": "ETH Earned by Top 20 Transcoders (as defined by stake)"
        },
        "xaxis": {
         "anchor": "y",
         "domain": [
          0,
          1
         ],
         "title": {
          "text": "transcoders_id"
         }
        },
        "yaxis": {
         "anchor": "x",
         "domain": [
          0,
          1
         ],
         "title": {
          "text": "ETH"
         }
        }
       }
      }
     },
     "metadata": {},
     "output_type": "display_data"
    }
   ],
   "source": [
    "fig_eth = px.bar(\n",
    "    board[:20],\n",
    "    x='transcoders_id',\n",
    "    y='transcoders_totalVolumeETH',\n",
    "    labels={\n",
    "        'transcoders_totalVolumeETH':'ETH'\n",
    "    },\n",
    "    title='ETH Earned by Top 20 Transcoders (as defined by stake)'\n",
    ")\n",
    "\n",
    "fig_eth.show()"
   ]
  },
  {
   "cell_type": "markdown",
   "metadata": {},
   "source": [
    "This is admittedly going to be arbitrary, but to ultimately determine orchestrator ranking, I am going to use an average of the percentile ranks (excluding totalVolumeUSD). I say arbitrary because a better approach would be to apply weights to each category. However, the weights would ultimately depend on a deeper understanding of what is important as a Livepeer orchestrator (beyond the balance of performance and network security) and what the Livepeer network and community value in orchestrators.  \n",
    "  \n",
    "So, straight average it is."
   ]
  },
  {
   "cell_type": "code",
   "execution_count": 81,
   "metadata": {},
   "outputs": [
    {
     "data": {
      "text/plain": [
       "transcoders_id\n",
       "0x525419ff5707190389bfb5c87c375d710f5fcb0e    0.977\n",
       "0x9d5611bf0dadddb4441a709141d9229d7f6b3e47    0.900\n",
       "0xdac817294c0c87ca4fa1895ef4b972eade99f2fd    0.883\n",
       "0x10b21af759129f32c6064adfb85d3ea2a8c0209c    0.875\n",
       "0xe3a5793d7c1d2a04a903fa1695b3e3555d6084ca    0.863\n",
       "                                              ...  \n",
       "0x90b8b6cf5c923116273fbbee4f146ff83469a1ab    0.202\n",
       "0x685b3cf5b8fedfddc73f3486983f9432960488ba    0.176\n",
       "0x750fc601b63554a0d5636f11dbbf8e66a3166889    0.174\n",
       "0x44c98af5da6a31c422ee5eed18d53986dd9bc01e    0.170\n",
       "0x3a025488a37fecdb6ca8a4cbd72ba87a919d8bf3    0.164\n",
       "Length: 100, dtype: float64"
      ]
     },
     "execution_count": 81,
     "metadata": {},
     "output_type": "execute_result"
    }
   ],
   "source": [
    "percentiles = board.copy(deep=True)\n",
    "percentiles.drop(columns=['transcoders_totalStake','transcoders_totalVolumeETH', 'transcoders_totalVolumeUSD', 'call_ratio', 'delegator_count','score','transcoders_totalVolumeUSD_pct'], inplace=True)\n",
    "percentiles = percentiles.set_index('transcoders_id').T.mean().sort_values(ascending=False)\n",
    "percentiles\n"
   ]
  },
  {
   "cell_type": "code",
   "execution_count": 91,
   "metadata": {},
   "outputs": [
    {
     "data": {
      "text/html": [
       "<div>\n",
       "<style scoped>\n",
       "    .dataframe tbody tr th:only-of-type {\n",
       "        vertical-align: middle;\n",
       "    }\n",
       "\n",
       "    .dataframe tbody tr th {\n",
       "        vertical-align: top;\n",
       "    }\n",
       "\n",
       "    .dataframe thead th {\n",
       "        text-align: right;\n",
       "    }\n",
       "</style>\n",
       "<table border=\"1\" class=\"dataframe\">\n",
       "  <thead>\n",
       "    <tr style=\"text-align: right;\">\n",
       "      <th></th>\n",
       "      <th>transcoders_id</th>\n",
       "      <th>transcoders_totalStake</th>\n",
       "      <th>transcoders_totalVolumeETH</th>\n",
       "      <th>transcoders_totalVolumeUSD</th>\n",
       "      <th>call_ratio</th>\n",
       "      <th>delegator_count</th>\n",
       "      <th>score</th>\n",
       "      <th>transcoders_totalStake_pct</th>\n",
       "      <th>transcoders_totalVolumeETH_pct</th>\n",
       "      <th>transcoders_totalVolumeUSD_pct</th>\n",
       "      <th>call_ratio_pct</th>\n",
       "      <th>delegator_count_pct</th>\n",
       "      <th>score_pct</th>\n",
       "      <th>avg_pct</th>\n",
       "    </tr>\n",
       "  </thead>\n",
       "  <tbody>\n",
       "    <tr>\n",
       "      <th>2</th>\n",
       "      <td>0x525419ff5707190389bfb5c87c375d710f5fcb0e</td>\n",
       "      <td>923301.742268</td>\n",
       "      <td>21.328402</td>\n",
       "      <td>53037.759233</td>\n",
       "      <td>1.0</td>\n",
       "      <td>716</td>\n",
       "      <td>0.999986</td>\n",
       "      <td>0.98</td>\n",
       "      <td>1.00</td>\n",
       "      <td>1.00</td>\n",
       "      <td>0.915</td>\n",
       "      <td>1.000</td>\n",
       "      <td>0.99</td>\n",
       "      <td>0.977</td>\n",
       "    </tr>\n",
       "    <tr>\n",
       "      <th>18</th>\n",
       "      <td>0x9d5611bf0dadddb4441a709141d9229d7f6b3e47</td>\n",
       "      <td>214509.084621</td>\n",
       "      <td>10.954910</td>\n",
       "      <td>25257.496261</td>\n",
       "      <td>1.0</td>\n",
       "      <td>30</td>\n",
       "      <td>0.999979</td>\n",
       "      <td>0.82</td>\n",
       "      <td>0.97</td>\n",
       "      <td>0.97</td>\n",
       "      <td>0.915</td>\n",
       "      <td>0.815</td>\n",
       "      <td>0.98</td>\n",
       "      <td>0.900</td>\n",
       "    </tr>\n",
       "    <tr>\n",
       "      <th>9</th>\n",
       "      <td>0xdac817294c0c87ca4fa1895ef4b972eade99f2fd</td>\n",
       "      <td>341071.081307</td>\n",
       "      <td>10.829665</td>\n",
       "      <td>30211.987059</td>\n",
       "      <td>1.0</td>\n",
       "      <td>55</td>\n",
       "      <td>0.987079</td>\n",
       "      <td>0.91</td>\n",
       "      <td>0.96</td>\n",
       "      <td>0.99</td>\n",
       "      <td>0.915</td>\n",
       "      <td>0.870</td>\n",
       "      <td>0.76</td>\n",
       "      <td>0.883</td>\n",
       "    </tr>\n",
       "    <tr>\n",
       "      <th>22</th>\n",
       "      <td>0x10b21af759129f32c6064adfb85d3ea2a8c0209c</td>\n",
       "      <td>132444.975869</td>\n",
       "      <td>8.694451</td>\n",
       "      <td>22796.706591</td>\n",
       "      <td>1.0</td>\n",
       "      <td>22</td>\n",
       "      <td>0.999833</td>\n",
       "      <td>0.78</td>\n",
       "      <td>0.95</td>\n",
       "      <td>0.96</td>\n",
       "      <td>0.915</td>\n",
       "      <td>0.800</td>\n",
       "      <td>0.93</td>\n",
       "      <td>0.875</td>\n",
       "    </tr>\n",
       "    <tr>\n",
       "      <th>20</th>\n",
       "      <td>0xe3a5793d7c1d2a04a903fa1695b3e3555d6084ca</td>\n",
       "      <td>211309.318416</td>\n",
       "      <td>13.753365</td>\n",
       "      <td>29565.181273</td>\n",
       "      <td>1.0</td>\n",
       "      <td>16</td>\n",
       "      <td>0.993759</td>\n",
       "      <td>0.80</td>\n",
       "      <td>0.99</td>\n",
       "      <td>0.98</td>\n",
       "      <td>0.915</td>\n",
       "      <td>0.780</td>\n",
       "      <td>0.83</td>\n",
       "      <td>0.863</td>\n",
       "    </tr>\n",
       "    <tr>\n",
       "      <th>14</th>\n",
       "      <td>0xbdcbe92befbf36d63ec547bba5842997d77dc841</td>\n",
       "      <td>254329.354468</td>\n",
       "      <td>11.672088</td>\n",
       "      <td>22621.946146</td>\n",
       "      <td>1.0</td>\n",
       "      <td>6</td>\n",
       "      <td>0.990279</td>\n",
       "      <td>0.86</td>\n",
       "      <td>0.98</td>\n",
       "      <td>0.95</td>\n",
       "      <td>0.915</td>\n",
       "      <td>0.735</td>\n",
       "      <td>0.80</td>\n",
       "      <td>0.858</td>\n",
       "    </tr>\n",
       "    <tr>\n",
       "      <th>12</th>\n",
       "      <td>0x21d1130dc36958db75fbb0e5a9e3e5f5680238ff</td>\n",
       "      <td>280187.427559</td>\n",
       "      <td>2.323132</td>\n",
       "      <td>6764.653814</td>\n",
       "      <td>1.0</td>\n",
       "      <td>35</td>\n",
       "      <td>0.982702</td>\n",
       "      <td>0.88</td>\n",
       "      <td>0.82</td>\n",
       "      <td>0.85</td>\n",
       "      <td>0.915</td>\n",
       "      <td>0.835</td>\n",
       "      <td>0.75</td>\n",
       "      <td>0.840</td>\n",
       "    </tr>\n",
       "    <tr>\n",
       "      <th>30</th>\n",
       "      <td>0xbe8770603daf200b1fa136ad354ba854928e602b</td>\n",
       "      <td>45875.024295</td>\n",
       "      <td>4.336476</td>\n",
       "      <td>15816.668441</td>\n",
       "      <td>1.0</td>\n",
       "      <td>40</td>\n",
       "      <td>0.993716</td>\n",
       "      <td>0.70</td>\n",
       "      <td>0.90</td>\n",
       "      <td>0.94</td>\n",
       "      <td>0.915</td>\n",
       "      <td>0.860</td>\n",
       "      <td>0.82</td>\n",
       "      <td>0.839</td>\n",
       "    </tr>\n",
       "    <tr>\n",
       "      <th>28</th>\n",
       "      <td>0x2e3a21ae7cdeb48f57fcad1ce16b258d5502ac05</td>\n",
       "      <td>69690.356908</td>\n",
       "      <td>3.826589</td>\n",
       "      <td>12138.326869</td>\n",
       "      <td>1.0</td>\n",
       "      <td>7</td>\n",
       "      <td>0.99969</td>\n",
       "      <td>0.72</td>\n",
       "      <td>0.88</td>\n",
       "      <td>0.92</td>\n",
       "      <td>0.915</td>\n",
       "      <td>0.750</td>\n",
       "      <td>0.92</td>\n",
       "      <td>0.837</td>\n",
       "    </tr>\n",
       "    <tr>\n",
       "      <th>23</th>\n",
       "      <td>0xe9e284277648fcdb09b8efc1832c73c09b5ecf59</td>\n",
       "      <td>116230.403060</td>\n",
       "      <td>5.483522</td>\n",
       "      <td>8014.533262</td>\n",
       "      <td>1.0</td>\n",
       "      <td>452</td>\n",
       "      <td>0.864064</td>\n",
       "      <td>0.77</td>\n",
       "      <td>0.92</td>\n",
       "      <td>0.88</td>\n",
       "      <td>0.915</td>\n",
       "      <td>0.990</td>\n",
       "      <td>0.53</td>\n",
       "      <td>0.825</td>\n",
       "    </tr>\n",
       "  </tbody>\n",
       "</table>\n",
       "</div>"
      ],
      "text/plain": [
       "                                transcoders_id  transcoders_totalStake  \\\n",
       "2   0x525419ff5707190389bfb5c87c375d710f5fcb0e           923301.742268   \n",
       "18  0x9d5611bf0dadddb4441a709141d9229d7f6b3e47           214509.084621   \n",
       "9   0xdac817294c0c87ca4fa1895ef4b972eade99f2fd           341071.081307   \n",
       "22  0x10b21af759129f32c6064adfb85d3ea2a8c0209c           132444.975869   \n",
       "20  0xe3a5793d7c1d2a04a903fa1695b3e3555d6084ca           211309.318416   \n",
       "14  0xbdcbe92befbf36d63ec547bba5842997d77dc841           254329.354468   \n",
       "12  0x21d1130dc36958db75fbb0e5a9e3e5f5680238ff           280187.427559   \n",
       "30  0xbe8770603daf200b1fa136ad354ba854928e602b            45875.024295   \n",
       "28  0x2e3a21ae7cdeb48f57fcad1ce16b258d5502ac05            69690.356908   \n",
       "23  0xe9e284277648fcdb09b8efc1832c73c09b5ecf59           116230.403060   \n",
       "\n",
       "    transcoders_totalVolumeETH  transcoders_totalVolumeUSD  call_ratio  \\\n",
       "2                    21.328402                53037.759233         1.0   \n",
       "18                   10.954910                25257.496261         1.0   \n",
       "9                    10.829665                30211.987059         1.0   \n",
       "22                    8.694451                22796.706591         1.0   \n",
       "20                   13.753365                29565.181273         1.0   \n",
       "14                   11.672088                22621.946146         1.0   \n",
       "12                    2.323132                 6764.653814         1.0   \n",
       "30                    4.336476                15816.668441         1.0   \n",
       "28                    3.826589                12138.326869         1.0   \n",
       "23                    5.483522                 8014.533262         1.0   \n",
       "\n",
       "    delegator_count     score  transcoders_totalStake_pct  \\\n",
       "2               716  0.999986                        0.98   \n",
       "18               30  0.999979                        0.82   \n",
       "9                55  0.987079                        0.91   \n",
       "22               22  0.999833                        0.78   \n",
       "20               16  0.993759                        0.80   \n",
       "14                6  0.990279                        0.86   \n",
       "12               35  0.982702                        0.88   \n",
       "30               40  0.993716                        0.70   \n",
       "28                7   0.99969                        0.72   \n",
       "23              452  0.864064                        0.77   \n",
       "\n",
       "    transcoders_totalVolumeETH_pct  transcoders_totalVolumeUSD_pct  \\\n",
       "2                             1.00                            1.00   \n",
       "18                            0.97                            0.97   \n",
       "9                             0.96                            0.99   \n",
       "22                            0.95                            0.96   \n",
       "20                            0.99                            0.98   \n",
       "14                            0.98                            0.95   \n",
       "12                            0.82                            0.85   \n",
       "30                            0.90                            0.94   \n",
       "28                            0.88                            0.92   \n",
       "23                            0.92                            0.88   \n",
       "\n",
       "    call_ratio_pct  delegator_count_pct  score_pct  avg_pct  \n",
       "2            0.915                1.000       0.99    0.977  \n",
       "18           0.915                0.815       0.98    0.900  \n",
       "9            0.915                0.870       0.76    0.883  \n",
       "22           0.915                0.800       0.93    0.875  \n",
       "20           0.915                0.780       0.83    0.863  \n",
       "14           0.915                0.735       0.80    0.858  \n",
       "12           0.915                0.835       0.75    0.840  \n",
       "30           0.915                0.860       0.82    0.839  \n",
       "28           0.915                0.750       0.92    0.837  \n",
       "23           0.915                0.990       0.53    0.825  "
      ]
     },
     "execution_count": 91,
     "metadata": {},
     "output_type": "execute_result"
    }
   ],
   "source": [
    "top_orchestrators = pd.merge(board, pd.DataFrame(percentiles).rename(columns={0:'avg_pct'}), on='transcoders_id', how='inner')\n",
    "top10 = top_orchestrators.sort_values(by='avg_pct', ascending=False)[:10]\n",
    "top10"
   ]
  },
  {
   "cell_type": "markdown",
   "metadata": {},
   "source": [
    "So, including a bit of everything gives us a pretty different picture than simply sorting by one metric (reproduced below). 0x525 remains the top orchestrator with an overall percentile rank of .977 - it's no wonder their earnings are by far the highest."
   ]
  },
  {
   "cell_type": "code",
   "execution_count": 90,
   "metadata": {},
   "outputs": [
    {
     "data": {
      "text/plain": [
       "2     0x525419ff5707190389bfb5c87c375d710f5fcb0e\n",
       "20    0xe3a5793d7c1d2a04a903fa1695b3e3555d6084ca\n",
       "14    0xbdcbe92befbf36d63ec547bba5842997d77dc841\n",
       "18    0x9d5611bf0dadddb4441a709141d9229d7f6b3e47\n",
       "9     0xdac817294c0c87ca4fa1895ef4b972eade99f2fd\n",
       "22    0x10b21af759129f32c6064adfb85d3ea2a8c0209c\n",
       "0     0x9c10672cee058fd658103d90872fe431bb6c0afa\n",
       "10    0xf4e8ef0763bcb2b1af693f5970a00050a6ac7e1b\n",
       "23    0xe9e284277648fcdb09b8efc1832c73c09b5ecf59\n",
       "17    0xd0aa1b9d0cd06cafa6af5c1af272be88c38aa831\n",
       "Name: transcoders_id, dtype: object"
      ]
     },
     "execution_count": 90,
     "metadata": {},
     "output_type": "execute_result"
    }
   ],
   "source": [
    "board.sort_values(by='transcoders_totalVolumeETH', ascending=False)[:10]['transcoders_id']"
   ]
  },
  {
   "cell_type": "code",
   "execution_count": 95,
   "metadata": {},
   "outputs": [
    {
     "data": {
      "application/vnd.plotly.v1+json": {
       "config": {
        "plotlyServerURL": "https://plot.ly"
       },
       "data": [
        {
         "hovertemplate": "avg_pct=%{x}<br>transcoders_totalVolumeETH=%{y}<extra></extra>",
         "legendgroup": "",
         "marker": {
          "color": "#636efa",
          "symbol": "circle"
         },
         "mode": "markers",
         "name": "",
         "orientation": "v",
         "showlegend": false,
         "type": "scatter",
         "x": [
          0.768,
          0.771,
          0.977,
          0.682,
          0.8109999999999999,
          0.5820000000000001,
          0.686,
          0.495,
          0.7150000000000001,
          0.883,
          0.786,
          0.642,
          0.8400000000000001,
          0.441,
          0.858,
          0.506,
          0.751,
          0.8160000000000001,
          0.9,
          0.728,
          0.8630000000000001,
          0.775,
          0.875,
          0.825,
          0.817,
          0.599,
          0.7310000000000001,
          0.799,
          0.8370000000000001,
          0.794,
          0.8390000000000001,
          0.758,
          0.696,
          0.6689999999999999,
          0.4600000000000001,
          0.7550000000000001,
          0.42800000000000005,
          0.522,
          0.398,
          0.38299999999999995,
          0.6449999999999999,
          0.367,
          0.339,
          0.36699999999999994,
          0.457,
          0.26999999999999996,
          0.578,
          0.545,
          0.26399999999999996,
          0.538,
          0.446,
          0.34199999999999997,
          0.393,
          0.46399999999999997,
          0.5559999999999999,
          0.5690000000000001,
          0.355,
          0.43499999999999994,
          0.244,
          0.406,
          0.391,
          0.238,
          0.417,
          0.343,
          0.441,
          0.378,
          0.41600000000000004,
          0.27199999999999996,
          0.33799999999999997,
          0.45600000000000007,
          0.329,
          0.39,
          0.282,
          0.41,
          0.374,
          0.418,
          0.32,
          0.491,
          0.20399999999999996,
          0.20199999999999996,
          0.26799999999999996,
          0.33799999999999997,
          0.399,
          0.392,
          0.266,
          0.36,
          0.268,
          0.4,
          0.346,
          0.45699999999999996,
          0.43500000000000005,
          0.351,
          0.176,
          0.174,
          0.29,
          0.16999999999999998,
          0.34199999999999997,
          0.346,
          0.16399999999999998,
          0.40700000000000003
         ],
         "xaxis": "x",
         "y": [
          8.001220339565128,
          0.7228952204581742,
          21.328401540940824,
          0.6501952085181899,
          3.1145518766947338,
          0,
          0.6282428322439,
          0,
          1.0934626206988887,
          10.829664837070212,
          7.886876741380786,
          0.01,
          2.3231318361146904,
          0,
          11.67208765219246,
          0.18181818181818182,
          0.7107542819499342,
          4.69697825730072,
          10.954910405070933,
          2.2046152598460966,
          13.753364536091059,
          1.0873851921274602,
          8.694451495159132,
          5.483521700054829,
          2.483409999448084,
          0.9923001434102267,
          2.46984386552953,
          1.4436363636363636,
          3.8265885660731023,
          3.8290162177723754,
          4.336476101218369,
          2.3605670103092784,
          0.7218181818181818,
          1.8054545454545454,
          0.11130434782608695,
          1.9836363636363636,
          0,
          0.18,
          0,
          0,
          2.8723499142367066,
          0,
          0,
          0.029565217391304344,
          0,
          0,
          0.5418181818181819,
          0.5682189239332096,
          0,
          0.36,
          0.36,
          0.18,
          0.36,
          1.4418181818181819,
          0.5418181818181819,
          0.18,
          0,
          0,
          0,
          0.5436363636363636,
          0.18,
          0,
          0,
          0.18,
          0,
          0,
          0.72,
          0.18,
          0.18,
          0.36,
          0.18181818181818182,
          0.38729763387297633,
          0.1875,
          0.54,
          0.18,
          0.9018181818181819,
          0,
          1.2882380631729475,
          0,
          0,
          0.20454745454545453,
          0.18,
          0.180001,
          0.9018181818181819,
          0,
          0.36,
          0.18,
          0.18,
          0.9,
          0.9018181818181819,
          0.18,
          0,
          0,
          0,
          0.18,
          0,
          0.729165120593692,
          0.9093181818181818,
          0,
          1.5508956916099774
         ],
         "yaxis": "y"
        }
       ],
       "layout": {
        "legend": {
         "tracegroupgap": 0
        },
        "margin": {
         "t": 60
        },
        "template": {
         "data": {
          "bar": [
           {
            "error_x": {
             "color": "#2a3f5f"
            },
            "error_y": {
             "color": "#2a3f5f"
            },
            "marker": {
             "line": {
              "color": "#E5ECF6",
              "width": 0.5
             },
             "pattern": {
              "fillmode": "overlay",
              "size": 10,
              "solidity": 0.2
             }
            },
            "type": "bar"
           }
          ],
          "barpolar": [
           {
            "marker": {
             "line": {
              "color": "#E5ECF6",
              "width": 0.5
             },
             "pattern": {
              "fillmode": "overlay",
              "size": 10,
              "solidity": 0.2
             }
            },
            "type": "barpolar"
           }
          ],
          "carpet": [
           {
            "aaxis": {
             "endlinecolor": "#2a3f5f",
             "gridcolor": "white",
             "linecolor": "white",
             "minorgridcolor": "white",
             "startlinecolor": "#2a3f5f"
            },
            "baxis": {
             "endlinecolor": "#2a3f5f",
             "gridcolor": "white",
             "linecolor": "white",
             "minorgridcolor": "white",
             "startlinecolor": "#2a3f5f"
            },
            "type": "carpet"
           }
          ],
          "choropleth": [
           {
            "colorbar": {
             "outlinewidth": 0,
             "ticks": ""
            },
            "type": "choropleth"
           }
          ],
          "contour": [
           {
            "colorbar": {
             "outlinewidth": 0,
             "ticks": ""
            },
            "colorscale": [
             [
              0,
              "#0d0887"
             ],
             [
              0.1111111111111111,
              "#46039f"
             ],
             [
              0.2222222222222222,
              "#7201a8"
             ],
             [
              0.3333333333333333,
              "#9c179e"
             ],
             [
              0.4444444444444444,
              "#bd3786"
             ],
             [
              0.5555555555555556,
              "#d8576b"
             ],
             [
              0.6666666666666666,
              "#ed7953"
             ],
             [
              0.7777777777777778,
              "#fb9f3a"
             ],
             [
              0.8888888888888888,
              "#fdca26"
             ],
             [
              1,
              "#f0f921"
             ]
            ],
            "type": "contour"
           }
          ],
          "contourcarpet": [
           {
            "colorbar": {
             "outlinewidth": 0,
             "ticks": ""
            },
            "type": "contourcarpet"
           }
          ],
          "heatmap": [
           {
            "colorbar": {
             "outlinewidth": 0,
             "ticks": ""
            },
            "colorscale": [
             [
              0,
              "#0d0887"
             ],
             [
              0.1111111111111111,
              "#46039f"
             ],
             [
              0.2222222222222222,
              "#7201a8"
             ],
             [
              0.3333333333333333,
              "#9c179e"
             ],
             [
              0.4444444444444444,
              "#bd3786"
             ],
             [
              0.5555555555555556,
              "#d8576b"
             ],
             [
              0.6666666666666666,
              "#ed7953"
             ],
             [
              0.7777777777777778,
              "#fb9f3a"
             ],
             [
              0.8888888888888888,
              "#fdca26"
             ],
             [
              1,
              "#f0f921"
             ]
            ],
            "type": "heatmap"
           }
          ],
          "heatmapgl": [
           {
            "colorbar": {
             "outlinewidth": 0,
             "ticks": ""
            },
            "colorscale": [
             [
              0,
              "#0d0887"
             ],
             [
              0.1111111111111111,
              "#46039f"
             ],
             [
              0.2222222222222222,
              "#7201a8"
             ],
             [
              0.3333333333333333,
              "#9c179e"
             ],
             [
              0.4444444444444444,
              "#bd3786"
             ],
             [
              0.5555555555555556,
              "#d8576b"
             ],
             [
              0.6666666666666666,
              "#ed7953"
             ],
             [
              0.7777777777777778,
              "#fb9f3a"
             ],
             [
              0.8888888888888888,
              "#fdca26"
             ],
             [
              1,
              "#f0f921"
             ]
            ],
            "type": "heatmapgl"
           }
          ],
          "histogram": [
           {
            "marker": {
             "pattern": {
              "fillmode": "overlay",
              "size": 10,
              "solidity": 0.2
             }
            },
            "type": "histogram"
           }
          ],
          "histogram2d": [
           {
            "colorbar": {
             "outlinewidth": 0,
             "ticks": ""
            },
            "colorscale": [
             [
              0,
              "#0d0887"
             ],
             [
              0.1111111111111111,
              "#46039f"
             ],
             [
              0.2222222222222222,
              "#7201a8"
             ],
             [
              0.3333333333333333,
              "#9c179e"
             ],
             [
              0.4444444444444444,
              "#bd3786"
             ],
             [
              0.5555555555555556,
              "#d8576b"
             ],
             [
              0.6666666666666666,
              "#ed7953"
             ],
             [
              0.7777777777777778,
              "#fb9f3a"
             ],
             [
              0.8888888888888888,
              "#fdca26"
             ],
             [
              1,
              "#f0f921"
             ]
            ],
            "type": "histogram2d"
           }
          ],
          "histogram2dcontour": [
           {
            "colorbar": {
             "outlinewidth": 0,
             "ticks": ""
            },
            "colorscale": [
             [
              0,
              "#0d0887"
             ],
             [
              0.1111111111111111,
              "#46039f"
             ],
             [
              0.2222222222222222,
              "#7201a8"
             ],
             [
              0.3333333333333333,
              "#9c179e"
             ],
             [
              0.4444444444444444,
              "#bd3786"
             ],
             [
              0.5555555555555556,
              "#d8576b"
             ],
             [
              0.6666666666666666,
              "#ed7953"
             ],
             [
              0.7777777777777778,
              "#fb9f3a"
             ],
             [
              0.8888888888888888,
              "#fdca26"
             ],
             [
              1,
              "#f0f921"
             ]
            ],
            "type": "histogram2dcontour"
           }
          ],
          "mesh3d": [
           {
            "colorbar": {
             "outlinewidth": 0,
             "ticks": ""
            },
            "type": "mesh3d"
           }
          ],
          "parcoords": [
           {
            "line": {
             "colorbar": {
              "outlinewidth": 0,
              "ticks": ""
             }
            },
            "type": "parcoords"
           }
          ],
          "pie": [
           {
            "automargin": true,
            "type": "pie"
           }
          ],
          "scatter": [
           {
            "marker": {
             "colorbar": {
              "outlinewidth": 0,
              "ticks": ""
             }
            },
            "type": "scatter"
           }
          ],
          "scatter3d": [
           {
            "line": {
             "colorbar": {
              "outlinewidth": 0,
              "ticks": ""
             }
            },
            "marker": {
             "colorbar": {
              "outlinewidth": 0,
              "ticks": ""
             }
            },
            "type": "scatter3d"
           }
          ],
          "scattercarpet": [
           {
            "marker": {
             "colorbar": {
              "outlinewidth": 0,
              "ticks": ""
             }
            },
            "type": "scattercarpet"
           }
          ],
          "scattergeo": [
           {
            "marker": {
             "colorbar": {
              "outlinewidth": 0,
              "ticks": ""
             }
            },
            "type": "scattergeo"
           }
          ],
          "scattergl": [
           {
            "marker": {
             "colorbar": {
              "outlinewidth": 0,
              "ticks": ""
             }
            },
            "type": "scattergl"
           }
          ],
          "scattermapbox": [
           {
            "marker": {
             "colorbar": {
              "outlinewidth": 0,
              "ticks": ""
             }
            },
            "type": "scattermapbox"
           }
          ],
          "scatterpolar": [
           {
            "marker": {
             "colorbar": {
              "outlinewidth": 0,
              "ticks": ""
             }
            },
            "type": "scatterpolar"
           }
          ],
          "scatterpolargl": [
           {
            "marker": {
             "colorbar": {
              "outlinewidth": 0,
              "ticks": ""
             }
            },
            "type": "scatterpolargl"
           }
          ],
          "scatterternary": [
           {
            "marker": {
             "colorbar": {
              "outlinewidth": 0,
              "ticks": ""
             }
            },
            "type": "scatterternary"
           }
          ],
          "surface": [
           {
            "colorbar": {
             "outlinewidth": 0,
             "ticks": ""
            },
            "colorscale": [
             [
              0,
              "#0d0887"
             ],
             [
              0.1111111111111111,
              "#46039f"
             ],
             [
              0.2222222222222222,
              "#7201a8"
             ],
             [
              0.3333333333333333,
              "#9c179e"
             ],
             [
              0.4444444444444444,
              "#bd3786"
             ],
             [
              0.5555555555555556,
              "#d8576b"
             ],
             [
              0.6666666666666666,
              "#ed7953"
             ],
             [
              0.7777777777777778,
              "#fb9f3a"
             ],
             [
              0.8888888888888888,
              "#fdca26"
             ],
             [
              1,
              "#f0f921"
             ]
            ],
            "type": "surface"
           }
          ],
          "table": [
           {
            "cells": {
             "fill": {
              "color": "#EBF0F8"
             },
             "line": {
              "color": "white"
             }
            },
            "header": {
             "fill": {
              "color": "#C8D4E3"
             },
             "line": {
              "color": "white"
             }
            },
            "type": "table"
           }
          ]
         },
         "layout": {
          "annotationdefaults": {
           "arrowcolor": "#2a3f5f",
           "arrowhead": 0,
           "arrowwidth": 1
          },
          "autotypenumbers": "strict",
          "coloraxis": {
           "colorbar": {
            "outlinewidth": 0,
            "ticks": ""
           }
          },
          "colorscale": {
           "diverging": [
            [
             0,
             "#8e0152"
            ],
            [
             0.1,
             "#c51b7d"
            ],
            [
             0.2,
             "#de77ae"
            ],
            [
             0.3,
             "#f1b6da"
            ],
            [
             0.4,
             "#fde0ef"
            ],
            [
             0.5,
             "#f7f7f7"
            ],
            [
             0.6,
             "#e6f5d0"
            ],
            [
             0.7,
             "#b8e186"
            ],
            [
             0.8,
             "#7fbc41"
            ],
            [
             0.9,
             "#4d9221"
            ],
            [
             1,
             "#276419"
            ]
           ],
           "sequential": [
            [
             0,
             "#0d0887"
            ],
            [
             0.1111111111111111,
             "#46039f"
            ],
            [
             0.2222222222222222,
             "#7201a8"
            ],
            [
             0.3333333333333333,
             "#9c179e"
            ],
            [
             0.4444444444444444,
             "#bd3786"
            ],
            [
             0.5555555555555556,
             "#d8576b"
            ],
            [
             0.6666666666666666,
             "#ed7953"
            ],
            [
             0.7777777777777778,
             "#fb9f3a"
            ],
            [
             0.8888888888888888,
             "#fdca26"
            ],
            [
             1,
             "#f0f921"
            ]
           ],
           "sequentialminus": [
            [
             0,
             "#0d0887"
            ],
            [
             0.1111111111111111,
             "#46039f"
            ],
            [
             0.2222222222222222,
             "#7201a8"
            ],
            [
             0.3333333333333333,
             "#9c179e"
            ],
            [
             0.4444444444444444,
             "#bd3786"
            ],
            [
             0.5555555555555556,
             "#d8576b"
            ],
            [
             0.6666666666666666,
             "#ed7953"
            ],
            [
             0.7777777777777778,
             "#fb9f3a"
            ],
            [
             0.8888888888888888,
             "#fdca26"
            ],
            [
             1,
             "#f0f921"
            ]
           ]
          },
          "colorway": [
           "#636efa",
           "#EF553B",
           "#00cc96",
           "#ab63fa",
           "#FFA15A",
           "#19d3f3",
           "#FF6692",
           "#B6E880",
           "#FF97FF",
           "#FECB52"
          ],
          "font": {
           "color": "#2a3f5f"
          },
          "geo": {
           "bgcolor": "white",
           "lakecolor": "white",
           "landcolor": "#E5ECF6",
           "showlakes": true,
           "showland": true,
           "subunitcolor": "white"
          },
          "hoverlabel": {
           "align": "left"
          },
          "hovermode": "closest",
          "mapbox": {
           "style": "light"
          },
          "paper_bgcolor": "white",
          "plot_bgcolor": "#E5ECF6",
          "polar": {
           "angularaxis": {
            "gridcolor": "white",
            "linecolor": "white",
            "ticks": ""
           },
           "bgcolor": "#E5ECF6",
           "radialaxis": {
            "gridcolor": "white",
            "linecolor": "white",
            "ticks": ""
           }
          },
          "scene": {
           "xaxis": {
            "backgroundcolor": "#E5ECF6",
            "gridcolor": "white",
            "gridwidth": 2,
            "linecolor": "white",
            "showbackground": true,
            "ticks": "",
            "zerolinecolor": "white"
           },
           "yaxis": {
            "backgroundcolor": "#E5ECF6",
            "gridcolor": "white",
            "gridwidth": 2,
            "linecolor": "white",
            "showbackground": true,
            "ticks": "",
            "zerolinecolor": "white"
           },
           "zaxis": {
            "backgroundcolor": "#E5ECF6",
            "gridcolor": "white",
            "gridwidth": 2,
            "linecolor": "white",
            "showbackground": true,
            "ticks": "",
            "zerolinecolor": "white"
           }
          },
          "shapedefaults": {
           "line": {
            "color": "#2a3f5f"
           }
          },
          "ternary": {
           "aaxis": {
            "gridcolor": "white",
            "linecolor": "white",
            "ticks": ""
           },
           "baxis": {
            "gridcolor": "white",
            "linecolor": "white",
            "ticks": ""
           },
           "bgcolor": "#E5ECF6",
           "caxis": {
            "gridcolor": "white",
            "linecolor": "white",
            "ticks": ""
           }
          },
          "title": {
           "x": 0.05
          },
          "xaxis": {
           "automargin": true,
           "gridcolor": "white",
           "linecolor": "white",
           "ticks": "",
           "title": {
            "standoff": 15
           },
           "zerolinecolor": "white",
           "zerolinewidth": 2
          },
          "yaxis": {
           "automargin": true,
           "gridcolor": "white",
           "linecolor": "white",
           "ticks": "",
           "title": {
            "standoff": 15
           },
           "zerolinecolor": "white",
           "zerolinewidth": 2
          }
         }
        },
        "xaxis": {
         "anchor": "y",
         "domain": [
          0,
          1
         ],
         "title": {
          "text": "avg_pct"
         }
        },
        "yaxis": {
         "anchor": "x",
         "domain": [
          0,
          1
         ],
         "title": {
          "text": "transcoders_totalVolumeETH"
         }
        }
       }
      }
     },
     "metadata": {},
     "output_type": "display_data"
    }
   ],
   "source": [
    "fig_score = px.scatter(\n",
    "    top_orchestrators,\n",
    "    x='avg_pct',\n",
    "    y= 'transcoders_totalVolumeETH'\n",
    ")\n",
    "\n",
    "fig_score.show()"
   ]
  },
  {
   "cell_type": "markdown",
   "metadata": {},
   "source": [
    "To no surprise, earnings are concentrated in the orchestrators with the higher overall score."
   ]
  },
  {
   "cell_type": "code",
   "execution_count": 102,
   "metadata": {},
   "outputs": [
    {
     "data": {
      "application/vnd.plotly.v1+json": {
       "config": {
        "plotlyServerURL": "https://plot.ly"
       },
       "data": [
        {
         "hovertemplate": "delegator_count_pct=%{x}<br>transcoders_totalVolumeETH=%{y}<extra></extra>",
         "legendgroup": "",
         "marker": {
          "color": "#636efa",
          "symbol": "circle"
         },
         "mode": "markers",
         "name": "",
         "orientation": "v",
         "showlegend": false,
         "type": "scatter",
         "x": [
          0.97,
          0.98,
          1,
          0.94,
          0.76,
          0.93,
          0.815,
          0.515,
          0.95,
          0.87,
          0.79,
          0.85,
          0.835,
          0.735,
          0.735,
          0.515,
          0.92,
          0.835,
          0.815,
          0.91,
          0.78,
          0.96,
          0.8,
          0.99,
          0.89,
          0.67,
          0.705,
          0.67,
          0.75,
          0.645,
          0.86,
          0.67,
          0.515,
          0.705,
          0.88,
          0.705,
          0.9,
          0.515,
          0.77,
          0.705,
          0.515,
          0.645,
          0.515,
          0.515,
          0.515,
          0.2,
          0.515,
          0.515,
          0.2,
          0.2,
          0.2,
          0.2,
          0.515,
          0.2,
          0.515,
          0.515,
          0.515,
          0.515,
          0.2,
          0.2,
          0.515,
          0.2,
          0.2,
          0.515,
          0.515,
          0.2,
          0.2,
          0.2,
          0.2,
          0.2,
          0.2,
          0.2,
          0.2,
          0.2,
          0.2,
          0.2,
          0.2,
          0.515,
          0.2,
          0.2,
          0.2,
          0.2,
          0.515,
          0.2,
          0.2,
          0.2,
          0.2,
          0.2,
          0.2,
          0.515,
          0.515,
          0.515,
          0.2,
          0.2,
          0.2,
          0.2,
          0.2,
          0.2,
          0.2,
          0.515
         ],
         "xaxis": "x",
         "y": [
          8.001220339565128,
          0.7228952204581742,
          21.328401540940824,
          0.6501952085181899,
          3.1145518766947338,
          0,
          0.6282428322439,
          0,
          1.0934626206988887,
          10.829664837070212,
          7.886876741380786,
          0.01,
          2.3231318361146904,
          0,
          11.67208765219246,
          0.18181818181818182,
          0.7107542819499342,
          4.69697825730072,
          10.954910405070933,
          2.2046152598460966,
          13.753364536091059,
          1.0873851921274602,
          8.694451495159132,
          5.483521700054829,
          2.483409999448084,
          0.9923001434102267,
          2.46984386552953,
          1.4436363636363636,
          3.8265885660731023,
          3.8290162177723754,
          4.336476101218369,
          2.3605670103092784,
          0.7218181818181818,
          1.8054545454545454,
          0.11130434782608695,
          1.9836363636363636,
          0,
          0.18,
          0,
          0,
          2.8723499142367066,
          0,
          0,
          0.029565217391304344,
          0,
          0,
          0.5418181818181819,
          0.5682189239332096,
          0,
          0.36,
          0.36,
          0.18,
          0.36,
          1.4418181818181819,
          0.5418181818181819,
          0.18,
          0,
          0,
          0,
          0.5436363636363636,
          0.18,
          0,
          0,
          0.18,
          0,
          0,
          0.72,
          0.18,
          0.18,
          0.36,
          0.18181818181818182,
          0.38729763387297633,
          0.1875,
          0.54,
          0.18,
          0.9018181818181819,
          0,
          1.2882380631729475,
          0,
          0,
          0.20454745454545453,
          0.18,
          0.180001,
          0.9018181818181819,
          0,
          0.36,
          0.18,
          0.18,
          0.9,
          0.9018181818181819,
          0.18,
          0,
          0,
          0,
          0.18,
          0,
          0.729165120593692,
          0.9093181818181818,
          0,
          1.5508956916099774
         ],
         "yaxis": "y"
        }
       ],
       "layout": {
        "legend": {
         "tracegroupgap": 0
        },
        "margin": {
         "t": 60
        },
        "template": {
         "data": {
          "bar": [
           {
            "error_x": {
             "color": "#2a3f5f"
            },
            "error_y": {
             "color": "#2a3f5f"
            },
            "marker": {
             "line": {
              "color": "#E5ECF6",
              "width": 0.5
             },
             "pattern": {
              "fillmode": "overlay",
              "size": 10,
              "solidity": 0.2
             }
            },
            "type": "bar"
           }
          ],
          "barpolar": [
           {
            "marker": {
             "line": {
              "color": "#E5ECF6",
              "width": 0.5
             },
             "pattern": {
              "fillmode": "overlay",
              "size": 10,
              "solidity": 0.2
             }
            },
            "type": "barpolar"
           }
          ],
          "carpet": [
           {
            "aaxis": {
             "endlinecolor": "#2a3f5f",
             "gridcolor": "white",
             "linecolor": "white",
             "minorgridcolor": "white",
             "startlinecolor": "#2a3f5f"
            },
            "baxis": {
             "endlinecolor": "#2a3f5f",
             "gridcolor": "white",
             "linecolor": "white",
             "minorgridcolor": "white",
             "startlinecolor": "#2a3f5f"
            },
            "type": "carpet"
           }
          ],
          "choropleth": [
           {
            "colorbar": {
             "outlinewidth": 0,
             "ticks": ""
            },
            "type": "choropleth"
           }
          ],
          "contour": [
           {
            "colorbar": {
             "outlinewidth": 0,
             "ticks": ""
            },
            "colorscale": [
             [
              0,
              "#0d0887"
             ],
             [
              0.1111111111111111,
              "#46039f"
             ],
             [
              0.2222222222222222,
              "#7201a8"
             ],
             [
              0.3333333333333333,
              "#9c179e"
             ],
             [
              0.4444444444444444,
              "#bd3786"
             ],
             [
              0.5555555555555556,
              "#d8576b"
             ],
             [
              0.6666666666666666,
              "#ed7953"
             ],
             [
              0.7777777777777778,
              "#fb9f3a"
             ],
             [
              0.8888888888888888,
              "#fdca26"
             ],
             [
              1,
              "#f0f921"
             ]
            ],
            "type": "contour"
           }
          ],
          "contourcarpet": [
           {
            "colorbar": {
             "outlinewidth": 0,
             "ticks": ""
            },
            "type": "contourcarpet"
           }
          ],
          "heatmap": [
           {
            "colorbar": {
             "outlinewidth": 0,
             "ticks": ""
            },
            "colorscale": [
             [
              0,
              "#0d0887"
             ],
             [
              0.1111111111111111,
              "#46039f"
             ],
             [
              0.2222222222222222,
              "#7201a8"
             ],
             [
              0.3333333333333333,
              "#9c179e"
             ],
             [
              0.4444444444444444,
              "#bd3786"
             ],
             [
              0.5555555555555556,
              "#d8576b"
             ],
             [
              0.6666666666666666,
              "#ed7953"
             ],
             [
              0.7777777777777778,
              "#fb9f3a"
             ],
             [
              0.8888888888888888,
              "#fdca26"
             ],
             [
              1,
              "#f0f921"
             ]
            ],
            "type": "heatmap"
           }
          ],
          "heatmapgl": [
           {
            "colorbar": {
             "outlinewidth": 0,
             "ticks": ""
            },
            "colorscale": [
             [
              0,
              "#0d0887"
             ],
             [
              0.1111111111111111,
              "#46039f"
             ],
             [
              0.2222222222222222,
              "#7201a8"
             ],
             [
              0.3333333333333333,
              "#9c179e"
             ],
             [
              0.4444444444444444,
              "#bd3786"
             ],
             [
              0.5555555555555556,
              "#d8576b"
             ],
             [
              0.6666666666666666,
              "#ed7953"
             ],
             [
              0.7777777777777778,
              "#fb9f3a"
             ],
             [
              0.8888888888888888,
              "#fdca26"
             ],
             [
              1,
              "#f0f921"
             ]
            ],
            "type": "heatmapgl"
           }
          ],
          "histogram": [
           {
            "marker": {
             "pattern": {
              "fillmode": "overlay",
              "size": 10,
              "solidity": 0.2
             }
            },
            "type": "histogram"
           }
          ],
          "histogram2d": [
           {
            "colorbar": {
             "outlinewidth": 0,
             "ticks": ""
            },
            "colorscale": [
             [
              0,
              "#0d0887"
             ],
             [
              0.1111111111111111,
              "#46039f"
             ],
             [
              0.2222222222222222,
              "#7201a8"
             ],
             [
              0.3333333333333333,
              "#9c179e"
             ],
             [
              0.4444444444444444,
              "#bd3786"
             ],
             [
              0.5555555555555556,
              "#d8576b"
             ],
             [
              0.6666666666666666,
              "#ed7953"
             ],
             [
              0.7777777777777778,
              "#fb9f3a"
             ],
             [
              0.8888888888888888,
              "#fdca26"
             ],
             [
              1,
              "#f0f921"
             ]
            ],
            "type": "histogram2d"
           }
          ],
          "histogram2dcontour": [
           {
            "colorbar": {
             "outlinewidth": 0,
             "ticks": ""
            },
            "colorscale": [
             [
              0,
              "#0d0887"
             ],
             [
              0.1111111111111111,
              "#46039f"
             ],
             [
              0.2222222222222222,
              "#7201a8"
             ],
             [
              0.3333333333333333,
              "#9c179e"
             ],
             [
              0.4444444444444444,
              "#bd3786"
             ],
             [
              0.5555555555555556,
              "#d8576b"
             ],
             [
              0.6666666666666666,
              "#ed7953"
             ],
             [
              0.7777777777777778,
              "#fb9f3a"
             ],
             [
              0.8888888888888888,
              "#fdca26"
             ],
             [
              1,
              "#f0f921"
             ]
            ],
            "type": "histogram2dcontour"
           }
          ],
          "mesh3d": [
           {
            "colorbar": {
             "outlinewidth": 0,
             "ticks": ""
            },
            "type": "mesh3d"
           }
          ],
          "parcoords": [
           {
            "line": {
             "colorbar": {
              "outlinewidth": 0,
              "ticks": ""
             }
            },
            "type": "parcoords"
           }
          ],
          "pie": [
           {
            "automargin": true,
            "type": "pie"
           }
          ],
          "scatter": [
           {
            "marker": {
             "colorbar": {
              "outlinewidth": 0,
              "ticks": ""
             }
            },
            "type": "scatter"
           }
          ],
          "scatter3d": [
           {
            "line": {
             "colorbar": {
              "outlinewidth": 0,
              "ticks": ""
             }
            },
            "marker": {
             "colorbar": {
              "outlinewidth": 0,
              "ticks": ""
             }
            },
            "type": "scatter3d"
           }
          ],
          "scattercarpet": [
           {
            "marker": {
             "colorbar": {
              "outlinewidth": 0,
              "ticks": ""
             }
            },
            "type": "scattercarpet"
           }
          ],
          "scattergeo": [
           {
            "marker": {
             "colorbar": {
              "outlinewidth": 0,
              "ticks": ""
             }
            },
            "type": "scattergeo"
           }
          ],
          "scattergl": [
           {
            "marker": {
             "colorbar": {
              "outlinewidth": 0,
              "ticks": ""
             }
            },
            "type": "scattergl"
           }
          ],
          "scattermapbox": [
           {
            "marker": {
             "colorbar": {
              "outlinewidth": 0,
              "ticks": ""
             }
            },
            "type": "scattermapbox"
           }
          ],
          "scatterpolar": [
           {
            "marker": {
             "colorbar": {
              "outlinewidth": 0,
              "ticks": ""
             }
            },
            "type": "scatterpolar"
           }
          ],
          "scatterpolargl": [
           {
            "marker": {
             "colorbar": {
              "outlinewidth": 0,
              "ticks": ""
             }
            },
            "type": "scatterpolargl"
           }
          ],
          "scatterternary": [
           {
            "marker": {
             "colorbar": {
              "outlinewidth": 0,
              "ticks": ""
             }
            },
            "type": "scatterternary"
           }
          ],
          "surface": [
           {
            "colorbar": {
             "outlinewidth": 0,
             "ticks": ""
            },
            "colorscale": [
             [
              0,
              "#0d0887"
             ],
             [
              0.1111111111111111,
              "#46039f"
             ],
             [
              0.2222222222222222,
              "#7201a8"
             ],
             [
              0.3333333333333333,
              "#9c179e"
             ],
             [
              0.4444444444444444,
              "#bd3786"
             ],
             [
              0.5555555555555556,
              "#d8576b"
             ],
             [
              0.6666666666666666,
              "#ed7953"
             ],
             [
              0.7777777777777778,
              "#fb9f3a"
             ],
             [
              0.8888888888888888,
              "#fdca26"
             ],
             [
              1,
              "#f0f921"
             ]
            ],
            "type": "surface"
           }
          ],
          "table": [
           {
            "cells": {
             "fill": {
              "color": "#EBF0F8"
             },
             "line": {
              "color": "white"
             }
            },
            "header": {
             "fill": {
              "color": "#C8D4E3"
             },
             "line": {
              "color": "white"
             }
            },
            "type": "table"
           }
          ]
         },
         "layout": {
          "annotationdefaults": {
           "arrowcolor": "#2a3f5f",
           "arrowhead": 0,
           "arrowwidth": 1
          },
          "autotypenumbers": "strict",
          "coloraxis": {
           "colorbar": {
            "outlinewidth": 0,
            "ticks": ""
           }
          },
          "colorscale": {
           "diverging": [
            [
             0,
             "#8e0152"
            ],
            [
             0.1,
             "#c51b7d"
            ],
            [
             0.2,
             "#de77ae"
            ],
            [
             0.3,
             "#f1b6da"
            ],
            [
             0.4,
             "#fde0ef"
            ],
            [
             0.5,
             "#f7f7f7"
            ],
            [
             0.6,
             "#e6f5d0"
            ],
            [
             0.7,
             "#b8e186"
            ],
            [
             0.8,
             "#7fbc41"
            ],
            [
             0.9,
             "#4d9221"
            ],
            [
             1,
             "#276419"
            ]
           ],
           "sequential": [
            [
             0,
             "#0d0887"
            ],
            [
             0.1111111111111111,
             "#46039f"
            ],
            [
             0.2222222222222222,
             "#7201a8"
            ],
            [
             0.3333333333333333,
             "#9c179e"
            ],
            [
             0.4444444444444444,
             "#bd3786"
            ],
            [
             0.5555555555555556,
             "#d8576b"
            ],
            [
             0.6666666666666666,
             "#ed7953"
            ],
            [
             0.7777777777777778,
             "#fb9f3a"
            ],
            [
             0.8888888888888888,
             "#fdca26"
            ],
            [
             1,
             "#f0f921"
            ]
           ],
           "sequentialminus": [
            [
             0,
             "#0d0887"
            ],
            [
             0.1111111111111111,
             "#46039f"
            ],
            [
             0.2222222222222222,
             "#7201a8"
            ],
            [
             0.3333333333333333,
             "#9c179e"
            ],
            [
             0.4444444444444444,
             "#bd3786"
            ],
            [
             0.5555555555555556,
             "#d8576b"
            ],
            [
             0.6666666666666666,
             "#ed7953"
            ],
            [
             0.7777777777777778,
             "#fb9f3a"
            ],
            [
             0.8888888888888888,
             "#fdca26"
            ],
            [
             1,
             "#f0f921"
            ]
           ]
          },
          "colorway": [
           "#636efa",
           "#EF553B",
           "#00cc96",
           "#ab63fa",
           "#FFA15A",
           "#19d3f3",
           "#FF6692",
           "#B6E880",
           "#FF97FF",
           "#FECB52"
          ],
          "font": {
           "color": "#2a3f5f"
          },
          "geo": {
           "bgcolor": "white",
           "lakecolor": "white",
           "landcolor": "#E5ECF6",
           "showlakes": true,
           "showland": true,
           "subunitcolor": "white"
          },
          "hoverlabel": {
           "align": "left"
          },
          "hovermode": "closest",
          "mapbox": {
           "style": "light"
          },
          "paper_bgcolor": "white",
          "plot_bgcolor": "#E5ECF6",
          "polar": {
           "angularaxis": {
            "gridcolor": "white",
            "linecolor": "white",
            "ticks": ""
           },
           "bgcolor": "#E5ECF6",
           "radialaxis": {
            "gridcolor": "white",
            "linecolor": "white",
            "ticks": ""
           }
          },
          "scene": {
           "xaxis": {
            "backgroundcolor": "#E5ECF6",
            "gridcolor": "white",
            "gridwidth": 2,
            "linecolor": "white",
            "showbackground": true,
            "ticks": "",
            "zerolinecolor": "white"
           },
           "yaxis": {
            "backgroundcolor": "#E5ECF6",
            "gridcolor": "white",
            "gridwidth": 2,
            "linecolor": "white",
            "showbackground": true,
            "ticks": "",
            "zerolinecolor": "white"
           },
           "zaxis": {
            "backgroundcolor": "#E5ECF6",
            "gridcolor": "white",
            "gridwidth": 2,
            "linecolor": "white",
            "showbackground": true,
            "ticks": "",
            "zerolinecolor": "white"
           }
          },
          "shapedefaults": {
           "line": {
            "color": "#2a3f5f"
           }
          },
          "ternary": {
           "aaxis": {
            "gridcolor": "white",
            "linecolor": "white",
            "ticks": ""
           },
           "baxis": {
            "gridcolor": "white",
            "linecolor": "white",
            "ticks": ""
           },
           "bgcolor": "#E5ECF6",
           "caxis": {
            "gridcolor": "white",
            "linecolor": "white",
            "ticks": ""
           }
          },
          "title": {
           "x": 0.05
          },
          "xaxis": {
           "automargin": true,
           "gridcolor": "white",
           "linecolor": "white",
           "ticks": "",
           "title": {
            "standoff": 15
           },
           "zerolinecolor": "white",
           "zerolinewidth": 2
          },
          "yaxis": {
           "automargin": true,
           "gridcolor": "white",
           "linecolor": "white",
           "ticks": "",
           "title": {
            "standoff": 15
           },
           "zerolinecolor": "white",
           "zerolinewidth": 2
          }
         }
        },
        "xaxis": {
         "anchor": "y",
         "domain": [
          0,
          1
         ],
         "title": {
          "text": "delegator_count_pct"
         }
        },
        "yaxis": {
         "anchor": "x",
         "domain": [
          0,
          1
         ],
         "title": {
          "text": "transcoders_totalVolumeETH"
         }
        }
       }
      }
     },
     "metadata": {},
     "output_type": "display_data"
    }
   ],
   "source": [
    "fig_delegator = px.scatter(\n",
    "    top_orchestrators,\n",
    "    x='delegator_count_pct',\n",
    "    y='transcoders_totalVolumeETH'\n",
    ")\n",
    "\n",
    "fig_delegator.show()"
   ]
  },
  {
   "cell_type": "markdown",
   "metadata": {},
   "source": [
    "Delegator count seems to have minimal bearing on ETH earnings by orchestrator. There are two clusters at .515 and .2 which correspond with the nominal values 2 and 1 (0 would indicate an inactive orchestrator). Removing these from the spread would likely demonstrate an even lower correlation between delegator count and transcoding earnings."
   ]
  },
  {
   "cell_type": "code",
   "execution_count": 107,
   "metadata": {},
   "outputs": [
    {
     "data": {
      "application/vnd.plotly.v1+json": {
       "config": {
        "plotlyServerURL": "https://plot.ly"
       },
       "data": [
        {
         "hovertemplate": "transcoders_totalStake_pct=%{x}<br>transcoders_totalVolumeETH=%{y}<extra></extra>",
         "legendgroup": "",
         "marker": {
          "color": "#636efa",
          "symbol": "circle"
         },
         "mode": "markers",
         "name": "",
         "orientation": "v",
         "showlegend": false,
         "type": "scatter",
         "x": [
          1,
          0.99,
          0.98,
          0.97,
          0.96,
          0.95,
          0.94,
          0.93,
          0.92,
          0.91,
          0.9,
          0.89,
          0.88,
          0.87,
          0.86,
          0.85,
          0.84,
          0.83,
          0.82,
          0.81,
          0.8,
          0.79,
          0.78,
          0.77,
          0.76,
          0.75,
          0.74,
          0.73,
          0.72,
          0.71,
          0.7,
          0.69,
          0.68,
          0.67,
          0.66,
          0.65,
          0.64,
          0.63,
          0.62,
          0.61,
          0.6,
          0.59,
          0.58,
          0.57,
          0.56,
          0.55,
          0.54,
          0.53,
          0.52,
          0.51,
          0.5,
          0.49,
          0.48,
          0.47,
          0.46,
          0.45,
          0.44,
          0.43,
          0.42,
          0.41,
          0.4,
          0.39,
          0.38,
          0.37,
          0.36,
          0.35,
          0.34,
          0.33,
          0.32,
          0.31,
          0.3,
          0.29,
          0.28,
          0.27,
          0.26,
          0.25,
          0.24,
          0.23,
          0.22,
          0.21,
          0.2,
          0.19,
          0.18,
          0.17,
          0.16,
          0.15,
          0.14,
          0.13,
          0.12,
          0.11,
          0.1,
          0.09,
          0.08,
          0.07,
          0.06,
          0.05,
          0.04,
          0.03,
          0.02,
          0.01
         ],
         "xaxis": "x",
         "y": [
          8.001220339565128,
          0.7228952204581742,
          21.328401540940824,
          0.6501952085181899,
          3.1145518766947338,
          0,
          0.6282428322439,
          0,
          1.0934626206988887,
          10.829664837070212,
          7.886876741380786,
          0.01,
          2.3231318361146904,
          0,
          11.67208765219246,
          0.18181818181818182,
          0.7107542819499342,
          4.69697825730072,
          10.954910405070933,
          2.2046152598460966,
          13.753364536091059,
          1.0873851921274602,
          8.694451495159132,
          5.483521700054829,
          2.483409999448084,
          0.9923001434102267,
          2.46984386552953,
          1.4436363636363636,
          3.8265885660731023,
          3.8290162177723754,
          4.336476101218369,
          2.3605670103092784,
          0.7218181818181818,
          1.8054545454545454,
          0.11130434782608695,
          1.9836363636363636,
          0,
          0.18,
          0,
          0,
          2.8723499142367066,
          0,
          0,
          0.029565217391304344,
          0,
          0,
          0.5418181818181819,
          0.5682189239332096,
          0,
          0.36,
          0.36,
          0.18,
          0.36,
          1.4418181818181819,
          0.5418181818181819,
          0.18,
          0,
          0,
          0,
          0.5436363636363636,
          0.18,
          0,
          0,
          0.18,
          0,
          0,
          0.72,
          0.18,
          0.18,
          0.36,
          0.18181818181818182,
          0.38729763387297633,
          0.1875,
          0.54,
          0.18,
          0.9018181818181819,
          0,
          1.2882380631729475,
          0,
          0,
          0.20454745454545453,
          0.18,
          0.180001,
          0.9018181818181819,
          0,
          0.36,
          0.18,
          0.18,
          0.9,
          0.9018181818181819,
          0.18,
          0,
          0,
          0,
          0.18,
          0,
          0.729165120593692,
          0.9093181818181818,
          0,
          1.5508956916099774
         ],
         "yaxis": "y"
        }
       ],
       "layout": {
        "legend": {
         "tracegroupgap": 0
        },
        "margin": {
         "t": 60
        },
        "template": {
         "data": {
          "bar": [
           {
            "error_x": {
             "color": "#2a3f5f"
            },
            "error_y": {
             "color": "#2a3f5f"
            },
            "marker": {
             "line": {
              "color": "#E5ECF6",
              "width": 0.5
             },
             "pattern": {
              "fillmode": "overlay",
              "size": 10,
              "solidity": 0.2
             }
            },
            "type": "bar"
           }
          ],
          "barpolar": [
           {
            "marker": {
             "line": {
              "color": "#E5ECF6",
              "width": 0.5
             },
             "pattern": {
              "fillmode": "overlay",
              "size": 10,
              "solidity": 0.2
             }
            },
            "type": "barpolar"
           }
          ],
          "carpet": [
           {
            "aaxis": {
             "endlinecolor": "#2a3f5f",
             "gridcolor": "white",
             "linecolor": "white",
             "minorgridcolor": "white",
             "startlinecolor": "#2a3f5f"
            },
            "baxis": {
             "endlinecolor": "#2a3f5f",
             "gridcolor": "white",
             "linecolor": "white",
             "minorgridcolor": "white",
             "startlinecolor": "#2a3f5f"
            },
            "type": "carpet"
           }
          ],
          "choropleth": [
           {
            "colorbar": {
             "outlinewidth": 0,
             "ticks": ""
            },
            "type": "choropleth"
           }
          ],
          "contour": [
           {
            "colorbar": {
             "outlinewidth": 0,
             "ticks": ""
            },
            "colorscale": [
             [
              0,
              "#0d0887"
             ],
             [
              0.1111111111111111,
              "#46039f"
             ],
             [
              0.2222222222222222,
              "#7201a8"
             ],
             [
              0.3333333333333333,
              "#9c179e"
             ],
             [
              0.4444444444444444,
              "#bd3786"
             ],
             [
              0.5555555555555556,
              "#d8576b"
             ],
             [
              0.6666666666666666,
              "#ed7953"
             ],
             [
              0.7777777777777778,
              "#fb9f3a"
             ],
             [
              0.8888888888888888,
              "#fdca26"
             ],
             [
              1,
              "#f0f921"
             ]
            ],
            "type": "contour"
           }
          ],
          "contourcarpet": [
           {
            "colorbar": {
             "outlinewidth": 0,
             "ticks": ""
            },
            "type": "contourcarpet"
           }
          ],
          "heatmap": [
           {
            "colorbar": {
             "outlinewidth": 0,
             "ticks": ""
            },
            "colorscale": [
             [
              0,
              "#0d0887"
             ],
             [
              0.1111111111111111,
              "#46039f"
             ],
             [
              0.2222222222222222,
              "#7201a8"
             ],
             [
              0.3333333333333333,
              "#9c179e"
             ],
             [
              0.4444444444444444,
              "#bd3786"
             ],
             [
              0.5555555555555556,
              "#d8576b"
             ],
             [
              0.6666666666666666,
              "#ed7953"
             ],
             [
              0.7777777777777778,
              "#fb9f3a"
             ],
             [
              0.8888888888888888,
              "#fdca26"
             ],
             [
              1,
              "#f0f921"
             ]
            ],
            "type": "heatmap"
           }
          ],
          "heatmapgl": [
           {
            "colorbar": {
             "outlinewidth": 0,
             "ticks": ""
            },
            "colorscale": [
             [
              0,
              "#0d0887"
             ],
             [
              0.1111111111111111,
              "#46039f"
             ],
             [
              0.2222222222222222,
              "#7201a8"
             ],
             [
              0.3333333333333333,
              "#9c179e"
             ],
             [
              0.4444444444444444,
              "#bd3786"
             ],
             [
              0.5555555555555556,
              "#d8576b"
             ],
             [
              0.6666666666666666,
              "#ed7953"
             ],
             [
              0.7777777777777778,
              "#fb9f3a"
             ],
             [
              0.8888888888888888,
              "#fdca26"
             ],
             [
              1,
              "#f0f921"
             ]
            ],
            "type": "heatmapgl"
           }
          ],
          "histogram": [
           {
            "marker": {
             "pattern": {
              "fillmode": "overlay",
              "size": 10,
              "solidity": 0.2
             }
            },
            "type": "histogram"
           }
          ],
          "histogram2d": [
           {
            "colorbar": {
             "outlinewidth": 0,
             "ticks": ""
            },
            "colorscale": [
             [
              0,
              "#0d0887"
             ],
             [
              0.1111111111111111,
              "#46039f"
             ],
             [
              0.2222222222222222,
              "#7201a8"
             ],
             [
              0.3333333333333333,
              "#9c179e"
             ],
             [
              0.4444444444444444,
              "#bd3786"
             ],
             [
              0.5555555555555556,
              "#d8576b"
             ],
             [
              0.6666666666666666,
              "#ed7953"
             ],
             [
              0.7777777777777778,
              "#fb9f3a"
             ],
             [
              0.8888888888888888,
              "#fdca26"
             ],
             [
              1,
              "#f0f921"
             ]
            ],
            "type": "histogram2d"
           }
          ],
          "histogram2dcontour": [
           {
            "colorbar": {
             "outlinewidth": 0,
             "ticks": ""
            },
            "colorscale": [
             [
              0,
              "#0d0887"
             ],
             [
              0.1111111111111111,
              "#46039f"
             ],
             [
              0.2222222222222222,
              "#7201a8"
             ],
             [
              0.3333333333333333,
              "#9c179e"
             ],
             [
              0.4444444444444444,
              "#bd3786"
             ],
             [
              0.5555555555555556,
              "#d8576b"
             ],
             [
              0.6666666666666666,
              "#ed7953"
             ],
             [
              0.7777777777777778,
              "#fb9f3a"
             ],
             [
              0.8888888888888888,
              "#fdca26"
             ],
             [
              1,
              "#f0f921"
             ]
            ],
            "type": "histogram2dcontour"
           }
          ],
          "mesh3d": [
           {
            "colorbar": {
             "outlinewidth": 0,
             "ticks": ""
            },
            "type": "mesh3d"
           }
          ],
          "parcoords": [
           {
            "line": {
             "colorbar": {
              "outlinewidth": 0,
              "ticks": ""
             }
            },
            "type": "parcoords"
           }
          ],
          "pie": [
           {
            "automargin": true,
            "type": "pie"
           }
          ],
          "scatter": [
           {
            "marker": {
             "colorbar": {
              "outlinewidth": 0,
              "ticks": ""
             }
            },
            "type": "scatter"
           }
          ],
          "scatter3d": [
           {
            "line": {
             "colorbar": {
              "outlinewidth": 0,
              "ticks": ""
             }
            },
            "marker": {
             "colorbar": {
              "outlinewidth": 0,
              "ticks": ""
             }
            },
            "type": "scatter3d"
           }
          ],
          "scattercarpet": [
           {
            "marker": {
             "colorbar": {
              "outlinewidth": 0,
              "ticks": ""
             }
            },
            "type": "scattercarpet"
           }
          ],
          "scattergeo": [
           {
            "marker": {
             "colorbar": {
              "outlinewidth": 0,
              "ticks": ""
             }
            },
            "type": "scattergeo"
           }
          ],
          "scattergl": [
           {
            "marker": {
             "colorbar": {
              "outlinewidth": 0,
              "ticks": ""
             }
            },
            "type": "scattergl"
           }
          ],
          "scattermapbox": [
           {
            "marker": {
             "colorbar": {
              "outlinewidth": 0,
              "ticks": ""
             }
            },
            "type": "scattermapbox"
           }
          ],
          "scatterpolar": [
           {
            "marker": {
             "colorbar": {
              "outlinewidth": 0,
              "ticks": ""
             }
            },
            "type": "scatterpolar"
           }
          ],
          "scatterpolargl": [
           {
            "marker": {
             "colorbar": {
              "outlinewidth": 0,
              "ticks": ""
             }
            },
            "type": "scatterpolargl"
           }
          ],
          "scatterternary": [
           {
            "marker": {
             "colorbar": {
              "outlinewidth": 0,
              "ticks": ""
             }
            },
            "type": "scatterternary"
           }
          ],
          "surface": [
           {
            "colorbar": {
             "outlinewidth": 0,
             "ticks": ""
            },
            "colorscale": [
             [
              0,
              "#0d0887"
             ],
             [
              0.1111111111111111,
              "#46039f"
             ],
             [
              0.2222222222222222,
              "#7201a8"
             ],
             [
              0.3333333333333333,
              "#9c179e"
             ],
             [
              0.4444444444444444,
              "#bd3786"
             ],
             [
              0.5555555555555556,
              "#d8576b"
             ],
             [
              0.6666666666666666,
              "#ed7953"
             ],
             [
              0.7777777777777778,
              "#fb9f3a"
             ],
             [
              0.8888888888888888,
              "#fdca26"
             ],
             [
              1,
              "#f0f921"
             ]
            ],
            "type": "surface"
           }
          ],
          "table": [
           {
            "cells": {
             "fill": {
              "color": "#EBF0F8"
             },
             "line": {
              "color": "white"
             }
            },
            "header": {
             "fill": {
              "color": "#C8D4E3"
             },
             "line": {
              "color": "white"
             }
            },
            "type": "table"
           }
          ]
         },
         "layout": {
          "annotationdefaults": {
           "arrowcolor": "#2a3f5f",
           "arrowhead": 0,
           "arrowwidth": 1
          },
          "autotypenumbers": "strict",
          "coloraxis": {
           "colorbar": {
            "outlinewidth": 0,
            "ticks": ""
           }
          },
          "colorscale": {
           "diverging": [
            [
             0,
             "#8e0152"
            ],
            [
             0.1,
             "#c51b7d"
            ],
            [
             0.2,
             "#de77ae"
            ],
            [
             0.3,
             "#f1b6da"
            ],
            [
             0.4,
             "#fde0ef"
            ],
            [
             0.5,
             "#f7f7f7"
            ],
            [
             0.6,
             "#e6f5d0"
            ],
            [
             0.7,
             "#b8e186"
            ],
            [
             0.8,
             "#7fbc41"
            ],
            [
             0.9,
             "#4d9221"
            ],
            [
             1,
             "#276419"
            ]
           ],
           "sequential": [
            [
             0,
             "#0d0887"
            ],
            [
             0.1111111111111111,
             "#46039f"
            ],
            [
             0.2222222222222222,
             "#7201a8"
            ],
            [
             0.3333333333333333,
             "#9c179e"
            ],
            [
             0.4444444444444444,
             "#bd3786"
            ],
            [
             0.5555555555555556,
             "#d8576b"
            ],
            [
             0.6666666666666666,
             "#ed7953"
            ],
            [
             0.7777777777777778,
             "#fb9f3a"
            ],
            [
             0.8888888888888888,
             "#fdca26"
            ],
            [
             1,
             "#f0f921"
            ]
           ],
           "sequentialminus": [
            [
             0,
             "#0d0887"
            ],
            [
             0.1111111111111111,
             "#46039f"
            ],
            [
             0.2222222222222222,
             "#7201a8"
            ],
            [
             0.3333333333333333,
             "#9c179e"
            ],
            [
             0.4444444444444444,
             "#bd3786"
            ],
            [
             0.5555555555555556,
             "#d8576b"
            ],
            [
             0.6666666666666666,
             "#ed7953"
            ],
            [
             0.7777777777777778,
             "#fb9f3a"
            ],
            [
             0.8888888888888888,
             "#fdca26"
            ],
            [
             1,
             "#f0f921"
            ]
           ]
          },
          "colorway": [
           "#636efa",
           "#EF553B",
           "#00cc96",
           "#ab63fa",
           "#FFA15A",
           "#19d3f3",
           "#FF6692",
           "#B6E880",
           "#FF97FF",
           "#FECB52"
          ],
          "font": {
           "color": "#2a3f5f"
          },
          "geo": {
           "bgcolor": "white",
           "lakecolor": "white",
           "landcolor": "#E5ECF6",
           "showlakes": true,
           "showland": true,
           "subunitcolor": "white"
          },
          "hoverlabel": {
           "align": "left"
          },
          "hovermode": "closest",
          "mapbox": {
           "style": "light"
          },
          "paper_bgcolor": "white",
          "plot_bgcolor": "#E5ECF6",
          "polar": {
           "angularaxis": {
            "gridcolor": "white",
            "linecolor": "white",
            "ticks": ""
           },
           "bgcolor": "#E5ECF6",
           "radialaxis": {
            "gridcolor": "white",
            "linecolor": "white",
            "ticks": ""
           }
          },
          "scene": {
           "xaxis": {
            "backgroundcolor": "#E5ECF6",
            "gridcolor": "white",
            "gridwidth": 2,
            "linecolor": "white",
            "showbackground": true,
            "ticks": "",
            "zerolinecolor": "white"
           },
           "yaxis": {
            "backgroundcolor": "#E5ECF6",
            "gridcolor": "white",
            "gridwidth": 2,
            "linecolor": "white",
            "showbackground": true,
            "ticks": "",
            "zerolinecolor": "white"
           },
           "zaxis": {
            "backgroundcolor": "#E5ECF6",
            "gridcolor": "white",
            "gridwidth": 2,
            "linecolor": "white",
            "showbackground": true,
            "ticks": "",
            "zerolinecolor": "white"
           }
          },
          "shapedefaults": {
           "line": {
            "color": "#2a3f5f"
           }
          },
          "ternary": {
           "aaxis": {
            "gridcolor": "white",
            "linecolor": "white",
            "ticks": ""
           },
           "baxis": {
            "gridcolor": "white",
            "linecolor": "white",
            "ticks": ""
           },
           "bgcolor": "#E5ECF6",
           "caxis": {
            "gridcolor": "white",
            "linecolor": "white",
            "ticks": ""
           }
          },
          "title": {
           "x": 0.05
          },
          "xaxis": {
           "automargin": true,
           "gridcolor": "white",
           "linecolor": "white",
           "ticks": "",
           "title": {
            "standoff": 15
           },
           "zerolinecolor": "white",
           "zerolinewidth": 2
          },
          "yaxis": {
           "automargin": true,
           "gridcolor": "white",
           "linecolor": "white",
           "ticks": "",
           "title": {
            "standoff": 15
           },
           "zerolinecolor": "white",
           "zerolinewidth": 2
          }
         }
        },
        "xaxis": {
         "anchor": "y",
         "domain": [
          0,
          1
         ],
         "title": {
          "text": "transcoders_totalStake_pct"
         }
        },
        "yaxis": {
         "anchor": "x",
         "domain": [
          0,
          1
         ],
         "title": {
          "text": "transcoders_totalVolumeETH"
         }
        }
       }
      }
     },
     "metadata": {},
     "output_type": "display_data"
    }
   ],
   "source": [
    "fig_stake = px.scatter(\n",
    "    top_orchestrators,\n",
    "    x='transcoders_totalStake_pct',\n",
    "    y='transcoders_totalVolumeETH'\n",
    ")\n",
    "\n",
    "fig_stake.show()"
   ]
  },
  {
   "cell_type": "markdown",
   "metadata": {},
   "source": [
    "Finally, there is some indication of importance to stake amount and the work on the network (as inferred from fee generation). However, it would appear all nodes in the top quartile have similar earning potential."
   ]
  }
 ],
 "metadata": {
  "interpreter": {
   "hash": "563be840b653d6630c07a864b812e97ed841739b8fd8cc2197c5e70bf46d08df"
  },
  "kernelspec": {
   "display_name": "Python 3.10.2 ('lptenv': venv)",
   "language": "python",
   "name": "python3"
  },
  "language_info": {
   "codemirror_mode": {
    "name": "ipython",
    "version": 3
   },
   "file_extension": ".py",
   "mimetype": "text/x-python",
   "name": "python",
   "nbconvert_exporter": "python",
   "pygments_lexer": "ipython3",
   "version": "3.10.2"
  },
  "orig_nbformat": 4
 },
 "nbformat": 4,
 "nbformat_minor": 2
}
